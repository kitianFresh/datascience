{
 "cells": [
  {
   "cell_type": "code",
   "execution_count": 1,
   "metadata": {
    "collapsed": true,
    "deletable": true,
    "editable": true
   },
   "outputs": [],
   "source": [
    "import jieba\n",
    "import pandas as pd\n",
    "from collections import Counter\n",
    "data_path = './data/news.csv'"
   ]
  },
  {
   "cell_type": "code",
   "execution_count": 2,
   "metadata": {
    "collapsed": true,
    "deletable": true,
    "editable": true
   },
   "outputs": [],
   "source": [
    "df = pd.read_csv(data_path, encoding=\"gb18030\")"
   ]
  },
  {
   "cell_type": "code",
   "execution_count": 4,
   "metadata": {
    "collapsed": false,
    "deletable": true,
    "editable": true
   },
   "outputs": [
    {
     "data": {
      "text/html": [
       "<div>\n",
       "<style>\n",
       "    .dataframe thead tr:only-child th {\n",
       "        text-align: right;\n",
       "    }\n",
       "\n",
       "    .dataframe thead th {\n",
       "        text-align: left;\n",
       "    }\n",
       "\n",
       "    .dataframe tbody tr th {\n",
       "        vertical-align: top;\n",
       "    }\n",
       "</style>\n",
       "<table border=\"1\" class=\"dataframe\">\n",
       "  <thead>\n",
       "    <tr style=\"text-align: right;\">\n",
       "      <th></th>\n",
       "      <th>id</th>\n",
       "      <th>author</th>\n",
       "      <th>source</th>\n",
       "      <th>content</th>\n",
       "      <th>feature</th>\n",
       "      <th>title</th>\n",
       "      <th>url</th>\n",
       "    </tr>\n",
       "  </thead>\n",
       "  <tbody>\n",
       "    <tr>\n",
       "      <th>0</th>\n",
       "      <td>89617</td>\n",
       "      <td>NaN</td>\n",
       "      <td>快科技@http://www.kkj.cn/</td>\n",
       "      <td>此外，自本周（6月12日）起，除小米手机6等15款机型外，其余机型已暂停更新发布（含开发版/...</td>\n",
       "      <td>{\"type\":\"科技\",\"site\":\"cnbeta\",\"commentNum\":\"37\"...</td>\n",
       "      <td>小米MIUI 9首批机型曝光：共计15款</td>\n",
       "      <td>http://www.cnbeta.com/articles/tech/623597.htm</td>\n",
       "    </tr>\n",
       "    <tr>\n",
       "      <th>1</th>\n",
       "      <td>89616</td>\n",
       "      <td>NaN</td>\n",
       "      <td>快科技@http://www.kkj.cn/</td>\n",
       "      <td>骁龙835作为唯一通过Windows 10桌面平台认证的ARM处理器，高通强调，不会因为只考...</td>\n",
       "      <td>{\"type\":\"科技\",\"site\":\"cnbeta\",\"commentNum\":\"15\"...</td>\n",
       "      <td>骁龙835在Windows 10上的性能表现有望改善</td>\n",
       "      <td>http://www.cnbeta.com/articles/tech/623599.htm</td>\n",
       "    </tr>\n",
       "    <tr>\n",
       "      <th>2</th>\n",
       "      <td>89615</td>\n",
       "      <td>NaN</td>\n",
       "      <td>快科技@http://www.kkj.cn/</td>\n",
       "      <td>此前的一加3T搭载的是3400mAh电池，DashCharge快充规格为5V/4A。\\r\\n...</td>\n",
       "      <td>{\"type\":\"科技\",\"site\":\"cnbeta\",\"commentNum\":\"18\"...</td>\n",
       "      <td>一加手机5细节曝光：3300mAh、充半小时用1天</td>\n",
       "      <td>http://www.cnbeta.com/articles/tech/623601.htm</td>\n",
       "    </tr>\n",
       "    <tr>\n",
       "      <th>3</th>\n",
       "      <td>89614</td>\n",
       "      <td>NaN</td>\n",
       "      <td>新华社</td>\n",
       "      <td>这是6月18日在葡萄牙中部大佩德罗冈地区拍摄的被森林大火烧毁的汽车。新华社记者张立云摄\\r\\n</td>\n",
       "      <td>{\"type\":\"国际新闻\",\"site\":\"环球\",\"commentNum\":\"0\",\"j...</td>\n",
       "      <td>葡森林火灾造成至少62人死亡 政府宣布进入紧急状态（组图）</td>\n",
       "      <td>http://world.huanqiu.com/hot/2017-06/10866126....</td>\n",
       "    </tr>\n",
       "    <tr>\n",
       "      <th>4</th>\n",
       "      <td>89613</td>\n",
       "      <td>胡淑丽_MN7479</td>\n",
       "      <td>深圳大件事</td>\n",
       "      <td>（原标题：44岁女子跑深圳约会网友被拒，暴雨中裸身奔走……）\\r\\n@深圳交警微博称：昨日清...</td>\n",
       "      <td>{\"type\":\"新闻\",\"site\":\"网易热门\",\"commentNum\":\"978\",...</td>\n",
       "      <td>44岁女子约网友被拒暴雨中裸奔 交警为其披衣相随</td>\n",
       "      <td>http://news.163.com/17/0618/00/CN617P3Q0001875...</td>\n",
       "    </tr>\n",
       "  </tbody>\n",
       "</table>\n",
       "</div>"
      ],
      "text/plain": [
       "      id      author                  source  \\\n",
       "0  89617         NaN  快科技@http://www.kkj.cn/   \n",
       "1  89616         NaN  快科技@http://www.kkj.cn/   \n",
       "2  89615         NaN  快科技@http://www.kkj.cn/   \n",
       "3  89614         NaN                     新华社   \n",
       "4  89613  胡淑丽_MN7479                   深圳大件事   \n",
       "\n",
       "                                             content  \\\n",
       "0  此外，自本周（6月12日）起，除小米手机6等15款机型外，其余机型已暂停更新发布（含开发版/...   \n",
       "1  骁龙835作为唯一通过Windows 10桌面平台认证的ARM处理器，高通强调，不会因为只考...   \n",
       "2  此前的一加3T搭载的是3400mAh电池，DashCharge快充规格为5V/4A。\\r\\n...   \n",
       "3    这是6月18日在葡萄牙中部大佩德罗冈地区拍摄的被森林大火烧毁的汽车。新华社记者张立云摄\\r\\n   \n",
       "4  （原标题：44岁女子跑深圳约会网友被拒，暴雨中裸身奔走……）\\r\\n@深圳交警微博称：昨日清...   \n",
       "\n",
       "                                             feature  \\\n",
       "0  {\"type\":\"科技\",\"site\":\"cnbeta\",\"commentNum\":\"37\"...   \n",
       "1  {\"type\":\"科技\",\"site\":\"cnbeta\",\"commentNum\":\"15\"...   \n",
       "2  {\"type\":\"科技\",\"site\":\"cnbeta\",\"commentNum\":\"18\"...   \n",
       "3  {\"type\":\"国际新闻\",\"site\":\"环球\",\"commentNum\":\"0\",\"j...   \n",
       "4  {\"type\":\"新闻\",\"site\":\"网易热门\",\"commentNum\":\"978\",...   \n",
       "\n",
       "                           title  \\\n",
       "0           小米MIUI 9首批机型曝光：共计15款   \n",
       "1     骁龙835在Windows 10上的性能表现有望改善   \n",
       "2      一加手机5细节曝光：3300mAh、充半小时用1天   \n",
       "3  葡森林火灾造成至少62人死亡 政府宣布进入紧急状态（组图）   \n",
       "4       44岁女子约网友被拒暴雨中裸奔 交警为其披衣相随   \n",
       "\n",
       "                                                 url  \n",
       "0     http://www.cnbeta.com/articles/tech/623597.htm  \n",
       "1     http://www.cnbeta.com/articles/tech/623599.htm  \n",
       "2     http://www.cnbeta.com/articles/tech/623601.htm  \n",
       "3  http://world.huanqiu.com/hot/2017-06/10866126....  \n",
       "4  http://news.163.com/17/0618/00/CN617P3Q0001875...  "
      ]
     },
     "execution_count": 4,
     "metadata": {},
     "output_type": "execute_result"
    }
   ],
   "source": [
    "df.head()"
   ]
  },
  {
   "cell_type": "code",
   "execution_count": 6,
   "metadata": {
    "collapsed": false,
    "deletable": true,
    "editable": true
   },
   "outputs": [
    {
     "data": {
      "text/plain": [
       "Index([u'id', u'author', u'source', u'content', u'feature', u'title', u'url'], dtype='object')"
      ]
     },
     "execution_count": 6,
     "metadata": {},
     "output_type": "execute_result"
    }
   ],
   "source": [
    "df.columns"
   ]
  },
  {
   "cell_type": "code",
   "execution_count": 7,
   "metadata": {
    "collapsed": false,
    "deletable": true,
    "editable": true
   },
   "outputs": [
    {
     "data": {
      "text/html": [
       "<div>\n",
       "<style>\n",
       "    .dataframe thead tr:only-child th {\n",
       "        text-align: right;\n",
       "    }\n",
       "\n",
       "    .dataframe thead th {\n",
       "        text-align: left;\n",
       "    }\n",
       "\n",
       "    .dataframe tbody tr th {\n",
       "        vertical-align: top;\n",
       "    }\n",
       "</style>\n",
       "<table border=\"1\" class=\"dataframe\">\n",
       "  <thead>\n",
       "    <tr style=\"text-align: right;\">\n",
       "      <th></th>\n",
       "      <th>id</th>\n",
       "      <th>author</th>\n",
       "      <th>source</th>\n",
       "      <th>content</th>\n",
       "      <th>feature</th>\n",
       "      <th>title</th>\n",
       "      <th>url</th>\n",
       "    </tr>\n",
       "  </thead>\n",
       "  <tbody>\n",
       "    <tr>\n",
       "      <th>3</th>\n",
       "      <td>89614</td>\n",
       "      <td>NaN</td>\n",
       "      <td>新华社</td>\n",
       "      <td>这是6月18日在葡萄牙中部大佩德罗冈地区拍摄的被森林大火烧毁的汽车。新华社记者张立云摄\\r\\n</td>\n",
       "      <td>{\"type\":\"国际新闻\",\"site\":\"环球\",\"commentNum\":\"0\",\"j...</td>\n",
       "      <td>葡森林火灾造成至少62人死亡 政府宣布进入紧急状态（组图）</td>\n",
       "      <td>http://world.huanqiu.com/hot/2017-06/10866126....</td>\n",
       "    </tr>\n",
       "  </tbody>\n",
       "</table>\n",
       "</div>"
      ],
      "text/plain": [
       "      id author source                                          content  \\\n",
       "3  89614    NaN    新华社  这是6月18日在葡萄牙中部大佩德罗冈地区拍摄的被森林大火烧毁的汽车。新华社记者张立云摄\\r\\n   \n",
       "\n",
       "                                             feature  \\\n",
       "3  {\"type\":\"国际新闻\",\"site\":\"环球\",\"commentNum\":\"0\",\"j...   \n",
       "\n",
       "                           title  \\\n",
       "3  葡森林火灾造成至少62人死亡 政府宣布进入紧急状态（组图）   \n",
       "\n",
       "                                                 url  \n",
       "3  http://world.huanqiu.com/hot/2017-06/10866126....  "
      ]
     },
     "execution_count": 7,
     "metadata": {},
     "output_type": "execute_result"
    }
   ],
   "source": [
    "df[df['source'] == u'新华社'].head(1)"
   ]
  },
  {
   "cell_type": "code",
   "execution_count": 8,
   "metadata": {
    "collapsed": false,
    "deletable": true,
    "editable": true
   },
   "outputs": [
    {
     "name": "stdout",
     "output_type": "stream",
     "text": [
      "<type 'unicode'>\n"
     ]
    }
   ],
   "source": [
    "import re\n",
    "puncts = \"[\\s+\\.\\!\\/_,$%^*(+\\\"\\']+|[+——！，。？、~@#￥%……&*（）]+\"\n",
    "text0 = df.iloc[0].content\n",
    "print type(text0)\n",
    "text = re.sub(puncts.decode('utf8'), \"\".decode('utf8'), text0)"
   ]
  },
  {
   "cell_type": "code",
   "execution_count": 9,
   "metadata": {
    "collapsed": false,
    "deletable": true,
    "editable": true
   },
   "outputs": [
    {
     "name": "stdout",
     "output_type": "stream",
     "text": [
      "此外自本周6月12日起除小米手机6等15款机型外其余机型已暂停更新发布含开发版体验版内测稳定版暂不受影响以确保工程师可以集中全部精力进行系统优化工作有人猜测这也是将精力主要用到MIUI9的研发之中MIUI8去年5月发布距今已有一年有余也是时候更新换代了当然关于MIUI9的确切信息我们还是等待官方消息\n"
     ]
    }
   ],
   "source": [
    "print text"
   ]
  },
  {
   "cell_type": "code",
   "execution_count": 10,
   "metadata": {
    "collapsed": false,
    "deletable": true,
    "editable": true
   },
   "outputs": [
    {
     "name": "stderr",
     "output_type": "stream",
     "text": [
      "Building prefix dict from the default dictionary ...\n",
      "Dumping model to file cache /var/folders/bb/ywfc1vbs5lx_blqpl5ssrvv40000gp/T/jieba.cache\n",
      "Loading model cost 1.800 seconds.\n",
      "Prefix dict has been built succesfully.\n"
     ]
    },
    {
     "name": "stdout",
     "output_type": "stream",
     "text": [
      "此外\n",
      "自\n",
      "本周\n",
      "6\n",
      "月\n",
      "12\n",
      "日起\n",
      "除\n",
      "小米\n",
      "手机\n",
      "6\n",
      "等\n",
      "15\n",
      "款\n",
      "机型\n",
      "外\n",
      "其余\n",
      "机型\n",
      "已\n",
      "暂停\n",
      "更新\n",
      "发布\n",
      "含\n",
      "开发\n",
      "版\n",
      "体验版\n",
      "内测\n",
      "稳定版\n",
      "暂不受\n",
      "影响\n",
      "以\n",
      "确保\n",
      "工程师\n",
      "可以\n",
      "集中\n",
      "全部\n",
      "精力\n",
      "进行\n",
      "系统优化\n",
      "工作\n",
      "有人\n",
      "猜测\n",
      "这\n",
      "也\n",
      "是\n",
      "将\n",
      "精力\n",
      "主要\n",
      "用到\n",
      "MIUI9\n",
      "的\n",
      "研发\n",
      "之中\n",
      "MIUI8\n",
      "去年\n",
      "5\n",
      "月\n",
      "发布\n",
      "距今已有\n",
      "一年\n",
      "有余\n",
      "也\n",
      "是\n",
      "时候\n",
      "更新换代\n",
      "了\n",
      "当然\n",
      "关于\n",
      "MIUI9\n",
      "的\n",
      "确切\n",
      "信息\n",
      "我们\n",
      "还是\n",
      "等待\n",
      "官方消息\n"
     ]
    }
   ],
   "source": [
    "document0 = [word for word in jieba.cut(text)]\n",
    "for word in document0:\n",
    "    print word"
   ]
  },
  {
   "cell_type": "code",
   "execution_count": 11,
   "metadata": {
    "collapsed": true,
    "deletable": true,
    "editable": true
   },
   "outputs": [],
   "source": [
    "def remove_punct(doc):\n",
    "    puncts = \"[\\s+\\.\\!\\/_,$%^*(+\\\"\\']+|[+——！，。？、~@#￥%……&*（）]+\"\n",
    "    text = re.sub(puncts.decode('utf8'), \"\".decode('utf8'), doc)\n",
    "    return text\n",
    "\n",
    "def words(doc):\n",
    "    return [word for word in jieba.cut(remove_punct(doc))]"
   ]
  },
  {
   "cell_type": "code",
   "execution_count": 13,
   "metadata": {
    "collapsed": false,
    "deletable": true,
    "editable": true
   },
   "outputs": [
    {
     "name": "stdout",
     "output_type": "stream",
     "text": [
      "[Counter({u'\\u6bd2': 1}), Counter({u'\\u86c7': 1}), Counter({u'\\u8eb2': 1}), Counter({u'\\u8fdb': 1}), Counter({u'\\u7f1d': 1}), Counter({u'\\u9699': 1}), Counter({u'\\u4ec5': 1}), Counter({u'\\u9732': 1}), Counter({u'\\u5c3e': 1}), Counter({u'\\u5df4': 1}), Counter({u'\\u62c9': 1}), Counter({u'\\u4e0d': 1}), Counter({u'\\u51fa': 1}), Counter({u'\\u6765': 1}), Counter(), Counter({u'\\u6d88': 1}), Counter({u'\\u9632': 1}), Counter({u'\\u5458': 1}), Counter({u'\\u7528': 1}), Counter({u'\\u706b': 1}), Counter({u'\\u653b': 1}), Counter({u'1': 1}), Counter(), Counter({u'2': 1}), Counter({u'\\u7c73': 1}), Counter({u'\\u94f6': 1}), Counter({u'\\u73af': 1}), Counter({u'\\u86c7': 1}), Counter({u'\\u5c31': 1}), Counter({u'\\u64d2': 1}), Counter(), Counter(), Counter({u'\\u3000': 1}), Counter({u'\\u3000': 1}), Counter({u'\\u5e7f': 1}), Counter({u'\\u5dde': 1}), Counter({u'\\u65e5': 1}), Counter({u'\\u62a5': 1}), Counter({u'\\u8baf': 1}), Counter({u'?': 1}), Counter(), Counter({u'\\u5168': 1}), Counter({u'\\u5a92': 1}), Counter({u'\\u4f53': 1}), Counter({u'\\u8bb0': 1}), Counter({u'\\u8005': 1}), Counter({u'\\u6f58': 1}), Counter({u'\\u658c': 1}), Counter({u'?': 1}), Counter({u'\\u901a': 1}), Counter({u'\\u8baf': 1}), Counter({u'\\u5458': 1}), Counter({u'\\u6881': 1}), Counter({u'\\u6d77': 1}), Counter({u'\\u82b3': 1}), Counter(), Counter({u'\\u51af': 1}), Counter({u'\\u7389': 1}), Counter({u'\\u82b3': 1}), Counter(), Counter({u'\\u6628': 1}), Counter({u'\\u65e5': 1}), Counter(), Counter({u'\\u8bb0': 1}), Counter({u'\\u8005': 1}), Counter({u'\\u4ece': 1}), Counter({u'\\u4e2d': 1}), Counter({u'\\u5c71': 1}), Counter({u'\\u6d88': 1}), Counter({u'\\u9632': 1}), Counter({u'\\u90e8': 1}), Counter({u'\\u95e8': 1}), Counter({u'\\u83b7': 1}), Counter({u'\\u6089': 1}), Counter(), Counter({u'\\u6bd2': 1}), Counter({u'\\u86c7': 1}), Counter({u'\\u88ab': 1}), Counter({u'\\u8def': 1}), Counter({u'\\u4eba': 1}), Counter({u'\\u53d1': 1}), Counter({u'\\u73b0': 1}), Counter({u'\\u540e': 1}), Counter(), Counter({u'\\u7acb': 1}), Counter({u'\\u5373': 1}), Counter({u'\\u8eb2': 1}), Counter({u'\\u8fdb': 1}), Counter({u'\\u94c1': 1}), Counter({u'\\u68da': 1}), Counter({u'\\u7684': 1}), Counter({u'\\u7f1d': 1}), Counter({u'\\u9699': 1}), Counter({u'\\u5904': 1}), Counter(), Counter({u'\\u4ec5': 1}), Counter({u'\\u9732': 1}), Counter({u'\\u4e00': 1}), Counter({u'\\u8282': 1}), Counter({u'\\u5c3e': 1}), Counter({u'\\u5df4': 1}), Counter(), Counter({u'\\u51e0': 1}), Counter({u'\\u4e2a': 1}), Counter({u'\\u6355': 1}), Counter({u'\\u86c7': 1}), Counter({u'\\u80fd': 1}), Counter({u'\\u624b': 1}), Counter({u'\\u90fd': 1}), Counter({u'\\u62c9': 1}), Counter({u'\\u4e0d': 1}), Counter({u'\\u51fa': 1}), Counter({u'\\u6765': 1}), Counter(), Counter({u'\\u6700': 1}), Counter({u'\\u7ec8': 1}), Counter({u'\\u6d88': 1}), Counter({u'\\u9632': 1}), Counter({u'\\u961f': 1}), Counter({u'\\u5458': 1}), Counter({u'\\u60f3': 1}), Counter({u'\\u51fa': 1}), Counter({u'\\u706b': 1}), Counter({u'\\u653b': 1}), Counter({u'\\u529e': 1}), Counter({u'\\u6cd5': 1}), Counter(), Counter({u'\\u7528': 1}), Counter({u'\\u6253': 1}), Counter({u'\\u706b': 1}), Counter({u'\\u673a': 1}), Counter({u'\\u5728': 1}), Counter({u'\\u86c7': 1}), Counter({u'\\u5c3e': 1}), Counter({u'\\u6253': 1}), Counter({u'\\u706b': 1}), Counter(), Counter({u'\\u51e0': 1}), Counter({u'\\u5206': 1}), Counter({u'\\u949f': 1}), Counter({u'\\u540e': 1}), Counter({u'\\u94f6': 1}), Counter({u'\\u73af': 1}), Counter({u'\\u86c7': 1}), Counter({u'\\u201c': 1}), Counter({u'\\u675f': 1}), Counter({u'\\u624b': 1}), Counter({u'\\u5c31': 1}), Counter({u'\\u64d2': 1}), Counter({u'\\u201d': 1}), Counter(), Counter(), Counter(), Counter({u'\\u3000': 1}), Counter({u'\\u3000': 1}), Counter({u'6': 1}), Counter({u'\\u6708': 1}), Counter({u'2': 1}), Counter({u'1': 1}), Counter({u'\\u65e5': 1}), Counter({u'\\u51cc': 1}), Counter({u'\\u6668': 1}), Counter({u'0': 1}), Counter({u'\\u65f6': 1}), Counter({u'2': 1}), Counter({u'4': 1}), Counter({u'\\u5206': 1}), Counter({u'\\u5de6': 1}), Counter({u'\\u53f3': 1}), Counter(), Counter({u'\\u4e09': 1}), Counter({u'\\u89d2': 1}), Counter({u'\\u4e13': 1}), Counter({u'\\u804c': 1}), Counter({u'\\u6d88': 1}), Counter({u'\\u9632': 1}), Counter({u'\\u4e2d': 1}), Counter({u'\\u961f': 1}), Counter({u'\\u63a5': 1}), Counter({u'\\u5230': 1}), Counter({u'\\u62a5': 1}), Counter({u'\\u8b66': 1}), Counter(), Counter({u'\\u4e2d': 1}), Counter({u'\\u5c71': 1}), Counter({u'\\u5e02': 1}), Counter({u'\\u4e09': 1}), Counter({u'\\u89d2': 1}), Counter({u'\\u9547': 1}), Counter({u'\\u9ad8': 1}), Counter({u'\\u5e73': 1}), Counter({u'\\u6587': 1}), Counter({u'\\u5316': 1}), Counter({u'\\u4e2d': 1}), Counter({u'\\u5fc3': 1}), Counter({u'\\u65c1': 1}), Counter({u'\\u7684': 1}), Counter({u'\\u4e00': 1}), Counter({u'\\u4e2a': 1}), Counter({u'\\u94c1': 1}), Counter({u'\\u68da': 1}), Counter({u'\\u524d': 1}), Counter({u'\\u53d1': 1}), Counter({u'\\u73b0': 1}), Counter({u'\\u6bd2': 1}), Counter({u'\\u86c7': 1}), Counter(), Counter({u'\\u6d88': 1}), Counter({u'\\u9632': 1}), Counter({u'\\u5458': 1}), Counter({u'\\u5230': 1}), Counter({u'\\u573a': 1}), Counter({u'\\u540e': 1}), Counter({u'\\u53d1': 1}), Counter({u'\\u73b0': 1}), Counter(), Counter({u'\\u86c7': 1}), Counter({u'\\u600e': 1}), Counter({u'\\u4e48': 1}), Counter({u'\\u4e5f': 1}), Counter({u'\\u62c9': 1}), Counter({u'\\u4e0d': 1}), Counter({u'\\u51fa': 1}), Counter({u'\\u6765': 1}), Counter(), Counter({u'\\u6d88': 1}), Counter({u'\\u9632': 1}), Counter({u'\\u5458': 1}), Counter({u'\\u60f3': 1}), Counter({u'\\u51fa': 1}), Counter({u'\\u706b': 1}), Counter({u'\\u653b': 1}), Counter({u'\\u529e': 1}), Counter({u'\\u6cd5': 1}), Counter(), Counter({u'\\u628a': 1}), Counter({u'\\u86c7': 1}), Counter({u'\\u903c': 1}), Counter({u'\\u51fa': 1}), Counter({u'\\u7f1d': 1}), Counter({u'\\u9699': 1}), Counter({u'\\u5236': 1}), Counter({u'\\u670d': 1}), Counter(), Counter({u'\\u636e': 1}), Counter({u'\\u89c2': 1}), Counter({u'\\u5bdf': 1}), Counter(), Counter({u'\\u8fd9': 1}), Counter({u'\\u662f': 1}), Counter({u'\\u4e00': 1}), Counter({u'\\u6761': 1}), Counter({u'\\u94f6': 1}), Counter({u'\\u73af': 1}), Counter({u'\\u86c7': 1}), Counter(), Counter({u'\\u6709': 1}), Counter({u'\\u6bd2': 1}), Counter(), Counter({u'\\u7ea6': 1}), Counter({u'1': 1}), Counter(), Counter({u'2': 1}), Counter({u'\\u7c73': 1}), Counter({u'\\u957f': 1}), Counter(), Counter({u'\\u6d88': 1}), Counter({u'\\u9632': 1}), Counter({u'\\u90e8': 1}), Counter({u'\\u95e8': 1}), Counter({u'\\u63d0': 1}), Counter({u'\\u9192': 1}), Counter(), Counter({u'\\u590f': 1}), Counter({u'\\u5b63': 1}), Counter({u'\\u86c7': 1}), Counter({u'\\u7c7b': 1}), Counter({u'\\u6d3b': 1}), Counter({u'\\u8dc3': 1}), Counter(), Counter({u'\\u53d1': 1}), Counter({u'\\u73b0': 1}), Counter({u'\\u6709': 1}), Counter({u'\\u86c7': 1}), Counter({u'\\u51fa': 1}), Counter({u'\\u6ca1': 1}), Counter(), Counter({u'\\u5e94': 1}), Counter({u'\\u627e': 1}), Counter({u'\\u4e13': 1}), Counter({u'\\u4e1a': 1}), Counter({u'\\u4eba': 1}), Counter({u'\\u58eb': 1}), Counter({u'\\u6216': 1}), Counter({u'\\u5411': 1}), Counter({u'\\u6d88': 1}), Counter({u'\\u9632': 1}), Counter({u'\\u90e8': 1}), Counter({u'\\u95e8': 1}), Counter({u'\\u6c42': 1}), Counter({u'\\u52a9': 1}), Counter(), Counter(), Counter()]\n"
     ]
    }
   ],
   "source": [
    "def term_freq(document):\n",
    "    return Counter(document)\n",
    "\n",
    "document_counter = [term_freq(remove_punct(doc)) for doc in df['content'][5000] if isinstance(doc, unicode) and doc != '']\n",
    "print document_counter"
   ]
  },
  {
   "cell_type": "code",
   "execution_count": 131,
   "metadata": {
    "collapsed": true,
    "deletable": true,
    "editable": true
   },
   "outputs": [],
   "source": [
    "import math\n",
    "def inverse_document_freq(word):\n",
    "    return math.log(len(document_counter) / (sum([1 for counter in document_counter if word in counter]) + 1.))\n",
    "\n",
    "\n"
   ]
  },
  {
   "cell_type": "code",
   "execution_count": 132,
   "metadata": {
    "collapsed": true,
    "deletable": true,
    "editable": true
   },
   "outputs": [],
   "source": [
    "import operator as op\n",
    "bag_words = reduce(op.add, document_counter)"
   ]
  },
  {
   "cell_type": "code",
   "execution_count": 135,
   "metadata": {
    "collapsed": true,
    "deletable": true,
    "editable": true
   },
   "outputs": [],
   "source": [
    "def tf_idf(document):\n",
    "    return {\n",
    "        word: term_freq(document)[word] * inverse_document_freq(word) for word in words(document) \n",
    "    }"
   ]
  },
  {
   "cell_type": "code",
   "execution_count": 142,
   "metadata": {
    "collapsed": false,
    "deletable": true,
    "editable": true
   },
   "outputs": [
    {
     "data": {
      "text/plain": [
       "{u'12': 0.0,\n",
       " u'15': 0.0,\n",
       " u'5': 11.434055402812444,\n",
       " u'6': 10.047761041692553,\n",
       " u'MIUI8': 0.0,\n",
       " u'MIUI9': 0.0,\n",
       " u'\\u4e00\\u5e74': 0.0,\n",
       " u'\\u4e3b\\u8981': 0.0,\n",
       " u'\\u4e4b\\u4e2d': 0.0,\n",
       " u'\\u4e5f': 10.047761041692553,\n",
       " u'\\u4e86': 5.717027701406222,\n",
       " u'\\u4ee5': 11.434055402812444,\n",
       " u'\\u4f53\\u9a8c\\u7248': 0.0,\n",
       " u'\\u4fe1\\u606f': 0.0,\n",
       " u'\\u5168\\u90e8': 0.0,\n",
       " u'\\u5173\\u4e8e': 0.0,\n",
       " u'\\u5176\\u4f59': 0.0,\n",
       " u'\\u5185\\u6d4b': 0.0,\n",
       " u'\\u53bb\\u5e74': 0.0,\n",
       " u'\\u53d1\\u5e03': 0.0,\n",
       " u'\\u53ef\\u4ee5': 0.0,\n",
       " u'\\u542b': 5.717027701406222,\n",
       " u'\\u5916': 11.434055402812444,\n",
       " u'\\u5b98\\u65b9\\u6d88\\u606f': 0.0,\n",
       " u'\\u5c06': 5.717027701406222,\n",
       " u'\\u5c0f\\u7c73': 0.0,\n",
       " u'\\u5de5\\u4f5c': 0.0,\n",
       " u'\\u5de5\\u7a0b\\u5e08': 0.0,\n",
       " u'\\u5df2': 11.434055402812444,\n",
       " u'\\u5f00\\u53d1': 0.0,\n",
       " u'\\u5f53\\u7136': 0.0,\n",
       " u'\\u5f71\\u54cd': 0.0,\n",
       " u'\\u6211\\u4eec': 0.0,\n",
       " u'\\u624b\\u673a': 0.0,\n",
       " u'\\u65e5\\u8d77': 0.0,\n",
       " u'\\u65f6\\u5019': 0.0,\n",
       " u'\\u662f': 15.07164156253883,\n",
       " u'\\u6682\\u4e0d\\u53d7': 0.0,\n",
       " u'\\u6682\\u505c': 0.0,\n",
       " u'\\u66f4\\u65b0': 0.0,\n",
       " u'\\u66f4\\u65b0\\u6362\\u4ee3': 0.0,\n",
       " u'\\u6708': 10.047761041692553,\n",
       " u'\\u6709\\u4eba': 0.0,\n",
       " u'\\u6709\\u4f59': 0.0,\n",
       " u'\\u672c\\u5468': 0.0,\n",
       " u'\\u673a\\u578b': 0.0,\n",
       " u'\\u6b3e': 5.717027701406222,\n",
       " u'\\u6b64\\u5916': 0.0,\n",
       " u'\\u7248': 17.151083104218664,\n",
       " u'\\u731c\\u6d4b': 0.0,\n",
       " u'\\u7528\\u5230': 0.0,\n",
       " u'\\u7684': 9.236830825476224,\n",
       " u'\\u7814\\u53d1': 0.0,\n",
       " u'\\u786e\\u4fdd': 0.0,\n",
       " u'\\u786e\\u5207': 0.0,\n",
       " u'\\u7a33\\u5b9a\\u7248': 0.0,\n",
       " u'\\u7b49': 11.434055402812444,\n",
       " u'\\u7b49\\u5f85': 0.0,\n",
       " u'\\u7cbe\\u529b': 0.0,\n",
       " u'\\u7cfb\\u7edf\\u4f18\\u5316': 0.0,\n",
       " u'\\u81ea': 5.717027701406222,\n",
       " u'\\u8ddd\\u4eca\\u5df2\\u6709': 0.0,\n",
       " u'\\u8fd8\\u662f': 0.0,\n",
       " u'\\u8fd9': 5.0238805208462765,\n",
       " u'\\u8fdb\\u884c': 0.0,\n",
       " u'\\u9664': 5.717027701406222,\n",
       " u'\\u96c6\\u4e2d': 0.0}"
      ]
     },
     "execution_count": 142,
     "metadata": {},
     "output_type": "execute_result"
    }
   ],
   "source": [
    "tf_idf(text0)"
   ]
  },
  {
   "cell_type": "code",
   "execution_count": 138,
   "metadata": {
    "collapsed": false,
    "deletable": true,
    "editable": true
   },
   "outputs": [
    {
     "ename": "IndexError",
     "evalue": "string index out of range",
     "output_type": "error",
     "traceback": [
      "\u001b[0;31m---------------------------------------------------------------------------\u001b[0m",
      "\u001b[0;31mIndexError\u001b[0m                                Traceback (most recent call last)",
      "\u001b[0;32m<ipython-input-138-799dd93ac876>\u001b[0m in \u001b[0;36m<module>\u001b[0;34m()\u001b[0m\n\u001b[0;32m----> 1\u001b[0;31m \u001b[0msorted\u001b[0m\u001b[0;34m(\u001b[0m\u001b[0mtf_idf\u001b[0m\u001b[0;34m(\u001b[0m\u001b[0mtext0\u001b[0m\u001b[0;34m)\u001b[0m\u001b[0;34m,\u001b[0m \u001b[0mkey\u001b[0m\u001b[0;34m=\u001b[0m\u001b[0;32mlambda\u001b[0m \u001b[0mx\u001b[0m\u001b[0;34m:\u001b[0m \u001b[0mx\u001b[0m\u001b[0;34m[\u001b[0m\u001b[0;36m1\u001b[0m\u001b[0;34m]\u001b[0m\u001b[0;34m,\u001b[0m \u001b[0mreverse\u001b[0m\u001b[0;34m=\u001b[0m\u001b[0mTrue\u001b[0m\u001b[0;34m)\u001b[0m\u001b[0;34m\u001b[0m\u001b[0m\n\u001b[0m",
      "\u001b[0;32m<ipython-input-138-799dd93ac876>\u001b[0m in \u001b[0;36m<lambda>\u001b[0;34m(x)\u001b[0m\n\u001b[0;32m----> 1\u001b[0;31m \u001b[0msorted\u001b[0m\u001b[0;34m(\u001b[0m\u001b[0mtf_idf\u001b[0m\u001b[0;34m(\u001b[0m\u001b[0mtext0\u001b[0m\u001b[0;34m)\u001b[0m\u001b[0;34m,\u001b[0m \u001b[0mkey\u001b[0m\u001b[0;34m=\u001b[0m\u001b[0;32mlambda\u001b[0m \u001b[0mx\u001b[0m\u001b[0;34m:\u001b[0m \u001b[0mx\u001b[0m\u001b[0;34m[\u001b[0m\u001b[0;36m1\u001b[0m\u001b[0;34m]\u001b[0m\u001b[0;34m,\u001b[0m \u001b[0mreverse\u001b[0m\u001b[0;34m=\u001b[0m\u001b[0mTrue\u001b[0m\u001b[0;34m)\u001b[0m\u001b[0;34m\u001b[0m\u001b[0m\n\u001b[0m",
      "\u001b[0;31mIndexError\u001b[0m: string index out of range"
     ]
    }
   ],
   "source": [
    "sorted(tf_idf(text0), key=lambda x: x[1], reverse=True)"
   ]
  },
  {
   "cell_type": "code",
   "execution_count": 141,
   "metadata": {
    "collapsed": false,
    "deletable": true,
    "editable": true
   },
   "outputs": [
    {
     "name": "stdout",
     "output_type": "stream",
     "text": [
      "我爱\n"
     ]
    }
   ],
   "source": [
    "s = '我爱'\n",
    "print(s)"
   ]
  },
  {
   "cell_type": "code",
   "execution_count": null,
   "metadata": {
    "collapsed": true,
    "deletable": true,
    "editable": true
   },
   "outputs": [],
   "source": []
  }
 ],
 "metadata": {
  "kernelspec": {
   "display_name": "Python 2",
   "language": "python",
   "name": "python2"
  },
  "language_info": {
   "codemirror_mode": {
    "name": "ipython",
    "version": 2
   },
   "file_extension": ".py",
   "mimetype": "text/x-python",
   "name": "python",
   "nbconvert_exporter": "python",
   "pygments_lexer": "ipython2",
   "version": "2.7.12"
  }
 },
 "nbformat": 4,
 "nbformat_minor": 2
}
