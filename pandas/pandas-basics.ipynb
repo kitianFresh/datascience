{
 "cells": [
  {
   "cell_type": "markdown",
   "metadata": {
    "deletable": true,
    "editable": true
   },
   "source": [
    "# Data Structures\n",
    " - Series\n",
    " - DataFrame"
   ]
  },
  {
   "cell_type": "markdown",
   "metadata": {
    "deletable": true,
    "editable": true
   },
   "source": [
    "## Series\n",
    "series 是一个一维的带标签的 类似数组的对象，能够容纳任意的python数据类型，它由 两个数组合成： 一个列是作为索引(index)或者标签(labels)， 另一个列数组是包含实际的数据。"
   ]
  },
  {
   "cell_type": "code",
   "execution_count": 1,
   "metadata": {
    "collapsed": false,
    "deletable": true,
    "editable": true
   },
   "outputs": [
    {
     "name": "stdout",
     "output_type": "stream",
     "text": [
      "0    11\n",
      "1    28\n",
      "2    72\n",
      "3     3\n",
      "4     5\n",
      "5     8\n",
      "dtype: int64\n"
     ]
    }
   ],
   "source": [
    "import pandas as pd\n",
    "S = pd.Series([11, 28, 72, 3, 5, 8])\n",
    "print S"
   ]
  },
  {
   "cell_type": "code",
   "execution_count": 2,
   "metadata": {
    "collapsed": false,
    "deletable": true,
    "editable": true
   },
   "outputs": [
    {
     "name": "stdout",
     "output_type": "stream",
     "text": [
      "RangeIndex(start=0, stop=6, step=1)\n",
      "[11 28 72  3  5  8]\n"
     ]
    }
   ],
   "source": [
    "print S.index\n",
    "print S.values"
   ]
  },
  {
   "cell_type": "code",
   "execution_count": 3,
   "metadata": {
    "collapsed": false,
    "deletable": true,
    "editable": true
   },
   "outputs": [
    {
     "name": "stdout",
     "output_type": "stream",
     "text": [
      "[11 28 72  3  5  8]\n",
      "[11 28 72  3  5  8]\n",
      "<type 'numpy.ndarray'> <type 'numpy.ndarray'>\n"
     ]
    }
   ],
   "source": [
    "import numpy as np\n",
    "X = np.array([11,28,72,3,5,8])\n",
    "print(X)\n",
    "print(S.values)\n",
    "# 都是一样的额数据类型，numpy.ndarray\n",
    "print type(S.values), type(X)"
   ]
  },
  {
   "cell_type": "markdown",
   "metadata": {
    "deletable": true,
    "editable": true
   },
   "source": [
    "下面可以看到，Series 可以更换索引，使其对应的索引不是数值，而是字符串"
   ]
  },
  {
   "cell_type": "code",
   "execution_count": 4,
   "metadata": {
    "collapsed": false,
    "deletable": true,
    "editable": true
   },
   "outputs": [
    {
     "name": "stdout",
     "output_type": "stream",
     "text": [
      "apples      20\n",
      "oranges     33\n",
      "cherries    52\n",
      "pears       10\n",
      "dtype: int64\n"
     ]
    }
   ],
   "source": [
    "fruits = ['apples', 'oranges', 'cherries', 'pears']\n",
    "quantities = [20, 33, 52, 10]\n",
    "S = pd.Series(quantities, index=fruits)\n",
    "print S"
   ]
  },
  {
   "cell_type": "markdown",
   "metadata": {
    "deletable": true,
    "editable": true
   },
   "source": [
    "## Series 基本运算\n",
    "相同索引的Series可以直接进行运算操作"
   ]
  },
  {
   "cell_type": "code",
   "execution_count": 5,
   "metadata": {
    "collapsed": false,
    "deletable": true,
    "editable": true
   },
   "outputs": [
    {
     "name": "stdout",
     "output_type": "stream",
     "text": [
      "apples      21\n",
      "oranges     35\n",
      "cherries    55\n",
      "pears       14\n",
      "dtype: int64\n",
      "sum of S:  115\n"
     ]
    }
   ],
   "source": [
    "fruits = ['apples', 'oranges', 'cherries', 'pears']\n",
    "S = pd.Series([20, 33, 52, 10], index=fruits)\n",
    "S1 = pd.Series([1,2,3,4], index=fruits)\n",
    "print S+S1\n",
    "# print S-S1\n",
    "# print S*S1\n",
    "# print S/S1\n",
    "# print S%10\n",
    "# print S**2\n",
    "print 'sum of S: ', sum(S)"
   ]
  },
  {
   "cell_type": "markdown",
   "metadata": {
    "deletable": true,
    "editable": true
   },
   "source": [
    "如果索引不同，也可以进行加法操作,不过 index 会进行 union 即求并集。如果不是同时存在，对应数值取NaN, 并且这次数据类型 dtype 变成 float64 了， 而上一次是 int64，为什么？ 猜测pandas内部对遇到某一方数据缺失的时候，默认转换成浮点型运算"
   ]
  },
  {
   "cell_type": "code",
   "execution_count": 6,
   "metadata": {
    "collapsed": false,
    "deletable": true,
    "editable": true
   },
   "outputs": [
    {
     "name": "stdout",
     "output_type": "stream",
     "text": [
      "apples          NaN\n",
      "cherries       83.0\n",
      "oranges        33.0\n",
      "pears          42.0\n",
      "raspberries     NaN\n",
      "dtype: float64\n"
     ]
    }
   ],
   "source": [
    "fruits = ['apples', 'oranges', 'cherries', 'pears']\n",
    "fruits1 = ['raspberries', 'oranges', 'cherries', 'pears']\n",
    "S = pd.Series([20, 33, 52, 10], index=fruits)\n",
    "S1 = pd.Series([17,0,31,32], index=fruits1)\n",
    "print S + S1\n",
    "# print S - S1\n",
    "# print S * S1\n",
    "# print S / S1\n",
    "# print S % S1"
   ]
  },
  {
   "cell_type": "code",
   "execution_count": 7,
   "metadata": {
    "collapsed": false,
    "deletable": true,
    "editable": true
   },
   "outputs": [
    {
     "name": "stdout",
     "output_type": "stream",
     "text": [
      "apples                 NaN\n",
      "cherries               NaN\n",
      "oranges                NaN\n",
      "pears                  NaN\n",
      "Î±Ï‡Î»Î¬Î´Î¹Î±         NaN\n",
      "ÎºÎµÏÎ¬ÏƒÎ¹Î±         NaN\n",
      "Î¼Î®Î»Î±               NaN\n",
      "Ï€Î¿ÏÏ„Î¿ÎºÎ¬Î»Î¹Î±   NaN\n",
      "dtype: float64\n"
     ]
    }
   ],
   "source": [
    "fruits = ['apples', 'oranges', 'cherries', 'pears']\n",
    "fruits_gr = ['Î¼Î®Î»Î±', 'Ï€Î¿ÏÏ„Î¿ÎºÎ¬Î»Î¹Î±', 'ÎºÎµÏÎ¬ÏƒÎ¹Î±', 'Î±Ï‡Î»Î¬Î´Î¹Î±']\n",
    "S = pd.Series([20, 33, 52, 10], index=fruits)\n",
    "S2 = pd.Series([17, 13, 31, 32], index=fruits_gr)\n",
    "print(S+S2)"
   ]
  },
  {
   "cell_type": "markdown",
   "metadata": {
    "deletable": true,
    "editable": true
   },
   "source": [
    "## Series数据访问\n",
    "单个索引和索引数组,注意两者返回的数据类型不同！ 单索引返回的是 值， 索引数组返回的还是 Series\n",
    "### 单索引访问"
   ]
  },
  {
   "cell_type": "code",
   "execution_count": 8,
   "metadata": {
    "collapsed": false,
    "deletable": true,
    "editable": true
   },
   "outputs": [
    {
     "name": "stdout",
     "output_type": "stream",
     "text": [
      "20\n",
      "<type 'numpy.int64'>\n"
     ]
    }
   ],
   "source": [
    "print(S['apples'])\n",
    "print type(S['apples'])"
   ]
  },
  {
   "cell_type": "markdown",
   "metadata": {
    "deletable": true,
    "editable": true
   },
   "source": [
    "### 多索引访问"
   ]
  },
  {
   "cell_type": "code",
   "execution_count": 9,
   "metadata": {
    "collapsed": false,
    "deletable": true,
    "editable": true
   },
   "outputs": [
    {
     "name": "stdout",
     "output_type": "stream",
     "text": [
      "apples      20\n",
      "oranges     33\n",
      "cherries    52\n",
      "dtype: int64\n",
      "<class 'pandas.core.series.Series'>\n"
     ]
    }
   ],
   "source": [
    "print(S[['apples', 'oranges', 'cherries']])\n",
    "print type(S[['apples', 'oranges', 'cherries']])"
   ]
  },
  {
   "cell_type": "markdown",
   "metadata": {
    "deletable": true,
    "editable": true
   },
   "source": [
    "### 条件选择索引（boolean indexing for selection）"
   ]
  },
  {
   "cell_type": "code",
   "execution_count": 10,
   "metadata": {
    "collapsed": false,
    "deletable": true,
    "editable": true
   },
   "outputs": [
    {
     "name": "stdout",
     "output_type": "stream",
     "text": [
      "oranges     33\n",
      "cherries    52\n",
      "dtype: int64\n"
     ]
    }
   ],
   "source": [
    "print S[S>30]"
   ]
  },
  {
   "cell_type": "markdown",
   "metadata": {
    "deletable": true,
    "editable": true
   },
   "source": [
    "# Series 函数操作\n",
    "## numpy 函数\n",
    "和numpy类似，可以直接使用 numpy 的函数应用到 S上面， 因为 S.values 其实就是numpy.ndarray"
   ]
  },
  {
   "cell_type": "code",
   "execution_count": 11,
   "metadata": {
    "collapsed": false,
    "deletable": true,
    "editable": true
   },
   "outputs": [
    {
     "name": "stdout",
     "output_type": "stream",
     "text": [
      "apples       92\n",
      "oranges     144\n",
      "cherries    220\n",
      "pears        52\n",
      "dtype: int64\n",
      "========================\n",
      "apples      0.912945\n",
      "oranges     0.999912\n",
      "cherries    0.986628\n",
      "pears      -0.544021\n",
      "dtype: float64\n"
     ]
    }
   ],
   "source": [
    "import numpy as np\n",
    "print((S + 3) * 4)\n",
    "print('========================')\n",
    "print np.sin(S)"
   ]
  },
  {
   "cell_type": "markdown",
   "metadata": {
    "deletable": true,
    "editable": true
   },
   "source": [
    "## 更加灵活的pandas.Series.apply\n",
    "\n",
    "Series.apply(func, convert_dtype=True, args=(), **kwds)\n",
    "\n",
    "The function \"func\" will be applied to the Series and **it returns either a Series or a DataFrame, depending on \"func\".**\n",
    "\n",
    "**Parameter\tMeaning**\n",
    " - func\t\n",
    "   - a function, which can be a NumPy function that will be applied to the entire Series or a Python function that will be applied to every single value of the series\n",
    " - convert_dtype\t\n",
    "   - A boolean value. If it is set to True (default), apply will try to find better dtype for elementwise function results. If False, leave as dtype=object\n",
    " - args\t\n",
    "   - Positional arguments which will be passed to the function \"func\" additionally to the values from the series.\n",
    " - **kwds\t\n",
    "   - Additional keyword arguments will be passed as keywords to the function\n"
   ]
  },
  {
   "cell_type": "code",
   "execution_count": 12,
   "metadata": {
    "collapsed": false,
    "deletable": true,
    "editable": true
   },
   "outputs": [
    {
     "name": "stdout",
     "output_type": "stream",
     "text": [
      "apples      0.912945\n",
      "oranges     0.999912\n",
      "cherries    0.986628\n",
      "pears      -0.544021\n",
      "dtype: float64\n"
     ]
    }
   ],
   "source": [
    "print S.apply(np.sin)"
   ]
  },
  {
   "cell_type": "code",
   "execution_count": 13,
   "metadata": {
    "collapsed": false,
    "deletable": true,
    "editable": true
   },
   "outputs": [
    {
     "name": "stdout",
     "output_type": "stream",
     "text": [
      "apples      30\n",
      "oranges     43\n",
      "cherries    52\n",
      "pears       20\n",
      "dtype: int64\n"
     ]
    }
   ],
   "source": [
    "print S.apply(lambda x: x if x > 50 else x+10)"
   ]
  },
  {
   "cell_type": "code",
   "execution_count": 14,
   "metadata": {
    "collapsed": false,
    "deletable": true,
    "editable": true
   },
   "outputs": [
    {
     "name": "stdout",
     "output_type": "stream",
     "text": [
      "oranges     33\n",
      "cherries    52\n",
      "dtype: int64\n"
     ]
    }
   ],
   "source": [
    "print S[S>30]"
   ]
  },
  {
   "cell_type": "markdown",
   "metadata": {
    "deletable": true,
    "editable": true
   },
   "source": [
    "我们发现 Series 其实很像 key-value 存储，其实他可以被当成 Python 中的**有序的固定长度的 dictionary**"
   ]
  },
  {
   "cell_type": "code",
   "execution_count": 15,
   "metadata": {
    "collapsed": false,
    "deletable": true,
    "editable": true
   },
   "outputs": [
    {
     "name": "stdout",
     "output_type": "stream",
     "text": [
      "True\n"
     ]
    }
   ],
   "source": [
    "print 'apples' in S"
   ]
  },
  {
   "cell_type": "markdown",
   "metadata": {
    "deletable": true,
    "editable": true
   },
   "source": [
    "既然 Series 像一个词典，那当然**能够使用词典构造一个Series了！ 而且 Series 会自动排序 key。**"
   ]
  },
  {
   "cell_type": "code",
   "execution_count": 16,
   "metadata": {
    "collapsed": false,
    "deletable": true,
    "editable": true
   },
   "outputs": [
    {
     "name": "stdout",
     "output_type": "stream",
     "text": [
      "Barcelona    1602386\n",
      "Berlin       3562166\n",
      "Bucharest    1803425\n",
      "Budapest     1754000\n",
      "Hamburg      1760433\n",
      "London       8615246\n",
      "Madrid       3165235\n",
      "Milan        1350680\n",
      "Munich       1493900\n",
      "Paris        2273305\n",
      "Rome         2874038\n",
      "Vienna       1805681\n",
      "Warsaw       1740119\n",
      "dtype: int64\n"
     ]
    }
   ],
   "source": [
    "cities = {\"London\":   8615246, \n",
    "          \"Berlin\":   3562166, \n",
    "          \"Madrid\":   3165235, \n",
    "          \"Rome\":     2874038, \n",
    "          \"Paris\":    2273305, \n",
    "          \"Vienna\":   1805681, \n",
    "          \"Bucharest\":1803425, \n",
    "          \"Hamburg\":  1760433,\n",
    "          \"Budapest\": 1754000,\n",
    "          \"Warsaw\":   1740119,\n",
    "          \"Barcelona\":1602386,\n",
    "          \"Munich\":   1493900,\n",
    "          \"Milan\":    1350680}\n",
    "city_series = pd.Series(cities)\n",
    "print(city_series)"
   ]
  },
  {
   "cell_type": "markdown",
   "metadata": {
    "deletable": true,
    "editable": true
   },
   "source": [
    "# 缺失数据处理（NaN）\n",
    "pandas.Series()构造函数中的 index 参数就像是一个过滤器，**如果你指定了一个索引列表，同时又传入一个词典，那么 index 就会搜索词典中包含该key 的value，未能搜索到的 index 的值将会是 NaN，并且因为 NaN 的缘故，其他的 value 必须强制转换成 float 了**，因此我们在 Series 基本运算中看到，如果index 并不同时包含在两个Series中，会产生 NaN，NaN 会使得数据类型变成 float。"
   ]
  },
  {
   "cell_type": "code",
   "execution_count": 17,
   "metadata": {
    "collapsed": false,
    "deletable": true,
    "editable": true
   },
   "outputs": [
    {
     "name": "stdout",
     "output_type": "stream",
     "text": [
      "London       8615246.0\n",
      "Paris        2273305.0\n",
      "Zurich             NaN\n",
      "Berlin       3562166.0\n",
      "Stuttgart          NaN\n",
      "Hamburg      1760433.0\n",
      "dtype: float64\n"
     ]
    }
   ],
   "source": [
    "my_cities = [\"London\", \"Paris\", \"Zurich\", \"Berlin\", \n",
    "             \"Stuttgart\", \"Hamburg\"]\n",
    "my_cities_series = pd.Series(cities, index=my_cities)\n",
    "print my_cities_series"
   ]
  },
  {
   "cell_type": "code",
   "execution_count": 18,
   "metadata": {
    "collapsed": false,
    "deletable": true,
    "editable": true
   },
   "outputs": [
    {
     "name": "stdout",
     "output_type": "stream",
     "text": [
      "London     8615246\n",
      "Paris      2273305\n",
      "Berlin     3562166\n",
      "Hamburg    1760433\n",
      "dtype: int64\n"
     ]
    }
   ],
   "source": [
    "my_cities = [\"London\", \"Paris\", \"Berlin\", \"Hamburg\"]\n",
    "my_city_series = pd.Series(cities, \n",
    "                           index=my_cities)\n",
    "print my_city_series"
   ]
  },
  {
   "cell_type": "markdown",
   "metadata": {
    "deletable": true,
    "editable": true
   },
   "source": [
    "## isnull() & notnull()\n",
    "NaN 代表的是 “not a number” ,但是我们是可以使用 isnull 和 notnull 方法来检查数据缺失;"
   ]
  },
  {
   "cell_type": "code",
   "execution_count": 19,
   "metadata": {
    "collapsed": false,
    "deletable": true,
    "editable": true
   },
   "outputs": [
    {
     "name": "stdout",
     "output_type": "stream",
     "text": [
      "London       False\n",
      "Paris        False\n",
      "Zurich        True\n",
      "Berlin       False\n",
      "Stuttgart     True\n",
      "Hamburg      False\n",
      "dtype: bool\n",
      "London        True\n",
      "Paris         True\n",
      "Zurich       False\n",
      "Berlin        True\n",
      "Stuttgart    False\n",
      "Hamburg       True\n",
      "dtype: bool\n"
     ]
    }
   ],
   "source": [
    "my_cities = [\"London\", \"Paris\", \"Zurich\", \"Berlin\", \n",
    "             \"Stuttgart\", \"Hamburg\"]\n",
    "my_city_series = pd.Series(cities, \n",
    "                           index=my_cities)\n",
    "print(my_city_series.isnull())\n",
    "print(my_city_series.notnull())"
   ]
  },
  {
   "cell_type": "markdown",
   "metadata": {
    "deletable": true,
    "editable": true
   },
   "source": [
    "对于python 中的 None 关键字，pandas 也会处理为 NaN;"
   ]
  },
  {
   "cell_type": "code",
   "execution_count": 20,
   "metadata": {
    "collapsed": false,
    "deletable": true,
    "editable": true
   },
   "outputs": [
    {
     "name": "stdout",
     "output_type": "stream",
     "text": [
      "a    23.0\n",
      "b    45.0\n",
      "c     NaN\n",
      "d     0.0\n",
      "dtype: float64\n"
     ]
    }
   ],
   "source": [
    "d = {\"a\":23, \"b\":45, \"c\":None, \"d\":0}\n",
    "S = pd.Series(d)\n",
    "print(S)"
   ]
  },
  {
   "cell_type": "markdown",
   "metadata": {
    "deletable": true,
    "editable": true
   },
   "source": [
    "## 过滤和填充缺失数据"
   ]
  },
  {
   "cell_type": "code",
   "execution_count": 21,
   "metadata": {
    "collapsed": false,
    "deletable": true,
    "editable": true
   },
   "outputs": [
    {
     "name": "stdout",
     "output_type": "stream",
     "text": [
      "London     8615246.0\n",
      "Paris      2273305.0\n",
      "Berlin     3562166.0\n",
      "Hamburg    1760433.0\n",
      "dtype: float64\n",
      "London       8615246.0\n",
      "Paris        2273305.0\n",
      "Zurich             0.0\n",
      "Berlin       3562166.0\n",
      "Stuttgart          0.0\n",
      "Hamburg      1760433.0\n",
      "dtype: float64\n",
      "London       8615246.0\n",
      "Paris        2273305.0\n",
      "Zurich        378884.0\n",
      "Berlin       3562166.0\n",
      "Stuttgart     597939.0\n",
      "Hamburg      1760433.0\n",
      "dtype: float64\n"
     ]
    }
   ],
   "source": [
    "print my_city_series.dropna()\n",
    "print my_city_series.fillna(0)\n",
    "missing_cities = {\"Stuttgart\":597939, \"Zurich\":378884}\n",
    "print my_city_series.fillna(missing_cities)"
   ]
  },
  {
   "cell_type": "markdown",
   "metadata": {
    "deletable": true,
    "editable": true
   },
   "source": [
    "# DataFrame\n",
    "带行和列的表格"
   ]
  },
  {
   "cell_type": "code",
   "execution_count": 22,
   "metadata": {
    "collapsed": false,
    "deletable": true,
    "editable": true
   },
   "outputs": [
    {
     "name": "stdout",
     "output_type": "stream",
     "text": [
      "    country       name  population\n",
      "0   England     London     8615246\n",
      "1   Germany     Berlin     3562166\n",
      "2     Spain     Madrid     3165235\n",
      "3     Italy       Rome     2874038\n",
      "4    France      Paris     2273305\n",
      "5   Austria     Vienna     1805681\n",
      "6   Romania  Bucharest     1803425\n",
      "7   Germany    Hamburg     1760433\n",
      "8   Hungary   Budapest     1754000\n",
      "9    Poland     Warsaw     1740119\n",
      "10    Spain  Barcelona     1602386\n",
      "11  Germany     Munich     1493900\n",
      "12    Italy      Milan     1350680\n"
     ]
    }
   ],
   "source": [
    "cities = {\"name\": [\"London\", \"Berlin\", \"Madrid\", \"Rome\", \n",
    "                   \"Paris\", \"Vienna\", \"Bucharest\", \"Hamburg\", \n",
    "                   \"Budapest\", \"Warsaw\", \"Barcelona\", \n",
    "                   \"Munich\", \"Milan\"],\n",
    "          \"population\": [8615246, 3562166, 3165235, 2874038,\n",
    "                         2273305, 1805681, 1803425, 1760433,\n",
    "                         1754000, 1740119, 1602386, 1493900,\n",
    "                         1350680],\n",
    "          \"country\": [\"England\", \"Germany\", \"Spain\", \"Italy\",\n",
    "                      \"France\", \"Austria\", \"Romania\", \n",
    "                      \"Germany\", \"Hungary\", \"Poland\", \"Spain\",\n",
    "                      \"Germany\", \"Italy\"]}\n",
    "city_frame = pd.DataFrame(cities)\n",
    "print(city_frame)"
   ]
  },
  {
   "cell_type": "markdown",
   "metadata": {
    "deletable": true,
    "editable": true
   },
   "source": [
    "## 同样支持自定义索引"
   ]
  },
  {
   "cell_type": "code",
   "execution_count": 23,
   "metadata": {
    "collapsed": false,
    "deletable": true,
    "editable": true
   },
   "outputs": [
    {
     "name": "stdout",
     "output_type": "stream",
     "text": [
      "            country       name  population\n",
      "first       England     London     8615246\n",
      "second      Germany     Berlin     3562166\n",
      "third         Spain     Madrid     3165235\n",
      "fourth        Italy       Rome     2874038\n",
      "fifth        France      Paris     2273305\n",
      "sixth       Austria     Vienna     1805681\n",
      "seventh     Romania  Bucharest     1803425\n",
      "eigth       Germany    Hamburg     1760433\n",
      "ninth       Hungary   Budapest     1754000\n",
      "tenth        Poland     Warsaw     1740119\n",
      "eleventh      Spain  Barcelona     1602386\n",
      "twelvth     Germany     Munich     1493900\n",
      "thirteenth    Italy      Milan     1350680\n"
     ]
    }
   ],
   "source": [
    "ordinals = [\"first\", \"second\", \"third\", \"fourth\",\n",
    "            \"fifth\", \"sixth\", \"seventh\", \"eigth\",\n",
    "            \"ninth\", \"tenth\", \"eleventh\", \"twelvth\",\n",
    "            \"thirteenth\"]\n",
    "city_frame = pd.DataFrame(cities, index=ordinals)\n",
    "print(city_frame)"
   ]
  },
  {
   "cell_type": "markdown",
   "metadata": {
    "deletable": true,
    "editable": true
   },
   "source": [
    "## 列序重排\n",
    "在构建的时候进行"
   ]
  },
  {
   "cell_type": "code",
   "execution_count": 24,
   "metadata": {
    "collapsed": false,
    "deletable": true,
    "editable": true,
    "scrolled": true
   },
   "outputs": [
    {
     "name": "stdout",
     "output_type": "stream",
     "text": [
      "                 name  country  population\n",
      "first          London  England     8615246\n",
      "second         Berlin  Germany     3562166\n",
      "third          Madrid    Spain     3165235\n",
      "fourth           Rome    Italy     2874038\n",
      "fifth           Paris   France     2273305\n",
      "sixth          Vienna  Austria     1805681\n",
      "seventh     Bucharest  Romania     1803425\n",
      "eigth         Hamburg  Germany     1760433\n",
      "ninth        Budapest  Hungary     1754000\n",
      "tenth          Warsaw   Poland     1740119\n",
      "eleventh    Barcelona    Spain     1602386\n",
      "twelvth        Munich  Germany     1493900\n",
      "thirteenth      Milan    Italy     1350680\n"
     ]
    }
   ],
   "source": [
    "city_frame = pd.DataFrame(cities, columns=['name', 'country', 'population'], index=ordinals)\n",
    "print city_frame"
   ]
  },
  {
   "cell_type": "markdown",
   "metadata": {
    "deletable": true,
    "editable": true
   },
   "source": [
    "调整"
   ]
  },
  {
   "cell_type": "code",
   "execution_count": 25,
   "metadata": {
    "collapsed": false,
    "deletable": true,
    "editable": true
   },
   "outputs": [
    {
     "name": "stdout",
     "output_type": "stream",
     "text": [
      "                 name  country  population\n",
      "first          London  England     8615246\n",
      "second         Berlin  Germany     3562166\n",
      "third          Madrid    Spain     3165235\n",
      "fourth           Rome    Italy     2874038\n",
      "fifth           Paris   France     2273305\n",
      "sixth          Vienna  Austria     1805681\n",
      "seventh     Bucharest  Romania     1803425\n",
      "eigth         Hamburg  Germany     1760433\n",
      "ninth        Budapest  Hungary     1754000\n",
      "tenth          Warsaw   Poland     1740119\n",
      "eleventh    Barcelona    Spain     1602386\n",
      "twelvth        Munich  Germany     1493900\n",
      "thirteenth      Milan    Italy     1350680\n"
     ]
    }
   ],
   "source": [
    "city_frame = city_frame.reindex_axis(['name', 'country', 'population'], axis=1)\n",
    "print city_frame"
   ]
  },
  {
   "cell_type": "markdown",
   "metadata": {
    "deletable": true,
    "editable": true
   },
   "source": [
    "## 已存在列作为行的索引"
   ]
  },
  {
   "cell_type": "code",
   "execution_count": 26,
   "metadata": {
    "collapsed": false,
    "deletable": true,
    "editable": true
   },
   "outputs": [
    {
     "name": "stdout",
     "output_type": "stream",
     "text": [
      "              name  population\n",
      "England     London     8615246\n",
      "Germany     Berlin     3562166\n",
      "Spain       Madrid     3165235\n",
      "Italy         Rome     2874038\n",
      "France       Paris     2273305\n",
      "Austria     Vienna     1805681\n",
      "Romania  Bucharest     1803425\n",
      "Germany    Hamburg     1760433\n",
      "Hungary   Budapest     1754000\n",
      "Poland      Warsaw     1740119\n",
      "Spain    Barcelona     1602386\n",
      "Germany     Munich     1493900\n",
      "Italy        Milan     1350680\n"
     ]
    }
   ],
   "source": [
    "city_frame = pd.DataFrame(cities, columns=[\"name\", \"population\"], index=cities['country'])\n",
    "print city_frame"
   ]
  },
  {
   "cell_type": "markdown",
   "metadata": {
    "deletable": true,
    "editable": true
   },
   "source": [
    "另外，我们还可以使用 DataFrame.set_index() 方法来设置索引，但是 set_index() 不是 work in-place 的，他会返回一个新的DataFrame;"
   ]
  },
  {
   "cell_type": "code",
   "execution_count": 27,
   "metadata": {
    "collapsed": false,
    "deletable": true,
    "editable": true
   },
   "outputs": [
    {
     "name": "stdout",
     "output_type": "stream",
     "text": [
      "              name  population\n",
      "country                       \n",
      "England     London     8615246\n",
      "Germany     Berlin     3562166\n",
      "Spain       Madrid     3165235\n",
      "Italy         Rome     2874038\n",
      "France       Paris     2273305\n",
      "Austria     Vienna     1805681\n",
      "Romania  Bucharest     1803425\n",
      "Germany    Hamburg     1760433\n",
      "Hungary   Budapest     1754000\n",
      "Poland      Warsaw     1740119\n",
      "Spain    Barcelona     1602386\n",
      "Germany     Munich     1493900\n",
      "Italy        Milan     1350680\n"
     ]
    }
   ],
   "source": [
    "city_frame = pd.DataFrame(cities)\n",
    "city_frame1 = city_frame.set_index(\"country\")\n",
    "print city_frame1"
   ]
  },
  {
   "cell_type": "markdown",
   "metadata": {
    "deletable": true,
    "editable": true
   },
   "source": [
    "## Sum & Cumulative Sum"
   ]
  },
  {
   "cell_type": "code",
   "execution_count": 28,
   "metadata": {
    "collapsed": false,
    "deletable": true,
    "editable": true
   },
   "outputs": [
    {
     "name": "stdout",
     "output_type": "stream",
     "text": [
      "country       EnglandGermanySpainItalyFranceAustriaRomaniaGe...\n",
      "name          LondonBerlinMadridRomeParisViennaBucharestHamb...\n",
      "population                                             33800614\n",
      "dtype: object\n"
     ]
    }
   ],
   "source": [
    "print(city_frame.sum())"
   ]
  },
  {
   "cell_type": "code",
   "execution_count": 29,
   "metadata": {
    "collapsed": false,
    "deletable": true,
    "editable": true
   },
   "outputs": [
    {
     "name": "stdout",
     "output_type": "stream",
     "text": [
      "33800614\n"
     ]
    }
   ],
   "source": [
    "print city_frame[\"population\"].sum()"
   ]
  },
  {
   "cell_type": "code",
   "execution_count": 30,
   "metadata": {
    "collapsed": false,
    "deletable": true,
    "editable": true
   },
   "outputs": [
    {
     "name": "stdout",
     "output_type": "stream",
     "text": [
      "0      8615246\n",
      "1     12177412\n",
      "2     15342647\n",
      "3     18216685\n",
      "4     20489990\n",
      "5     22295671\n",
      "6     24099096\n",
      "7     25859529\n",
      "8     27613529\n",
      "9     29353648\n",
      "10    30956034\n",
      "11    32449934\n",
      "12    33800614\n",
      "Name: population, dtype: int64\n"
     ]
    }
   ],
   "source": [
    "x = city_frame[\"population\"].cumsum()\n",
    "print x"
   ]
  },
  {
   "cell_type": "markdown",
   "metadata": {
    "deletable": true,
    "editable": true
   },
   "source": [
    "## 给某一列分配新值"
   ]
  },
  {
   "cell_type": "code",
   "execution_count": 31,
   "metadata": {
    "collapsed": false,
    "deletable": true,
    "editable": true
   },
   "outputs": [
    {
     "name": "stdout",
     "output_type": "stream",
     "text": [
      "    country       name  population\n",
      "0   England     London     8615246\n",
      "1   Germany     Berlin    12177412\n",
      "2     Spain     Madrid    15342647\n",
      "3     Italy       Rome    18216685\n",
      "4    France      Paris    20489990\n",
      "5   Austria     Vienna    22295671\n",
      "6   Romania  Bucharest    24099096\n",
      "7   Germany    Hamburg    25859529\n",
      "8   Hungary   Budapest    27613529\n",
      "9    Poland     Warsaw    29353648\n",
      "10    Spain  Barcelona    30956034\n",
      "11  Germany     Munich    32449934\n",
      "12    Italy      Milan    33800614\n"
     ]
    }
   ],
   "source": [
    "city_frame['population'] = x\n",
    "print city_frame"
   ]
  },
  {
   "cell_type": "markdown",
   "metadata": {
    "deletable": true,
    "editable": true
   },
   "source": [
    "## 新增加一列"
   ]
  },
  {
   "cell_type": "code",
   "execution_count": 32,
   "metadata": {
    "collapsed": false,
    "deletable": true,
    "editable": true
   },
   "outputs": [
    {
     "name": "stdout",
     "output_type": "stream",
     "text": [
      "    country       name  population  cum_population\n",
      "0   England     London     8615246         8615246\n",
      "1   Germany     Berlin    12177412        20792658\n",
      "2     Spain     Madrid    15342647        36135305\n",
      "3     Italy       Rome    18216685        54351990\n",
      "4    France      Paris    20489990        74841980\n",
      "5   Austria     Vienna    22295671        97137651\n",
      "6   Romania  Bucharest    24099096       121236747\n",
      "7   Germany    Hamburg    25859529       147096276\n",
      "8   Hungary   Budapest    27613529       174709805\n",
      "9    Poland     Warsaw    29353648       204063453\n",
      "10    Spain  Barcelona    30956034       235019487\n",
      "11  Germany     Munich    32449934       267469421\n",
      "12    Italy      Milan    33800614       301270035\n"
     ]
    }
   ],
   "source": [
    "city_frame['cum_population'] = city_frame['population'].cumsum()\n",
    "print city_frame"
   ]
  },
  {
   "cell_type": "markdown",
   "metadata": {
    "deletable": true,
    "editable": true
   },
   "source": [
    "## 存取DataFrame的某些列"
   ]
  },
  {
   "cell_type": "markdown",
   "metadata": {
    "deletable": true,
    "editable": true
   },
   "source": [
    "### dict-like"
   ]
  },
  {
   "cell_type": "code",
   "execution_count": 33,
   "metadata": {
    "collapsed": false,
    "deletable": true,
    "editable": true
   },
   "outputs": [
    {
     "name": "stdout",
     "output_type": "stream",
     "text": [
      "0      8615246\n",
      "1     12177412\n",
      "2     15342647\n",
      "3     18216685\n",
      "4     20489990\n",
      "5     22295671\n",
      "6     24099096\n",
      "7     25859529\n",
      "8     27613529\n",
      "9     29353648\n",
      "10    30956034\n",
      "11    32449934\n",
      "12    33800614\n",
      "Name: population, dtype: int64\n"
     ]
    }
   ],
   "source": [
    "print(city_frame[\"population\"])"
   ]
  },
  {
   "cell_type": "markdown",
   "metadata": {
    "deletable": true,
    "editable": true
   },
   "source": [
    "### object-attributes"
   ]
  },
  {
   "cell_type": "code",
   "execution_count": 34,
   "metadata": {
    "collapsed": false,
    "deletable": true,
    "editable": true
   },
   "outputs": [
    {
     "name": "stdout",
     "output_type": "stream",
     "text": [
      "0      8615246\n",
      "1     12177412\n",
      "2     15342647\n",
      "3     18216685\n",
      "4     20489990\n",
      "5     22295671\n",
      "6     24099096\n",
      "7     25859529\n",
      "8     27613529\n",
      "9     29353648\n",
      "10    30956034\n",
      "11    32449934\n",
      "12    33800614\n",
      "Name: population, dtype: int64\n"
     ]
    }
   ],
   "source": [
    "print(city_frame.population)"
   ]
  },
  {
   "cell_type": "code",
   "execution_count": 35,
   "metadata": {
    "collapsed": false,
    "deletable": true,
    "editable": true
   },
   "outputs": [
    {
     "name": "stdout",
     "output_type": "stream",
     "text": [
      "<class 'pandas.core.series.Series'>\n"
     ]
    }
   ],
   "source": [
    "print(type(city_frame.population))"
   ]
  },
  {
   "cell_type": "markdown",
   "metadata": {
    "deletable": true,
    "editable": true
   },
   "source": [
    "## 存取行"
   ]
  },
  {
   "cell_type": "code",
   "execution_count": 36,
   "metadata": {
    "collapsed": false,
    "deletable": true,
    "editable": true
   },
   "outputs": [
    {
     "name": "stdout",
     "output_type": "stream",
     "text": [
      "           country area  population\n",
      "London     England  NaN     8615246\n",
      "Berlin     Germany  NaN     3562166\n",
      "Madrid       Spain  NaN     3165235\n",
      "Rome         Italy  NaN     2874038\n",
      "Paris       France  NaN     2273305\n",
      "Vienna     Austria  NaN     1805681\n",
      "Bucharest  Romania  NaN     1803425\n",
      "Hamburg    Germany  NaN     1760433\n",
      "Budapest   Hungary  NaN     1754000\n",
      "Warsaw      Poland  NaN     1740119\n",
      "Barcelona    Spain  NaN     1602386\n",
      "Munich     Germany  NaN     1493900\n",
      "Milan        Italy  NaN     1350680\n"
     ]
    },
    {
     "data": {
      "text/plain": [
       "country       Austria\n",
       "area              NaN\n",
       "population    1805681\n",
       "Name: Vienna, dtype: object"
      ]
     },
     "execution_count": 36,
     "metadata": {},
     "output_type": "execute_result"
    }
   ],
   "source": [
    "city_frame = pd.DataFrame(cities,\n",
    "                          columns=[\"country\", \n",
    "                                   \"area\",\n",
    "                                   \"population\"],\n",
    "                          index=cities[\"name\"])\n",
    "print(city_frame)\n",
    "# 必须指定了索引的 DataFrame 才可以这样\n",
    "city_frame.ix['Vienna']"
   ]
  },
  {
   "cell_type": "code",
   "execution_count": 37,
   "metadata": {
    "collapsed": false,
    "deletable": true,
    "editable": true
   },
   "outputs": [
    {
     "name": "stdout",
     "output_type": "stream",
     "text": [
      "           country     area  population\n",
      "London     England  1572.00     8615246\n",
      "Berlin     Germany   891.85     3562166\n",
      "Madrid       Spain   605.77     3165235\n",
      "Rome         Italy  1285.00     2874038\n",
      "Paris       France   105.40     2273305\n",
      "Vienna     Austria   414.60     1805681\n",
      "Bucharest  Romania   228.00     1803425\n",
      "Hamburg    Germany   755.00     1760433\n",
      "Budapest   Hungary   525.20     1754000\n",
      "Warsaw      Poland   517.00     1740119\n",
      "Barcelona    Spain   101.90     1602386\n",
      "Munich     Germany   310.40     1493900\n",
      "Milan        Italy   181.80     1350680\n"
     ]
    }
   ],
   "source": [
    "city_frame['area'] = 1572\n",
    "#print city_frame\n",
    "areas = [1572, 891.85, 605.77, 1285, \n",
    "        105.4, 414.6, 228, 755, \n",
    "        525.2, 517, 101.9, 310.4, \n",
    "        181.8]\n",
    "city_frame[\"area\"] = areas\n",
    "print city_frame"
   ]
  },
  {
   "cell_type": "markdown",
   "metadata": {
    "deletable": true,
    "editable": true
   },
   "source": [
    "## DataFrame 排序 Sorting"
   ]
  },
  {
   "cell_type": "code",
   "execution_count": 38,
   "metadata": {
    "collapsed": false,
    "deletable": true,
    "editable": true
   },
   "outputs": [
    {
     "name": "stdout",
     "output_type": "stream",
     "text": [
      "           country     area  population\n",
      "London     England  1572.00     8615246\n",
      "Rome         Italy  1285.00     2874038\n",
      "Berlin     Germany   891.85     3562166\n",
      "Hamburg    Germany   755.00     1760433\n",
      "Madrid       Spain   605.77     3165235\n",
      "Budapest   Hungary   525.20     1754000\n",
      "Warsaw      Poland   517.00     1740119\n",
      "Vienna     Austria   414.60     1805681\n",
      "Munich     Germany   310.40     1493900\n",
      "Bucharest  Romania   228.00     1803425\n",
      "Milan        Italy   181.80     1350680\n",
      "Paris       France   105.40     2273305\n",
      "Barcelona    Spain   101.90     1602386\n"
     ]
    }
   ],
   "source": [
    "city_frame = city_frame.sort_values(by=\"area\", ascending=False)\n",
    "print(city_frame)"
   ]
  },
  {
   "cell_type": "markdown",
   "metadata": {
    "deletable": true,
    "editable": true
   },
   "source": [
    "## 使用 Series 填充某些行"
   ]
  },
  {
   "cell_type": "code",
   "execution_count": 39,
   "metadata": {
    "collapsed": false,
    "deletable": true,
    "editable": true
   },
   "outputs": [
    {
     "name": "stdout",
     "output_type": "stream",
     "text": [
      "                 name  country    area  population\n",
      "first          London  England  1572.0     8615246\n",
      "second         Berlin  Germany     NaN     3562166\n",
      "third          Madrid    Spain     NaN     3165235\n",
      "fourth           Rome    Italy     NaN     2874038\n",
      "fifth           Paris   France     NaN     2273305\n",
      "sixth          Vienna  Austria     NaN     1805681\n",
      "seventh     Bucharest  Romania     NaN     1803425\n",
      "eigth         Hamburg  Germany   755.0     1760433\n",
      "ninth        Budapest  Hungary     NaN     1754000\n",
      "tenth          Warsaw   Poland     NaN     1740119\n",
      "eleventh    Barcelona    Spain     NaN     1602386\n",
      "twelvth        Munich  Germany     NaN     1493900\n",
      "thirteenth      Milan    Italy   181.8     1350680\n"
     ]
    }
   ],
   "source": [
    "city_frame = pd.DataFrame(cities,\n",
    "                          columns=[\"name\",\n",
    "                                   \"country\",\n",
    "                                   \"area\",\n",
    "                                   \"population\"],\n",
    "                          index=ordinals)\n",
    "some_areas = pd.Series([1572, 755, 181.8], index=['first', 'eigth', 'thirteenth'])\n",
    "city_frame['area'] = some_areas\n",
    "print(city_frame)"
   ]
  },
  {
   "cell_type": "markdown",
   "metadata": {
    "deletable": true,
    "editable": true
   },
   "source": [
    "## 嵌套词典也可以构造 DataFrame\n",
    "最外层的键值作为列索引，内层的键值作为行索引;"
   ]
  },
  {
   "cell_type": "code",
   "execution_count": 40,
   "metadata": {
    "collapsed": false,
    "deletable": true,
    "editable": true
   },
   "outputs": [
    {
     "name": "stdout",
     "output_type": "stream",
     "text": [
      "      France  Germany  Greece  Italy  Switzerland\n",
      "2010     2.0      4.1    -5.4    1.7          3.0\n",
      "2011     2.1      3.6    -8.9    0.6          1.8\n",
      "2012     0.3      0.4    -6.6   -2.3          1.1\n",
      "2013     0.3      0.1    -3.3   -1.9          1.9\n"
     ]
    }
   ],
   "source": [
    "growth = {\"Switzerland\": {\"2010\": 3.0, \"2011\": 1.8, \"2012\": 1.1, \"2013\": 1.9},\n",
    "          \"Germany\": {\"2010\": 4.1, \"2011\": 3.6, \"2012\":\t0.4, \"2013\": 0.1},\n",
    "          \"France\": {\"2010\":2.0,  \"2011\":2.1, \"2012\": 0.3, \"2013\": 0.3},\n",
    "          \"Greece\": {\"2010\":-5.4, \"2011\":-8.9, \"2012\":-6.6, \"2013\":\t-3.3},\n",
    "          \"Italy\": {\"2010\":1.7, \"2011\":\t0.6, \"2012\":-2.3, \"2013\":-1.9}\n",
    "          } \n",
    "growth_frame = pd.DataFrame(growth)\n",
    "print growth_frame"
   ]
  },
  {
   "cell_type": "code",
   "execution_count": 41,
   "metadata": {
    "collapsed": false,
    "deletable": true,
    "editable": true
   },
   "outputs": [
    {
     "name": "stdout",
     "output_type": "stream",
     "text": [
      "             2010  2011  2012  2013\n",
      "France        2.0   2.1   0.3   0.3\n",
      "Germany       4.1   3.6   0.4   0.1\n",
      "Greece       -5.4  -8.9  -6.6  -3.3\n",
      "Italy         1.7   0.6  -2.3  -1.9\n",
      "Switzerland   3.0   1.8   1.1   1.9\n",
      "             2010  2011  2012  2013\n",
      "Switzerland   3.0   1.8   1.1   1.9\n",
      "Italy         1.7   0.6  -2.3  -1.9\n",
      "Germany       4.1   3.6   0.4   0.1\n",
      "Greece       -5.4  -8.9  -6.6  -3.3\n"
     ]
    }
   ],
   "source": [
    "print growth_frame.T\n",
    "\n",
    "growth_frame = growth_frame.T\n",
    "growth_frame2 = growth_frame.reindex([\"Switzerland\", \n",
    "                                      \"Italy\", \n",
    "                                      \"Germany\", \n",
    "                                      \"Greece\"])\n",
    "print(growth_frame2)"
   ]
  },
  {
   "cell_type": "markdown",
   "metadata": {
    "deletable": true,
    "editable": true
   },
   "source": [
    "## DataFrame随机值填充"
   ]
  },
  {
   "cell_type": "code",
   "execution_count": 42,
   "metadata": {
    "collapsed": false,
    "deletable": true,
    "editable": true
   },
   "outputs": [
    {
     "name": "stdout",
     "output_type": "stream",
     "text": [
      "                 Frank          Eve       Stella        Guido         Lara\n",
      "January     -41.342964   249.009406  -647.466035   751.314453   441.868274\n",
      "February    956.824398  -167.318696 -1083.490258  -995.829287  -877.601788\n",
      "March      1466.044230   632.017203  -525.223070   672.343872   460.942635\n",
      "April     -1233.838912   -46.299182  -450.327146  -634.493488 -1676.538130\n",
      "May        1434.765215 -1272.686558  -627.864916  -530.043167 -1668.450592\n",
      "June        473.843358  -487.866527  1328.077715  1029.582500   697.617177\n",
      "July       -537.167445  1571.812813   110.560442  1162.429808  -940.173846\n",
      "August      650.028187   950.377605  1563.134332 -1364.742179   576.063982\n",
      "September -1095.773170   428.511886 -1562.632470  -115.067326  1107.632149\n",
      "October    -944.859200   598.465845   306.620540  1125.161608   421.237729\n",
      "November   1644.473375 -1557.357165  -638.299452  1467.625968  -884.354502\n",
      "December   -384.852600  -479.660812  -125.894638  -883.094395   167.841563\n"
     ]
    }
   ],
   "source": [
    "import numpy as np\n",
    "names = ['Frank', 'Eve', 'Stella', 'Guido', 'Lara']\n",
    "index = [\"January\", \"February\", \"March\",\n",
    "         \"April\", \"May\", \"June\",\n",
    "         \"July\", \"August\", \"September\",\n",
    "         \"October\", \"November\", \"December\"]\n",
    "df = pd.DataFrame(np.random.randn(12, 5)*1000,\n",
    "                columns=names,\n",
    "                index=index)\n",
    "print df"
   ]
  },
  {
   "cell_type": "markdown",
   "metadata": {
    "deletable": true,
    "editable": true
   },
   "source": [
    "## 多层索引技术\n",
    "比较类似于 数据库中的 组合key， 即索引是一个 组合键值， 这里 index 就是 [(\"Vienna\", \"country\"),(\"Vienna\", \"area\"),(\"Vienna\", \"population\"),...,()]"
   ]
  },
  {
   "cell_type": "code",
   "execution_count": 43,
   "metadata": {
    "collapsed": false,
    "deletable": true,
    "editable": true
   },
   "outputs": [
    {
     "name": "stdout",
     "output_type": "stream",
     "text": [
      "[['Vienna', 'Vienna', 'Vienna', 'Hamburg', 'Hamburg', 'Hamburg', 'Berlin', 'Berlin', 'Berlin', 'Z\\xc3\\x83\\xc2\\xbcrich', 'Z\\xc3\\x83\\xc2\\xbcrich', 'Z\\xc3\\x83\\xc2\\xbcrich'], ['country', 'area', 'population', 'country', 'area', 'population', 'country', 'area', 'population', 'country', 'area', 'population']]\n"
     ]
    }
   ],
   "source": [
    "import pandas as pd\n",
    "cities = [\"Vienna\", \"Vienna\", \"Vienna\",\n",
    "          \"Hamburg\", \"Hamburg\", \"Hamburg\",\n",
    "          \"Berlin\", \"Berlin\", \"Berlin\",\n",
    "          \"ZÃ¼rich\", \"ZÃ¼rich\", \"ZÃ¼rich\"]\n",
    "index = [cities, [\"country\", \"area\", \"population\",\n",
    "                  \"country\", \"area\", \"population\",\n",
    "                  \"country\", \"area\", \"population\",\n",
    "                  \"country\", \"area\", \"population\"]]\n",
    "# c = [\"Vienna\", \"Vienna\", \"Vienna\",\n",
    "#           \"Hamburg\", \"Hamburg\", \"Hamburg\",\n",
    "#           \"Berlin\", \"Berlin\", \"Berlin\",\n",
    "#           \"ZÃ¼rich\", \"ZÃ¼rich\", \"ZÃ¼rich\"]\n",
    "# o = [\"country\", \"area\", \"population\",\n",
    "#      \"country\", \"area\", \"population\",\n",
    "#      \"country\", \"area\", \"population\",\n",
    "#      \"country\", \"area\", \"population\"]\n",
    "# index = zip(c,o)\n",
    "print(index)\n"
   ]
  },
  {
   "cell_type": "code",
   "execution_count": 44,
   "metadata": {
    "collapsed": false,
    "deletable": true,
    "editable": true
   },
   "outputs": [
    {
     "name": "stdout",
     "output_type": "stream",
     "text": [
      "Vienna   country           Austria\n",
      "         area                414.6\n",
      "         population        1805681\n",
      "Hamburg  country           Germany\n",
      "         area                  755\n",
      "         population        1760433\n",
      "Berlin   country           Germany\n",
      "         area               891.85\n",
      "         population        3562166\n",
      "ZÃ¼rich  country       Switzerland\n",
      "         area                87.88\n",
      "         population         378884\n",
      "dtype: object\n"
     ]
    }
   ],
   "source": [
    "data = [\"Austria\", 414.60,     1805681,\n",
    "        \"Germany\",   755.00,     1760433,\n",
    "        \"Germany\",   891.85,     3562166,\n",
    "        \"Switzerland\", 87.88, 378884]\n",
    "city_series = pd.Series(data, index=index)\n",
    "print(city_series)"
   ]
  },
  {
   "cell_type": "code",
   "execution_count": 45,
   "metadata": {
    "collapsed": false,
    "deletable": true,
    "editable": true
   },
   "outputs": [
    {
     "name": "stdout",
     "output_type": "stream",
     "text": [
      "country       Austria\n",
      "area            414.6\n",
      "population    1805681\n",
      "dtype: object\n"
     ]
    }
   ],
   "source": [
    "print(city_series[\"Vienna\"])"
   ]
  },
  {
   "cell_type": "code",
   "execution_count": 46,
   "metadata": {
    "collapsed": false,
    "deletable": true,
    "editable": true
   },
   "outputs": [
    {
     "name": "stdout",
     "output_type": "stream",
     "text": [
      "414.6\n",
      "414.6\n"
     ]
    }
   ],
   "source": [
    "print(city_series[\"Vienna\"][\"area\"])\n",
    "print(city_series[\"Vienna\", \"area\"])"
   ]
  },
  {
   "cell_type": "code",
   "execution_count": 47,
   "metadata": {
    "collapsed": false,
    "deletable": true,
    "editable": true
   },
   "outputs": [
    {
     "name": "stdout",
     "output_type": "stream",
     "text": [
      "Hamburg  country       Germany\n",
      "         area              755\n",
      "         population    1760433\n",
      "Berlin   country       Germany\n",
      "         area           891.85\n",
      "         population    3562166\n",
      "dtype: object\n"
     ]
    }
   ],
   "source": [
    "print(city_series[[\"Hamburg\", \"Berlin\"]])"
   ]
  },
  {
   "cell_type": "markdown",
   "metadata": {
    "deletable": true,
    "editable": true
   },
   "source": [
    "### 切片索引"
   ]
  },
  {
   "cell_type": "code",
   "execution_count": 48,
   "metadata": {
    "collapsed": false,
    "deletable": true,
    "editable": true
   },
   "outputs": [
    {
     "name": "stdout",
     "output_type": "stream",
     "text": [
      "city_series with sorted index:\n",
      "Berlin   area               891.85\n",
      "         country           Germany\n",
      "         population        3562166\n",
      "Hamburg  area                  755\n",
      "         country           Germany\n",
      "         population        1760433\n",
      "Vienna   area                414.6\n",
      "         country           Austria\n",
      "         population        1805681\n",
      "ZÃ¼rich  area                87.88\n",
      "         country       Switzerland\n",
      "         population         378884\n",
      "dtype: object\n",
      "\n",
      "\n",
      "Slicing the city_series:\n",
      "Berlin   area           891.85\n",
      "         country       Germany\n",
      "         population    3562166\n",
      "Hamburg  area              755\n",
      "         country       Germany\n",
      "         population    1760433\n",
      "Vienna   area            414.6\n",
      "         country       Austria\n",
      "         population    1805681\n",
      "dtype: object\n"
     ]
    }
   ],
   "source": [
    "city_series = city_series.sort_index()\n",
    "print(\"city_series with sorted index:\")\n",
    "print(city_series)\n",
    "print(\"\\n\\nSlicing the city_series:\")\n",
    "print(city_series[\"Berlin\":\"Vienna\"])"
   ]
  }
 ],
 "metadata": {
  "kernelspec": {
   "display_name": "Python 2",
   "language": "python",
   "name": "python2"
  },
  "language_info": {
   "codemirror_mode": {
    "name": "ipython",
    "version": 2
   },
   "file_extension": ".py",
   "mimetype": "text/x-python",
   "name": "python",
   "nbconvert_exporter": "python",
   "pygments_lexer": "ipython2",
   "version": "2.7.12"
  }
 },
 "nbformat": 4,
 "nbformat_minor": 2
}
