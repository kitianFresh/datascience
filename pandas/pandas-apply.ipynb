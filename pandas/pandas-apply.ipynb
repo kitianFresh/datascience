{
 "cells": [
  {
   "cell_type": "markdown",
   "metadata": {},
   "source": [
    "# pandas 应用篇"
   ]
  },
  {
   "cell_type": "code",
   "execution_count": 1,
   "metadata": {},
   "outputs": [],
   "source": [
    "import numpy as np\n",
    "# 导入相关包\n",
    "%matplotlib inline\n",
    "# 绘图包\n",
    "import matplotlib\n",
    "import matplotlib.pyplot as plt\n",
    "\n",
    "import pandas as pd\n",
    "# pass in column names for each CSV\n",
    "u_cols = ['user_id', 'age', 'sex', 'occupation', 'zip_code']\n",
    "users = pd.read_csv('ml-100k/u.user', sep='|', names=u_cols,\n",
    "                    encoding='latin-1')\n",
    "\n",
    "r_cols = ['user_id', 'movie_id', 'rating', 'unix_timestamp']\n",
    "ratings = pd.read_csv('ml-100k/u.data', sep='\\t', names=r_cols,\n",
    "                      encoding='latin-1')\n",
    "\n",
    "# the movies file contains columns indicating the movie's genres\n",
    "# let's only load the first five columns of the file with usecols\n",
    "m_cols = ['movie_id', 'title', 'release_date', 'video_release_date', 'imdb_url']\n",
    "movies = pd.read_csv('ml-100k/u.item', sep='|', names=m_cols, usecols=range(5),\n",
    "                     encoding='latin-1')\n",
    "# create one merged DataFrame\n",
    "movie_ratings = pd.merge(movies, ratings)\n",
    "lens = pd.merge(movie_ratings, users)"
   ]
  },
  {
   "cell_type": "markdown",
   "metadata": {},
   "source": [
    "> **25 部被评次数最多的电影?**"
   ]
  },
  {
   "cell_type": "code",
   "execution_count": 2,
   "metadata": {},
   "outputs": [
    {
     "data": {
      "text/plain": [
       "title\n",
       "Star Wars (1977)                             583\n",
       "Contact (1997)                               509\n",
       "Fargo (1996)                                 508\n",
       "Return of the Jedi (1983)                    507\n",
       "Liar Liar (1997)                             485\n",
       "English Patient, The (1996)                  481\n",
       "Scream (1996)                                478\n",
       "Toy Story (1995)                             452\n",
       "Air Force One (1997)                         431\n",
       "Independence Day (ID4) (1996)                429\n",
       "Raiders of the Lost Ark (1981)               420\n",
       "Godfather, The (1972)                        413\n",
       "Pulp Fiction (1994)                          394\n",
       "Twelve Monkeys (1995)                        392\n",
       "Silence of the Lambs, The (1991)             390\n",
       "Jerry Maguire (1996)                         384\n",
       "Chasing Amy (1997)                           379\n",
       "Rock, The (1996)                             378\n",
       "Empire Strikes Back, The (1980)              367\n",
       "Star Trek: First Contact (1996)              365\n",
       "Back to the Future (1985)                    350\n",
       "Titanic (1997)                               350\n",
       "Mission: Impossible (1996)                   344\n",
       "Fugitive, The (1993)                         336\n",
       "Indiana Jones and the Last Crusade (1989)    331\n",
       "dtype: int64"
      ]
     },
     "execution_count": 2,
     "metadata": {},
     "output_type": "execute_result"
    }
   ],
   "source": [
    "mosted_rated = lens.groupby('title').size().sort_values(ascending=False)[:25]\n",
    "mosted_rated"
   ]
  },
  {
   "cell_type": "markdown",
   "metadata": {},
   "source": [
    "以上语句的SQL语句就是：\n",
    "```sql\n",
    "SELECT title, count(1)\n",
    "FROM lens\n",
    "GROUP BY title\n",
    "ORDER BY 2 DESC\n",
    "LIMIT 25;\n",
    "```"
   ]
  },
  {
   "cell_type": "code",
   "execution_count": 3,
   "metadata": {},
   "outputs": [
    {
     "data": {
      "text/plain": [
       "Star Wars (1977)                             583\n",
       "Contact (1997)                               509\n",
       "Fargo (1996)                                 508\n",
       "Return of the Jedi (1983)                    507\n",
       "Liar Liar (1997)                             485\n",
       "English Patient, The (1996)                  481\n",
       "Scream (1996)                                478\n",
       "Toy Story (1995)                             452\n",
       "Air Force One (1997)                         431\n",
       "Independence Day (ID4) (1996)                429\n",
       "Raiders of the Lost Ark (1981)               420\n",
       "Godfather, The (1972)                        413\n",
       "Pulp Fiction (1994)                          394\n",
       "Twelve Monkeys (1995)                        392\n",
       "Silence of the Lambs, The (1991)             390\n",
       "Jerry Maguire (1996)                         384\n",
       "Chasing Amy (1997)                           379\n",
       "Rock, The (1996)                             378\n",
       "Empire Strikes Back, The (1980)              367\n",
       "Star Trek: First Contact (1996)              365\n",
       "Titanic (1997)                               350\n",
       "Back to the Future (1985)                    350\n",
       "Mission: Impossible (1996)                   344\n",
       "Fugitive, The (1993)                         336\n",
       "Indiana Jones and the Last Crusade (1989)    331\n",
       "Name: title, dtype: int64"
      ]
     },
     "execution_count": 3,
     "metadata": {},
     "output_type": "execute_result"
    }
   ],
   "source": [
    "lens.title.value_counts()[:25]"
   ]
  },
  {
   "cell_type": "markdown",
   "metadata": {},
   "source": [
    "> **评分普遍较高的电影?**\n",
    "\n",
    "**聚合函数 agg 非常有用, 传入一个词典，词典的 key 就是我们要做聚合的那一列， 词典的 value 是一个 list，list里面包含要对该列进行的聚合操作。**\n",
    "\n",
    "> We can use the agg method to pass a dictionary specifying the columns to aggregate (as keys) and a list of functions we'd like to apply.\n"
   ]
  },
  {
   "cell_type": "code",
   "execution_count": 4,
   "metadata": {},
   "outputs": [
    {
     "name": "stdout",
     "output_type": "stream",
     "text": [
      "                          rating          \n",
      "                            size      mean\n",
      "title                                     \n",
      "'Til There Was You (1997)      9  2.333333\n",
      "1-900 (1994)                   5  2.600000\n",
      "101 Dalmatians (1996)        109  2.908257\n",
      "12 Angry Men (1957)          125  4.344000\n",
      "187 (1997)                    41  3.024390\n"
     ]
    }
   ],
   "source": [
    "movie_stats = lens.groupby('title').agg({'rating': [np.size, np.mean]})\n",
    "print movie_stats.head()"
   ]
  },
  {
   "cell_type": "code",
   "execution_count": 5,
   "metadata": {},
   "outputs": [
    {
     "name": "stdout",
     "output_type": "stream",
     "text": [
      "                                           rating     \n",
      "                                             size mean\n",
      "title                                                 \n",
      "They Made Me a Criminal (1939)                  1  5.0\n",
      "Marlene Dietrich: Shadow and Light (1996)       1  5.0\n",
      "Saint of Fort Washington, The (1993)            2  5.0\n",
      "Someone Else's America (1995)                   1  5.0\n",
      "Star Kid (1997)                                 3  5.0\n"
     ]
    }
   ],
   "source": [
    "print movie_stats.sort_values([('rating', 'mean')], ascending=False).head()"
   ]
  },
  {
   "cell_type": "markdown",
   "metadata": {},
   "source": [
    "**注意上面 sort_values() 排序主键参数，使用的是 ('rating', 'mean'), 是一个 tuple， 为什么？ 因为这里经过聚合之后，返回的 DataFrame 的列是多层次索引的！MultiIndex， 因此我们需要传入 tuple 来排序。**"
   ]
  },
  {
   "cell_type": "code",
   "execution_count": 6,
   "metadata": {},
   "outputs": [
    {
     "name": "stdout",
     "output_type": "stream",
     "text": [
      "<class 'pandas.core.series.Series'>\n",
      "                                       rating          \n",
      "                                         size      mean\n",
      "title                                                  \n",
      "Close Shave, A (1995)                     112  4.491071\n",
      "Schindler's List (1993)                   298  4.466443\n",
      "Wrong Trousers, The (1993)                118  4.466102\n",
      "Casablanca (1942)                         243  4.456790\n",
      "Shawshank Redemption, The (1994)          283  4.445230\n",
      "Rear Window (1954)                        209  4.387560\n",
      "Usual Suspects, The (1995)                267  4.385768\n",
      "Star Wars (1977)                          583  4.358491\n",
      "12 Angry Men (1957)                       125  4.344000\n",
      "Citizen Kane (1941)                       198  4.292929\n",
      "To Kill a Mockingbird (1962)              219  4.292237\n",
      "One Flew Over the Cuckoo's Nest (1975)    264  4.291667\n",
      "Silence of the Lambs, The (1991)          390  4.289744\n",
      "North by Northwest (1959)                 179  4.284916\n",
      "Godfather, The (1972)                     413  4.283293\n"
     ]
    }
   ],
   "source": [
    "atleast_100 = movie_stats['rating']['size'] >= 100\n",
    "print(type(atleast_100))\n",
    "print movie_stats[atleast_100].sort_values([('rating', 'mean')], ascending=False)[:15]"
   ]
  },
  {
   "cell_type": "markdown",
   "metadata": {},
   "source": [
    "以上pandas代码对应的SQL：\n",
    "```sql\n",
    "SELECT title, COUNT(1) size, AVG(rating) mean\n",
    "FROM lens\n",
    "GROUP BY title\n",
    "HAVING COUNT(1) >= 100\n",
    "ORDER BY 3 DESC\n",
    "LIMIT 15;\n",
    "```"
   ]
  },
  {
   "cell_type": "code",
   "execution_count": 7,
   "metadata": {},
   "outputs": [
    {
     "data": {
      "image/png": "[encoded data removed]",
      "text/plain": [
       "<matplotlib.figure.Figure at 0x7f6d2c35ac10>"
      ]
     },
     "metadata": {},
     "output_type": "display_data"
    }
   ],
   "source": [
    "users.age.plot.hist(bins=30)\n",
    "plt.title(\"Distribution of users' ages\")\n",
    "plt.ylabel('count of users')\n",
    "plt.xlabel('age');"
   ]
  },
  {
   "cell_type": "markdown",
   "metadata": {},
   "source": [
    "## pandas.cut allows you to bin numeric data\n",
    "利用 pandas 可以对 数值类型的 数据进行分组! 这样可以添加一列,用于指明没一个数据属于哪个组!"
   ]
  },
  {
   "cell_type": "code",
   "execution_count": 8,
   "metadata": {},
   "outputs": [
    {
     "name": "stdout",
     "output_type": "stream",
     "text": [
      "      age age_group\n",
      "0      60     60-69\n",
      "397    21     20-29\n",
      "459    33     30-39\n",
      "524    30     30-39\n",
      "782    23     20-29\n",
      "995    29     20-29\n",
      "1229   26     20-29\n",
      "1664   31     30-39\n",
      "1942   24     20-29\n",
      "2270   32     30-39\n"
     ]
    }
   ],
   "source": [
    "labels = ['0-9', '10-19', '20-29', '30-39', '40-49', '50-59', '60-69', '70-79']\n",
    "lens['age_group'] = pd.cut(lens.age, range(0, 81, 10), right=False, labels=labels)\n",
    "print lens[['age', 'age_group']].drop_duplicates()[:10]"
   ]
  },
  {
   "cell_type": "code",
   "execution_count": 9,
   "metadata": {},
   "outputs": [
    {
     "name": "stdout",
     "output_type": "stream",
     "text": [
      "          rating          \n",
      "            size      mean\n",
      "age_group                 \n",
      "0-9           43  3.767442\n",
      "10-19       8181  3.486126\n",
      "20-29      39535  3.467333\n",
      "30-39      25696  3.554444\n",
      "40-49      15021  3.591772\n",
      "50-59       8704  3.635800\n",
      "60-69       2623  3.648875\n",
      "70-79        197  3.649746\n"
     ]
    }
   ],
   "source": [
    "print lens.groupby('age_group').agg({'rating': [np.size, np.mean]})"
   ]
  },
  {
   "cell_type": "code",
   "execution_count": 10,
   "metadata": {},
   "outputs": [],
   "source": [
    "most_50 = lens.groupby('movie_id').size().sort_values(ascending=False)[:50]"
   ]
  },
  {
   "cell_type": "markdown",
   "metadata": {},
   "source": [
    "以上选择 评论最多的 前 50 个数据的SQL语句:\n",
    "```sql\n",
    "CREATE TABLE most_50 AS (\n",
    "    SELECT movie_id, COUNT(1)\n",
    "    FROM lens\n",
    "    GROUP BY movie_id\n",
    "    ORDER BY 2 DESC\n",
    "    LIMIT 50\n",
    ");\n",
    "```"
   ]
  },
  {
   "cell_type": "code",
   "execution_count": 11,
   "metadata": {},
   "outputs": [
    {
     "data": {
      "text/plain": [
       "title                 age_group\n",
       "Air Force One (1997)  10-19        3.647059\n",
       "                      20-29        3.666667\n",
       "                      30-39        3.570000\n",
       "                      40-49        3.555556\n",
       "                      50-59        3.750000\n",
       "                      60-69        3.666667\n",
       "                      70-79        3.666667\n",
       "Alien (1979)          10-19        4.111111\n",
       "                      20-29        4.026087\n",
       "                      30-39        4.103448\n",
       "                      40-49        3.833333\n",
       "                      50-59        4.272727\n",
       "                      60-69        3.500000\n",
       "                      70-79        4.000000\n",
       "Aliens (1986)         10-19        4.050000\n",
       "Name: rating, dtype: float64"
      ]
     },
     "execution_count": 11,
     "metadata": {},
     "output_type": "execute_result"
    }
   ],
   "source": [
    "lens.set_index('movie_id', inplace=True)\n",
    "by_age = lens.loc[most_50.index].groupby(['title', 'age_group'])\n",
    "by_age.rating.mean().head(15)"
   ]
  },
  {
   "cell_type": "markdown",
   "metadata": {},
   "source": [
    "## unstack 函数\n",
    "unstack 函数可以取消规定的多层次索引(**默认情况下, groupby 函数会把分组依据的字段作为分组后的索引,由于这里使用的是两个字段来分组,因此索引成为了 多层次索引**)"
   ]
  },
  {
   "cell_type": "code",
   "execution_count": 12,
   "metadata": {},
   "outputs": [
    {
     "name": "stdout",
     "output_type": "stream",
     "text": [
      "age_group                          0-9     10-19     20-29     30-39  \\\n",
      "title                                                                  \n",
      "E.T. the Extra-Terrestrial (1982)  0.0  3.680000  3.609091  3.806818   \n",
      "Empire Strikes Back, The (1980)    4.0  4.642857  4.311688  4.052083   \n",
      "English Patient, The (1996)        5.0  3.739130  3.571429  3.621849   \n",
      "Fargo (1996)                       0.0  3.937500  4.010471  4.230769   \n",
      "Forrest Gump (1994)                5.0  4.047619  3.785714  3.861702   \n",
      "Fugitive, The (1993)               0.0  4.320000  3.969925  3.981481   \n",
      "Full Monty, The (1997)             0.0  3.421053  4.056818  3.933333   \n",
      "Godfather, The (1972)              0.0  4.400000  4.345070  4.412844   \n",
      "Groundhog Day (1993)               0.0  3.476190  3.798246  3.786667   \n",
      "Independence Day (ID4) (1996)      0.0  3.595238  3.291429  3.389381   \n",
      "\n",
      "age_group                             40-49     50-59     60-69     70-79  \n",
      "title                                                                      \n",
      "E.T. the Extra-Terrestrial (1982)  4.160000  4.368421  4.375000  0.000000  \n",
      "Empire Strikes Back, The (1980)    4.100000  3.909091  4.250000  5.000000  \n",
      "English Patient, The (1996)        3.634615  3.774648  3.904762  4.500000  \n",
      "Fargo (1996)                       4.294118  4.442308  4.000000  4.333333  \n",
      "Forrest Gump (1994)                3.847826  4.000000  3.800000  0.000000  \n",
      "Fugitive, The (1993)               4.190476  4.240000  3.666667  0.000000  \n",
      "Full Monty, The (1997)             3.714286  4.146341  4.166667  3.500000  \n",
      "Godfather, The (1972)              3.929412  4.463415  4.125000  0.000000  \n",
      "Groundhog Day (1993)               3.851064  3.571429  3.571429  4.000000  \n",
      "Independence Day (ID4) (1996)      3.718750  3.888889  2.750000  0.000000  \n"
     ]
    }
   ],
   "source": [
    "print by_age.rating.mean().unstack(1).fillna(0)[10:20]"
   ]
  },
  {
   "cell_type": "markdown",
   "metadata": {},
   "source": [
    "以上函数, unstack(1) 完成对 多层索引中第二个字段的 unstack, 即现在的索引变成了 title 一个单索引了!"
   ]
  },
  {
   "cell_type": "code",
   "execution_count": 14,
   "metadata": {},
   "outputs": [],
   "source": [
    "# print by_age.rating.mean().unstack(0).fillna(0)"
   ]
  },
  {
   "cell_type": "markdown",
   "metadata": {
    "collapsed": true
   },
   "source": [
    "> **选择哪些电影是男性和女性评价最不一致的?**\n",
    "\n",
    "如果像SQL一样思考,首先是对电影分组,然后每一部电影中男生评分的均值,女生评分的均值,最后选出差异最大的那些组!\n",
    "\n",
    "```sql\n",
    "SELECT title, AVG(IF(sex = 'F', rating, NULL)), AVG(IF(sex = 'M', rating, NULL))\n",
    "FROM lens\n",
    "GROUP BY title;\n",
    "```"
   ]
  },
  {
   "cell_type": "markdown",
   "metadata": {},
   "source": [
    "## pivot_table 函数"
   ]
  },
  {
   "cell_type": "code",
   "execution_count": 15,
   "metadata": {},
   "outputs": [
    {
     "name": "stdout",
     "output_type": "stream",
     "text": [
      "sex                                F         M\n",
      "movie_id title                                \n",
      "1        Toy Story (1995)   3.789916  3.909910\n",
      "2        GoldenEye (1995)   3.368421  3.178571\n",
      "3        Four Rooms (1995)  2.687500  3.108108\n",
      "4        Get Shorty (1995)  3.400000  3.591463\n",
      "5        Copycat (1995)     3.772727  3.140625\n"
     ]
    }
   ],
   "source": [
    "lens.reset_index('movie_id', inplace=True)\n",
    "pivoted = lens.pivot_table(index=['movie_id', 'title'],\n",
    "                           columns=['sex'],\n",
    "                           values='rating',\n",
    "                           fill_value=0)\n",
    "print pivoted.head()"
   ]
  },
  {
   "cell_type": "code",
   "execution_count": 17,
   "metadata": {},
   "outputs": [
    {
     "name": "stdout",
     "output_type": "stream",
     "text": [
      "sex                                F         M      diff\n",
      "movie_id title                                          \n",
      "1        Toy Story (1995)   3.789916  3.909910  0.119994\n",
      "2        GoldenEye (1995)   3.368421  3.178571 -0.189850\n",
      "3        Four Rooms (1995)  2.687500  3.108108  0.420608\n",
      "4        Get Shorty (1995)  3.400000  3.591463  0.191463\n",
      "5        Copycat (1995)     3.772727  3.140625 -0.632102\n"
     ]
    }
   ],
   "source": [
    "pivoted['diff'] = pivoted.M - pivoted.F\n",
    "print pivoted.head()"
   ]
  },
  {
   "cell_type": "code",
   "execution_count": 21,
   "metadata": {},
   "outputs": [
    {
     "name": "stdout",
     "output_type": "stream",
     "text": [
      "sex  index              title  movie_id         F         M      diff\n",
      "0        0   Toy Story (1995)         1  3.789916  3.909910  0.119994\n",
      "1        1   GoldenEye (1995)         2  3.368421  3.178571 -0.189850\n",
      "2        2  Four Rooms (1995)         3  2.687500  3.108108  0.420608\n",
      "3        3  Get Shorty (1995)         4  3.400000  3.591463  0.191463\n",
      "4        4     Copycat (1995)         5  3.772727  3.140625 -0.632102\n"
     ]
    }
   ],
   "source": [
    "pivoted.reset_index('movie_id', inplace=True)\n",
    "print pivoted.head()"
   ]
  },
  {
   "cell_type": "code",
   "execution_count": 22,
   "metadata": {},
   "outputs": [
    {
     "data": {
      "image/png": "[encoded data removed]",
      "text/plain": [
       "<matplotlib.figure.Figure at 0x7f6d019dec50>"
      ]
     },
     "metadata": {},
     "output_type": "display_data"
    }
   ],
   "source": [
    "disagreements = pivoted[pivoted.movie_id.isin(most_50.index)]['diff']\n",
    "disagreements.sort_values().plot(kind='barh', figsize=[9, 15])\n",
    "plt.title('Male vs. Female Avg. Ratings\\n(Difference > 0 = Favored by Men)')\n",
    "plt.ylabel('Title')\n",
    "plt.xlabel('Average Rating Difference');"
   ]
  },
  {
   "cell_type": "markdown",
   "metadata": {},
   "source": [
    "# 参考\n",
    " - [Working with DataFrames](http://www.gregreda.com/2013/10/26/working-with-pandas-dataframes/)"
   ]
  }
 ],
 "metadata": {
  "kernelspec": {
   "display_name": "Python 3",
   "language": "python",
   "name": "python3"
  },
  "language_info": {
   "codemirror_mode": {
    "name": "ipython",
    "version": 3
   },
   "file_extension": ".py",
   "mimetype": "text/x-python",
   "name": "python",
   "nbconvert_exporter": "python",
   "pygments_lexer": "ipython3",
   "version": "3.6.2"
  }
 },
 "nbformat": 4,
 "nbformat_minor": 2
}
