{
 "cells": [
  {
   "cell_type": "markdown",
   "metadata": {
    "deletable": true,
    "editable": true
   },
   "source": [
    "# Numpy array creation\n",
    "## 创建均匀分布的值\n",
    "### arange\n",
    " * arange([start,] stop[, step,], dtype=None)：生成一个线性增长的某一范围内的数组，和Python中的 range 类似，但是arange支持浮点参数\n",
    "  - start，stop '[start, stop)';start 默认为0；\n",
    "  - dtype默认从其他参数推断"
   ]
  },
  {
   "cell_type": "code",
   "execution_count": 1,
   "metadata": {
    "collapsed": false,
    "deletable": true,
    "editable": true
   },
   "outputs": [
    {
     "name": "stdout",
     "output_type": "stream",
     "text": [
      "[1 3 5 7 9]\n",
      "[]\n",
      "[  0.   1.   2.   3.   4.   5.   6.   7.   8.   9.  10.]\n",
      "xrange(10)\n"
     ]
    },
    {
     "data": {
      "text/plain": [
       "[0, 1, 2, 3, 4, 5, 6, 7, 8, 9]"
      ]
     },
     "execution_count": 1,
     "metadata": {},
     "output_type": "execute_result"
    }
   ],
   "source": [
    "import numpy as np\n",
    "print np.arange(1,10,2)\n",
    "print np.arange(10.2, 0.8)\n",
    "print np.arange(10.4)\n",
    "x = xrange(10)\n",
    "print x\n",
    "list(x)"
   ]
  },
  {
   "cell_type": "markdown",
   "metadata": {
    "deletable": true,
    "editable": true
   },
   "source": [
    "x 是一个 generator, 因此不能直接打印"
   ]
  },
  {
   "cell_type": "markdown",
   "metadata": {
    "deletable": true,
    "editable": true
   },
   "source": [
    "### linspace\n",
    " * linspace(start, stop, num=50, endpoint=True, retstep=False)：在闭区间或半开区间中生成等间隔的序列点，即均分区间；\n",
    "  - start,stop '[start,stop]' 或者 '[start,stop)';\n",
    "  - num 生成的点数，默认50；\n",
    "  - endpoint，即[start,stop]为真，[start,stop）为假，就是带不带端点的意思；\n",
    "  - retstep，为真的时候，会返回额外的间隔，即返回 (samples, step) 二元组；"
   ]
  },
  {
   "cell_type": "code",
   "execution_count": 2,
   "metadata": {
    "collapsed": false,
    "deletable": true,
    "editable": true
   },
   "outputs": [
    {
     "name": "stdout",
     "output_type": "stream",
     "text": [
      "[  1.           1.18367347   1.36734694   1.55102041   1.73469388\n",
      "   1.91836735   2.10204082   2.28571429   2.46938776   2.65306122\n",
      "   2.83673469   3.02040816   3.20408163   3.3877551    3.57142857\n",
      "   3.75510204   3.93877551   4.12244898   4.30612245   4.48979592\n",
      "   4.67346939   4.85714286   5.04081633   5.2244898    5.40816327\n",
      "   5.59183673   5.7755102    5.95918367   6.14285714   6.32653061\n",
      "   6.51020408   6.69387755   6.87755102   7.06122449   7.24489796\n",
      "   7.42857143   7.6122449    7.79591837   7.97959184   8.16326531\n",
      "   8.34693878   8.53061224   8.71428571   8.89795918   9.08163265\n",
      "   9.26530612   9.44897959   9.63265306   9.81632653  10.        ]\n",
      "[  1.    2.5   4.    5.5   7.    8.5  10. ]\n",
      "[ 1.          2.28571429  3.57142857  4.85714286  6.14285714  7.42857143\n",
      "  8.71428571]\n",
      "[  1.    2.5   4.    5.5   7.    8.5  10. ] 1.5\n"
     ]
    }
   ],
   "source": [
    "print np.linspace(1,10)\n",
    "print np.linspace(1,10,7) #step = (10-1)/(7-1)\n",
    "print np.linspace(1,10,7,False)\n",
    "samples, step = np.linspace(1,10,7,True,True)\n",
    "print samples, step"
   ]
  },
  {
   "cell_type": "markdown",
   "metadata": {
    "deletable": true,
    "editable": true
   },
   "source": [
    "## 创建多维数组ndarray\n",
    "比 Python list 更加高效的多维数组, 接受以 Python list 形式递归嵌套定义的多维数组；\n",
    "### 0维数组\n",
    "可以认为是一个标量scalar"
   ]
  },
  {
   "cell_type": "code",
   "execution_count": 3,
   "metadata": {
    "collapsed": false,
    "deletable": true,
    "editable": true
   },
   "outputs": [
    {
     "name": "stdout",
     "output_type": "stream",
     "text": [
      "x: 777\n",
      "type: <type 'numpy.ndarray'>\n",
      "dimension: 0\n",
      "shape:  ()\n"
     ]
    }
   ],
   "source": [
    "x = np.array(777)\n",
    "print \"x: %d\" % x\n",
    "print \"type: %s\" % type(x)\n",
    "print \"dimension: %d\" % np.ndim(x)\n",
    "print \"shape: \", x.shape"
   ]
  },
  {
   "cell_type": "markdown",
   "metadata": {
    "deletable": true,
    "editable": true
   },
   "source": [
    "### 1维数组\n"
   ]
  },
  {
   "cell_type": "code",
   "execution_count": 4,
   "metadata": {
    "collapsed": false,
    "deletable": true,
    "editable": true
   },
   "outputs": [
    {
     "name": "stdout",
     "output_type": "stream",
     "text": [
      "V:  [1 2 3 4 5]\n",
      "type:  <type 'numpy.ndarray'>\n",
      "dimension:  1\n",
      "shape:  (5,)\n"
     ]
    }
   ],
   "source": [
    "V = np.array([1,2,3,4,5])\n",
    "print \"V: \", V\n",
    "print \"type: \", type(V)\n",
    "print \"dimension: \", np.ndim(V)\n",
    "print \"shape: \", V.shape"
   ]
  },
  {
   "cell_type": "markdown",
   "metadata": {
    "deletable": true,
    "editable": true
   },
   "source": [
    "### 多维数组"
   ]
  },
  {
   "cell_type": "code",
   "execution_count": 5,
   "metadata": {
    "collapsed": false,
    "deletable": true,
    "editable": true
   },
   "outputs": [
    {
     "name": "stdout",
     "output_type": "stream",
     "text": [
      "[[1 2 3]\n",
      " [4 5 6]\n",
      " [7 8 9]]\n",
      "2\n",
      "(3, 3)\n",
      "[[[ 1  2  3]\n",
      "  [ 4  5  6]\n",
      "  [ 7  8  9]]\n",
      "\n",
      " [[10 11 12]\n",
      "  [13 14 15]\n",
      "  [16 17 18]]]\n",
      "3\n",
      "(2, 3, 3)\n"
     ]
    }
   ],
   "source": [
    "A = np.array([[1,2,3],\n",
    "              [4,5,6],\n",
    "              [7,8,9]])\n",
    "print A\n",
    "print A.ndim\n",
    "print A.shape\n",
    "\n",
    "Q = np.array([\n",
    "    [[1,2,3],[4,5,6],[7,8,9]],\n",
    "    [[10,11,12],[13,14,15],[16,17,18]]\n",
    "])\n",
    "print Q\n",
    "print Q.ndim\n",
    "print Q.shape"
   ]
  },
  {
   "cell_type": "markdown",
   "metadata": {
    "deletable": true,
    "editable": true
   },
   "source": [
    "### ndarray shape 和 axis\n",
    "多维数组的 shape 就是一个各个维度长度组成的 tuple，每一个维度都有一个轴 axis"
   ]
  },
  {
   "cell_type": "code",
   "execution_count": 6,
   "metadata": {
    "collapsed": false,
    "deletable": true,
    "editable": true
   },
   "outputs": [
    {
     "name": "stdout",
     "output_type": "stream",
     "text": [
      "(6, 3)\n"
     ]
    }
   ],
   "source": [
    "x = np.array([ [67, 63, 87],\n",
    "               [77, 69, 59],\n",
    "               [85, 87, 99],\n",
    "               [79, 72, 71],\n",
    "               [63, 89, 93],\n",
    "               [68, 92, 78]])\n",
    "print(np.shape(x))"
   ]
  },
  {
   "cell_type": "markdown",
   "metadata": {
    "deletable": true,
    "editable": true
   },
   "source": [
    "二维数组的轴，你可以理解为二维平面坐标轴，axis=0 表示当沿着y方向，axis=1 表示沿着x方向\n",
    "\n",
    "![axis1](./numpynotes-1-basics-and-core/axis1.jpeg)\n",
    "三维数组的轴，可以理解为三维空间坐标轴，axis=0 表示当沿着y方向，axis=1 表示沿着x方向，axis=2 表示沿着z方向\n",
    "\n",
    "![axis](./numpynotes-1-basics-and-core/axis.jpeg)\n",
    "\n",
    "**高维空间是无法映射到物理空间的，因此也不能画出图像来，但是还是一样，每一个维度对应一个轴，沿着某一个轴，剩下的维度构成一个超空间。**对于2维，沿着x轴，剩下的y维度构成一个直线向下平移；"
   ]
  },
  {
   "cell_type": "markdown",
   "metadata": {
    "deletable": true,
    "editable": true
   },
   "source": [
    ">多维数组维度的理解，这里如何看出Q是三维且shape为(2,3,3)呢？\n",
    "\n",
    "**递归定义，递归检查**\n",
    " - 先检查第一个中括号对[]里的元素，发现是两个list元素，那么第一维度的长度为2；\n",
    " - 进一步进入内部的list [[1,2,3],[4,5,6],[7,8,9]]，递归进行维度检查，发现内部有三个list元素，因此第二维度长度为3；\n",
    " - 再进行递归，进入第三层list [1,2,3],此时内部含有三个元素，因此第三维度长度为3；最后再次递归时，发现元素是scalar，停止；\n",
    "\n",
    "因此是 3 维且 shape 为 (2,3,3)；axis 分别是 0,1,2"
   ]
  },
  {
   "cell_type": "code",
   "execution_count": 7,
   "metadata": {
    "collapsed": false,
    "deletable": true,
    "editable": true
   },
   "outputs": [
    {
     "data": {
      "text/plain": [
       "[2, 3, 3]"
      ]
     },
     "execution_count": 7,
     "metadata": {},
     "output_type": "execute_result"
    }
   ],
   "source": [
    "def my_shape(l):\n",
    "    shape = []\n",
    "    shape.extend([len(l)])\n",
    "    for e in l:\n",
    "        if isinstance(e, list):\n",
    "            shape.extend(my_shape(e))\n",
    "            break\n",
    "        else:\n",
    "            continue\n",
    "    return shape\n",
    "l = [\n",
    "    [[1,2,3],[4,5,6],[7,8,9]],\n",
    "    [[10,11,12],[13,14,15],[16,17,18]]\n",
    "]\n",
    "my_shape(l)"
   ]
  },
  {
   "cell_type": "markdown",
   "metadata": {
    "deletable": true,
    "editable": true
   },
   "source": [
    ">维度和axis有什么用呢？\n",
    "\n",
    "**整形，广播和聚合计算**\n",
    " - 我们先来看看聚合计算的例子，就容易知道axis的作用了！"
   ]
  },
  {
   "cell_type": "code",
   "execution_count": 8,
   "metadata": {
    "collapsed": false,
    "deletable": true,
    "editable": true,
    "scrolled": true
   },
   "outputs": [
    {
     "name": "stdout",
     "output_type": "stream",
     "text": [
      "[[ 1  2  3]\n",
      " [ 4  5  6]\n",
      " [ 7  8  9]\n",
      " [10 11 12]]\n",
      "(4, 3)\n",
      "[22 26 30]\n",
      "[ 6 15 24 33]\n",
      "-------------------------\n",
      "[[[ 1  2  3]\n",
      "  [ 4  5  6]\n",
      "  [ 7  8  9]]\n",
      "\n",
      " [[10 11 12]\n",
      "  [13 14 15]\n",
      "  [16 17 18]]]\n",
      "(2, 3, 3)\n",
      "axis=0\n",
      "[[11 13 15]\n",
      " [17 19 21]\n",
      " [23 25 27]]\n",
      "axis=1\n",
      "[[12 15 18]\n",
      " [39 42 45]]\n",
      "axis=2\n",
      "[[ 6 15 24]\n",
      " [33 42 51]]\n",
      "-------------------------\n",
      "array([[[[ 1,  2,  3],\n",
      "         [ 4,  5,  6],\n",
      "         [ 7,  8,  9]],\n",
      "\n",
      "        [[10, 11, 12],\n",
      "         [13, 14, 15],\n",
      "         [16, 17, 18]]],\n",
      "\n",
      "\n",
      "       [[[ 2,  3,  4],\n",
      "         [ 5,  6,  7],\n",
      "         [ 8,  9, 10]],\n",
      "\n",
      "        [[11, 12, 13],\n",
      "         [14, 15, 16],\n",
      "         [17, 18, 19]]],\n",
      "\n",
      "\n",
      "       [[[ 3,  4,  5],\n",
      "         [ 6,  7,  8],\n",
      "         [ 9, 10, 11]],\n",
      "\n",
      "        [[12, 13, 14],\n",
      "         [15, 16, 17],\n",
      "         [18, 19, 20]]]])\n",
      "(3, 2, 3, 3)\n",
      "axis=0\n",
      "array([[[ 6,  9, 12],\n",
      "        [15, 18, 21],\n",
      "        [24, 27, 30]],\n",
      "\n",
      "       [[33, 36, 39],\n",
      "        [42, 45, 48],\n",
      "        [51, 54, 57]]])\n",
      "axis=1\n",
      "array([[[11, 13, 15],\n",
      "        [17, 19, 21],\n",
      "        [23, 25, 27]],\n",
      "\n",
      "       [[13, 15, 17],\n",
      "        [19, 21, 23],\n",
      "        [25, 27, 29]],\n",
      "\n",
      "       [[15, 17, 19],\n",
      "        [21, 23, 25],\n",
      "        [27, 29, 31]]])\n",
      "axis=2\n",
      "array([[[12, 15, 18],\n",
      "        [39, 42, 45]],\n",
      "\n",
      "       [[15, 18, 21],\n",
      "        [42, 45, 48]],\n",
      "\n",
      "       [[18, 21, 24],\n",
      "        [45, 48, 51]]])\n",
      "axis=3\n",
      "array([[[ 6, 15, 24],\n",
      "        [33, 42, 51]],\n",
      "\n",
      "       [[ 9, 18, 27],\n",
      "        [36, 45, 54]],\n",
      "\n",
      "       [[12, 21, 30],\n",
      "        [39, 48, 57]]])\n"
     ]
    }
   ],
   "source": [
    "B = np.array([[1,2,3],\n",
    "              [4,5,6],\n",
    "              [7,8,9],\n",
    "              [10,11,12]])\n",
    "C = np.array([\n",
    "    [[1,2,3],[4,5,6],[7,8,9]],\n",
    "    [[10,11,12],[13,14,15],[16,17,18]]\n",
    "])\n",
    "print B\n",
    "print B.shape\n",
    "print np.sum(B, axis=0)\n",
    "print np.sum(B, axis=1)\n",
    "print '-------------------------'\n",
    "print C\n",
    "print C.shape\n",
    "print \"axis=0\\n\", np.sum(C, axis=0)\n",
    "print \"axis=1\\n\", np.sum(C, axis=1)\n",
    "print \"axis=2\\n\", np.sum(C, axis=2)\n",
    "\n",
    "D = np.array([C,C+1,C+2])\n",
    "print '-------------------------'\n",
    "print repr(D)\n",
    "print D.shape\n",
    "print \"axis=0\\n\", repr(np.sum(D, axis=0))\n",
    "print \"axis=1\\n\", repr(np.sum(D, axis=1))\n",
    "print \"axis=2\\n\", repr(np.sum(D, axis=2))\n",
    "print \"axis=3\\n\", repr(np.sum(D, axis=3))"
   ]
  },
  {
   "cell_type": "markdown",
   "metadata": {
    "deletable": true,
    "editable": true
   },
   "source": [
    "> 以上聚合计算，axis如何改变 np.sum 的最终结果呢？\n",
    "\n",
    " * 坐标空间法\n",
    "   - 根据坐标平面来理解，利用空间想象，axis=0就是沿着y轴移动，即每一条垂直于x轴的线，累加起来，reduce成为一个sum点，得到 [22 26 30]的结果；反之，axis=1就是沿着x轴移动，即每一条垂直与y轴的线，累加起来，reduce成为一个sum点，得到 [ 6 15 24 33]；\n",
    "   - 利用空间只能想象到三维，因此不太通用，并不是聚合计算中采用axis的本质；\n",
    " * **抽象维度法**（我也称之为**降维攻击法** ^<^）\n",
    "   - 更加通用的方法，其实 axis 的本质，采用抽象的方法来理解，更容易计算出最终结果；以上面的C为例:\n",
    "   - axis=0，即把该维度进行降维，根据sum将该维度reduce成一个点。具体操作就是定位第0维度，即递归的第一层次，该维度长度为2，剩下维度构成一个超空间，第0维度的每一个元素都对应着一个超空间，即第一个list元素[[1,2,3],[4,5,6],[7,8,9]]超空间，第二个list元素[[10,11,12],[13,14,15],[16,17,18]]超空间，沿着第0维度将这些超空间的元素对应位置累加起来，最后reduce掉第0维度，即结果成为shape（3,3）的一个超空间（在这里就是一个平面）[[11,13,15],[17,19,21],[23,25,27]];\n",
    "   - axis=1,即把第1维度进行降维，首先定位，即第二次递归，进入第二层次的那个维度，这个维度有第0维度的第一个元素中的三个list元素[1,2,3],[4,5,6],[7,8,9]以及第0维度的第二个元素中的三个list元素[10,11,12],[13,14,15],[16,17,18]，此时对其进行reduce降维，将三个元素累加起来，得到shape为(2,3)的超空间[[12,15,18],[39,42,45]],即在不改变另外两个维度的前提下，缩减axis维度。\n",
    "   - axis=2，即把递归进入第三层，该维度有三个scalar元素，即子空间[0][0]的[1,2,3],[0][1]的[4,5,6],[0][2]的[7,8,9],[1][0]的[10,11,12], [1][1]的[13,14,15], [1][2]的[16,17,18]，将三个scalar直接相加起来，[[6,15,24],[33,42,51]]\n",
    "   - 抽象维度法的步骤就是，**定位维度所在递归列表的层次，不改变另外两个维度的前提下，将所有处于该维度的元素reduce降维；**\n",
    "   \n",
    ">D的axis=1的例子？\n",
    "\n",
    "定位到第二个`[`,内部两个元素，因为该维度长度2，\n",
    "\\begin{equation}\n",
    " \\begin{bmatrix}\n",
    "   1  &  2  &  3 \\\\\n",
    "   4  &  5  &  6 \\\\\n",
    "   7  &  8  &  9\n",
    " \\end{bmatrix},\n",
    " \\begin{bmatrix}\n",
    "   10 & 11 & 12 \\\\\n",
    "   13 & 14 & 15 \\\\\n",
    "   16 & 17 & 18\n",
    " \\end{bmatrix}\n",
    "\\end{equation}\n",
    "\n",
    "将该维度降维，即\n",
    "\\begin{equation}\n",
    " \\begin{bmatrix}\n",
    "   1 & 2 & 3 \\\\\n",
    "   4 & 5 & 6 \\\\\n",
    "   7 & 8 & 9\n",
    "  \\end{bmatrix}+\n",
    " \\begin{bmatrix}\n",
    "   10 & 11 & 12 \\\\\n",
    "   13 & 14 & 15 \\\\\n",
    "   16 & 17 & 18\n",
    "  \\end{bmatrix}=\n",
    " \\begin{bmatrix}\n",
    "   11 & 13 & 15 \\\\\n",
    "   17 & 19 & 21 \\\\\n",
    "   23 & 25 & 27\n",
    "  \\end{bmatrix}\n",
    "\\end{equation}\n"
   ]
  },
  {
   "cell_type": "markdown",
   "metadata": {
    "deletable": true,
    "editable": true
   },
   "source": [
    "### 索引和切片（indexing & slicing）\n",
    "索引和 Python list tuple 一样的用法，可以采用 list[i][j][k]的写法或者 list[i,j,k]，并且还支持 tuple 索引，即索引是一个数组，直接取出一批数据；"
   ]
  },
  {
   "cell_type": "code",
   "execution_count": 47,
   "metadata": {
    "collapsed": false,
    "deletable": true,
    "editable": true
   },
   "outputs": [
    {
     "name": "stdout",
     "output_type": "stream",
     "text": [
      "[1, 2, 3, 4, 5, 6]\n",
      "[2, 3, 4]\n",
      "[777, 3, 4]\n",
      "[1, 2, 3, 4, 5, 6]\n",
      "[ 0  1  2  3  4  5  6  7  8  9 10 11 12 13 14 15 16 17 18 19 20 21 22 23 24\n",
      " 25 26 27]\n",
      "[[ 0  1  2  3  4  5  6]\n",
      " [ 7  8  9 10 11 12 13]\n",
      " [14 15 16 17 18 19 20]\n",
      " [21 22 23 24 25 26 27]]\n",
      "8\n",
      "[ 4 12 20]\n",
      "[999  12  20]\n",
      "[[ 0  1  2  3  4  5  6]\n",
      " [ 7  8  9 10 11 12 13]\n",
      " [14 15 16 17 18 19 20]\n",
      " [21 22 23 24 25 26 27]]\n"
     ]
    }
   ],
   "source": [
    "python_list = [1,2,3,4,5,6]\n",
    "python_slice = python_list[1:4]\n",
    "print python_list\n",
    "print python_slice\n",
    "python_slice[0] = 777\n",
    "print python_slice\n",
    "print python_list\n",
    "\n",
    "X = np.arange(28)\n",
    "print(X)\n",
    "X = X.reshape(4,7)\n",
    "print X\n",
    "print X[1,1]\n",
    "array_index_x = X[(0,1,2),(4,5,6)]\n",
    "print array_index_x\n",
    "array_index_x[0] = 999\n",
    "print array_index_x\n",
    "print X"
   ]
  },
  {
   "cell_type": "markdown",
   "metadata": {
    "deletable": true,
    "editable": true
   },
   "source": [
    "切片和 Python list tuple 也类似，但是有一点不同：** Python list 和 tuple 中切片会创建一个新的对象，改变这个对象不影响原来的 list，但是 numpy 中的 ndarray，切片创建的是原来 ndarray 的视图，修改后会改变原始 ndarray；但是通过数组索引的形式获取的，就不是视图了，而是新的对象。**\n",
    " - X[start:stop:step], [start, stop)左闭右开\n",
    "\n",
    "![slicing](./numpynotes-1-basics-and-core/slicing.png)"
   ]
  },
  {
   "cell_type": "code",
   "execution_count": 48,
   "metadata": {
    "collapsed": false,
    "deletable": true,
    "editable": true
   },
   "outputs": [
    {
     "name": "stdout",
     "output_type": "stream",
     "text": [
      "[ 0  1  2  3  4  5  6  7  8  9 10 11 12 13 14 15 16 17 18 19 20 21 22 23 24\n",
      " 25 26 27]\n",
      "[27 26 25 24 23 22 21 20 19 18 17 16 15 14 13 12 11 10  9  8  7  6  5  4  3\n",
      "  2  1  0]\n",
      "[[ 0  1  2  3  4  5  6]\n",
      " [ 7  8  9 10 11 12 13]\n",
      " [14 15 16 17 18 19 20]\n",
      " [21 22 23 24 25 26 27]]\n",
      "[[ 0  3  6]\n",
      " [14 17 20]]\n",
      "[[777   1   2   3   4   5   6]\n",
      " [  7   8   9  10  11  12  13]\n",
      " [ 14  15  16  17  18  19  20]\n",
      " [ 21  22  23  24  25  26  27]]\n",
      "[[ 8  9 10 11 12]\n",
      " [15 16 17 18 19]]\n",
      "[[ 27  26  25  24  23  22  21]\n",
      " [ 20  19  18  17  16  15  14]\n",
      " [ 13  12  11  10   9   8   7]\n",
      " [  6   5   4   3   2   1 777]]\n"
     ]
    }
   ],
   "source": [
    "X = np.arange(28)\n",
    "print(X)\n",
    "print X[::-1]\n",
    "X = np.reshape(X,(4,7))\n",
    "print X\n",
    "view = X[::2, ::3]\n",
    "print(view)\n",
    "view[0][0] = 777\n",
    "print X\n",
    "view = X[1:-1, 1:-1]\n",
    "print view\n",
    "view = X[::-1, ::-1]\n",
    "print view"
   ]
  },
  {
   "cell_type": "markdown",
   "metadata": {
    "deletable": true,
    "editable": true
   },
   "source": [
    "### 内存共享\n",
    "我们可以使用 `np.may_share_memory(A, B)` 来查看两个array是否共享了内存；如果A B 内存有共享的部分，就返回真；"
   ]
  },
  {
   "cell_type": "code",
   "execution_count": 49,
   "metadata": {
    "collapsed": false,
    "deletable": true,
    "editable": true
   },
   "outputs": [
    {
     "data": {
      "text/plain": [
       "True"
      ]
     },
     "execution_count": 49,
     "metadata": {},
     "output_type": "execute_result"
    }
   ],
   "source": [
    "np.may_share_memory(X, view)"
   ]
  },
  {
   "cell_type": "markdown",
   "metadata": {
    "deletable": true,
    "editable": true
   },
   "source": [
    "`ndarray.data` 用来得到array的数组数据的指针地址，我们会发现**reshape 或者非索引形式的切片存在某种内存共享；**"
   ]
  },
  {
   "cell_type": "code",
   "execution_count": 50,
   "metadata": {
    "collapsed": false,
    "deletable": true,
    "editable": true
   },
   "outputs": [
    {
     "name": "stdout",
     "output_type": "stream",
     "text": [
      "<read-write buffer for 0x7fc0ac1c2120, size 96, offset 0 at 0x7fc0ac2bb830>\n",
      "<read-write buffer for 0x7fc0ac1c20d0, size 96, offset 0 at 0x7fc0ac2bb7b0>\n",
      "True\n",
      "True\n",
      "[  0   1   2   3   4   5   6 777   8   9  10  11]\n",
      "[[  0   1   2   3]\n",
      " [  4   5   6 777]\n",
      " [  8   9  10  11]]\n"
     ]
    }
   ],
   "source": [
    "A = np.arange(12)\n",
    "B = A.reshape(3,4)\n",
    "print repr(A.data)\n",
    "print repr(B.data)\n",
    "print (A.data == B.data)\n",
    "print np.may_share_memory(A,B)\n",
    "A[7] = 777\n",
    "print A\n",
    "print B\n",
    "#print (view.data) #AttributeError: cannot get single-segment buffer for discontiguous array"
   ]
  },
  {
   "cell_type": "markdown",
   "metadata": {
    "deletable": true,
    "editable": true
   },
   "source": [
    "## 创建特殊array & 数组copy\n",
    "创建特殊的ndarray的方法，numpy 提供了很多[api](https://docs.scipy.org/doc/numpy/reference/routines.array-creation.html)来创建特殊的ndarray；ones & zeros & eye & identity"
   ]
  },
  {
   "cell_type": "code",
   "execution_count": 21,
   "metadata": {
    "collapsed": false,
    "deletable": true,
    "editable": true
   },
   "outputs": [
    {
     "name": "stdout",
     "output_type": "stream",
     "text": [
      "[[ 0.  0.  0.  0.]\n",
      " [ 0.  0.  0.  0.]\n",
      " [ 0.  0.  0.  0.]\n",
      " [ 0.  0.  0.  0.]]\n",
      "[[ 1.  1.  1.]\n",
      " [ 1.  1.  1.]\n",
      " [ 1.  1.  1.]]\n",
      "[[ 1.  0.  0.  0.]\n",
      " [ 0.  1.  0.  0.]\n",
      " [ 0.  0.  1.  0.]\n",
      " [ 0.  0.  0.  1.]]\n",
      "[[ 0.  1.  0.  0.  0.]\n",
      " [ 0.  0.  1.  0.  0.]\n",
      " [ 0.  0.  0.  1.  0.]\n",
      " [ 0.  0.  0.  0.  1.]]\n",
      "[[ 1.  1.  1.]\n",
      " [ 1.  1.  1.]\n",
      " [ 1.  1.  1.]]\n"
     ]
    }
   ],
   "source": [
    "zeros = np.zeros((4,4))\n",
    "ones = np.ones((3,3))\n",
    "identity = np.identity(4)\n",
    "eye = np.eye(4,5, k=1)\n",
    "print zeros\n",
    "print ones\n",
    "print identity\n",
    "print eye\n",
    "copy = ones.copy()\n",
    "print copy"
   ]
  },
  {
   "cell_type": "markdown",
   "metadata": {
    "deletable": true,
    "editable": true
   },
   "source": [
    "# Numpy data type\n",
    "## dtype\n",
    ">假如要使用numpy装入一个二维的下列表格，表中的每一列数据类型都不一样，如何做呢？\n",
    "\n",
    "|Country | Population Density| Area  | Population|\n",
    "|:-------|:-----------|:-------|:------|:-----------|\n",
    "|Netherlands|\t393\t| 41526\t| 16,928,800 |\n",
    "|Belgium\t|   337\t| 30510\t| 11,007,020 |\n",
    "|United Kingdom\t|256|243610\t| 62,262,000 |\n",
    "|Germany\t|233\t|357021\t| 81,799,600 |\n",
    "|Liechtenstein|\t205\t|160\t| 32,842     |\n",
    "|Italy\t    |192\t|301230\t| 59,715,625 |\n",
    "|Switzerland|\t177\t|41290\t|7,301,994|\n",
    "|Luxembourg\t|173\t|2586\t|512,000|\n",
    "|France\t|111\t|547030\t|63,601,002|\n",
    "|Austria\t|97\t|83858\t|8,169,929|\n",
    "|Greece\t|81\t|131940\t|11,606,813|\n",
    "|Ireland\t|65\t|70280\t|4,581,269|\n",
    "|Sweden\t|20\t|449964\t|9,515,744|\n",
    "|Finland|16\t|338424\t|5,410,233|\n",
    "|Norway\t|13\t|385252\t|5,033,675|"
   ]
  },
  {
   "cell_type": "code",
   "execution_count": 22,
   "metadata": {
    "collapsed": false,
    "deletable": true,
    "editable": true
   },
   "outputs": [
    {
     "name": "stdout",
     "output_type": "stream",
     "text": [
      "[(393,) (337,) (256,)]\n",
      "\n",
      "The internal representation:\n",
      "array([(393,), (337,), (256,)], \n",
      "      dtype=[('density', '<i4')])\n",
      "[393 337 256]\n"
     ]
    }
   ],
   "source": [
    "dt = np.dtype([('density', np.int32)])\n",
    "x = np.array([(393,), (337,), (256,)],\n",
    "             dtype=dt)\n",
    "print(x)\n",
    "print(\"\\nThe internal representation:\")\n",
    "print(repr(x))\n",
    "print x['density']"
   ]
  },
  {
   "cell_type": "markdown",
   "metadata": {
    "deletable": true,
    "editable": true
   },
   "source": [
    "我们可以采用 `np.dtype` 给某一列定义一个数据类型对象，这个对象可以通过复杂的组合，生成一个结构化的数据类型，就像结构体一样；对于 density 这一列，是 int32 数据类型。目前只有这一列，因此x 的构造写法是按列的写法；np.int32 的 内部表示其实是 `<i4`；`<>=`表示大端小端法和本地；"
   ]
  },
  {
   "cell_type": "code",
   "execution_count": 23,
   "metadata": {
    "collapsed": false,
    "deletable": true,
    "editable": true
   },
   "outputs": [
    {
     "name": "stdout",
     "output_type": "stream",
     "text": [
      "('float64', '=', 8)\n",
      "('float64', '>', 8)\n",
      "('float64', '=', 8)\n"
     ]
    }
   ],
   "source": [
    "dt = np.dtype('<d') \n",
    "print(dt.name, dt.byteorder, dt.itemsize)\n",
    "dt = np.dtype('>d')  \n",
    "print(dt.name, dt.byteorder, dt.itemsize)\n",
    "dt = np.dtype('d') \n",
    "print(dt.name, dt.byteorder, dt.itemsize)"
   ]
  },
  {
   "cell_type": "markdown",
   "metadata": {
    "deletable": true,
    "editable": true
   },
   "source": [
    "以上分别表示 8 字节的浮点类型，小端（即本地的），大端和本地的；\n",
    "下面创建的就是一个结构体类型对象，每一个tuple对应一列；"
   ]
  },
  {
   "cell_type": "code",
   "execution_count": 24,
   "metadata": {
    "collapsed": false,
    "deletable": true,
    "editable": true
   },
   "outputs": [
    {
     "name": "stdout",
     "output_type": "stream",
     "text": [
      "[('Netherlands', 393, 41526, 16928800) ('Belgium', 337, 30510, 11007020)\n",
      " ('United Kingdom', 256, 243610, 62262000)\n",
      " ('Germany', 233, 357021, 81799600)]\n"
     ]
    }
   ],
   "source": [
    "dt = np.dtype([('country', 'S20'), ('density', 'i4'), ('area', 'i4'), ('population', 'i4')])\n",
    "x = np.array([('Netherlands', 393, 41526, 16928800),\n",
    "('Belgium', 337, 30510, 11007020),\n",
    "('United Kingdom', 256, 243610, 62262000),\n",
    "('Germany', 233, 357021, 81799600),\n",
    "('Liechtenstein', 205, 160, 32842),\n",
    "('Italy', 192, 301230, 59715625),\n",
    "('Switzerland', 177, 41290, 7301994),\n",
    "('Luxembourg', 173, 2586, 512000),\n",
    "('France', 111, 547030, 63601002),\n",
    "('Austria', 97, 83858, 8169929),\n",
    "('Greece', 81, 131940, 11606813),\n",
    "('Ireland', 65, 70280, 4581269),\n",
    "('Sweden', 20, 449964, 9515744),\n",
    "('Finland', 16, 338424, 5410233),\n",
    "('Norway', 13, 385252, 5033675)],\n",
    "             dtype=dt)\n",
    "print(x[:4])"
   ]
  },
  {
   "cell_type": "code",
   "execution_count": 25,
   "metadata": {
    "collapsed": false,
    "deletable": true,
    "editable": true
   },
   "outputs": [
    {
     "name": "stdout",
     "output_type": "stream",
     "text": [
      "[393 337 256 233 205 192 177 173 111  97  81  65  20  16  13]\n",
      "['Netherlands' 'Belgium' 'United Kingdom' 'Germany' 'Liechtenstein' 'Italy'\n",
      " 'Switzerland' 'Luxembourg' 'France' 'Austria' 'Greece' 'Ireland' 'Sweden'\n",
      " 'Finland' 'Norway']\n",
      "[243610 357021    160]\n"
     ]
    }
   ],
   "source": [
    "print(x['density'])\n",
    "print(x['country'])\n",
    "print(x['area'][2:5])"
   ]
  },
  {
   "cell_type": "markdown",
   "metadata": {
    "deletable": true,
    "editable": true
   },
   "source": [
    "下面是一个嵌套定义的结构类型，每一行记录有两个大类型，time 和 temperature， time又是一个结构类型，分别由 h min sec 构成；"
   ]
  },
  {
   "cell_type": "code",
   "execution_count": 26,
   "metadata": {
    "collapsed": false,
    "deletable": true,
    "editable": true
   },
   "outputs": [
    {
     "name": "stdout",
     "output_type": "stream",
     "text": [
      "[((11, 42, 17), 20.8) ((13, 19, 3), 23.2)]\n",
      "[(11, 42, 17) (13, 19, 3)]\n",
      "[11 13]\n",
      "[ 20.8  23.2]\n"
     ]
    }
   ],
   "source": [
    "time_type = np.dtype([('time', [('h', int), ('min', int), ('sec', int)]),('temperature', float)])\n",
    "times = np.array( [((11, 42, 17), 20.8), ((13, 19, 3), 23.2) ], dtype=time_type)\n",
    "print(times)\n",
    "print(times['time'])\n",
    "print(times['time']['h'])\n",
    "print(times['temperature'])"
   ]
  },
  {
   "cell_type": "markdown",
   "metadata": {
    "deletable": true,
    "editable": true
   },
   "source": [
    "小结：\n",
    " - **类型可以嵌套定义组合**\n",
    " - **确定一个表的最终类型时，可以看每一列是什么数据类型，然后每一列是一个二元tuple，即(fieldname, datatype),然后组合np.dtype([(f1,d1),(f2,d2),...(fn,dn)]);**\n",
    " - **分解子datatype，如果dn不是基本datatype，则可以继续分解递归定义；**"
   ]
  },
  {
   "cell_type": "markdown",
   "metadata": {
    "collapsed": true,
    "deletable": true,
    "editable": true
   },
   "source": [
    "# Numpy numerical operations\n",
    "## Arithmetic Operations with two Arrays\n",
    "对应位置元素 做某种操作运算"
   ]
  },
  {
   "cell_type": "code",
   "execution_count": 27,
   "metadata": {
    "collapsed": false,
    "deletable": true,
    "editable": true
   },
   "outputs": [
    {
     "name": "stdout",
     "output_type": "stream",
     "text": [
      "Adding to arrays: \n",
      "[[ 12.  13.  14.]\n",
      " [ 22.  23.  24.]\n",
      " [ 32.  33.  34.]]\n",
      "\n",
      "Multiplying two arrays: \n",
      "[[ 22.  24.  26.]\n",
      " [ 42.  44.  46.]\n",
      " [ 62.  64.  66.]]\n"
     ]
    }
   ],
   "source": [
    "A = np.array([ [11, 12, 13], [21, 22, 23], [31, 32, 33] ])\n",
    "B = np.ones((3,3))\n",
    "print(\"Adding to arrays: \")\n",
    "print(A + B)\n",
    "print(\"\\nMultiplying two arrays: \")\n",
    "print(A * (B + 1))"
   ]
  },
  {
   "cell_type": "markdown",
   "metadata": {
    "deletable": true,
    "editable": true
   },
   "source": [
    "## Matrix Multiplication\n",
    "矩阵运算，点积dot product\n",
    "\n",
    " - dot(a, b, out=None)\n",
    "   - 对于 2-D arrays, 点积运算等价于矩阵运算；对于 1-D arrays, 点积等价于内积 inner product即向量积；对于 N 维数组，点积是 `a` 的最后一个axis 和 `b` 的 倒数第二个axis 的和积；**和积: 2-D 里就是'a'的每一个行向量和'b'的每一个列向量做 inner product**\n",
    "   - 如果 'a' 的 最后一维长度 和 'b' 的倒数第二维长度不一样，抛出 ValueError； 例如， a.shape[-1] != b.shape[-2]\n",
    "\n",
    "### 二维上的dot"
   ]
  },
  {
   "cell_type": "code",
   "execution_count": 28,
   "metadata": {
    "collapsed": false,
    "deletable": true,
    "editable": true
   },
   "outputs": [
    {
     "name": "stdout",
     "output_type": "stream",
     "text": [
      "(True, 3)\n",
      "[[ 7  7 17  4]\n",
      " [ 9  9 19  0]]\n"
     ]
    }
   ],
   "source": [
    "A = np.array([ [1, 2, 3], \n",
    "               [3, 2, 1] ])\n",
    "B = np.array([ [2, 3, 4, -2], \n",
    "               [1, -1, 2, 3],\n",
    "               [1, 2, 3, 0] ])\n",
    "\n",
    "print(A.shape[-1] == B.shape[-2], A.shape[1]) \n",
    "print(np.dot(A, B))"
   ]
  },
  {
   "cell_type": "markdown",
   "metadata": {
    "deletable": true,
    "editable": true
   },
   "source": [
    "### 三维上的dot"
   ]
  },
  {
   "cell_type": "code",
   "execution_count": 29,
   "metadata": {
    "collapsed": false,
    "deletable": true,
    "editable": true
   },
   "outputs": [
    {
     "name": "stdout",
     "output_type": "stream",
     "text": [
      "('X.shape: ', (4, 2, 3), '   X.ndim: ', 3)\n",
      "('Y.shape: ', (2, 3, 5), '   Y.ndim: ', 3)\n",
      "('R.shape: ', (4, 2, 2, 5), 'R.ndim: ', 4)\n",
      "\n",
      "The result array R:\n",
      "\n",
      "[[[[ 14  19   5   8   1]\n",
      "   [ 15  15  10  16   3]]\n",
      "\n",
      "  [[ 18  24   8  10   2]\n",
      "   [ 20  20  14  22   2]]]\n",
      "\n",
      "\n",
      " [[[  1   1  -1  -1  -2]\n",
      "   [  3  -3  -3   1  -2]]\n",
      "\n",
      "  [[ -6  -7  -1   0   3]\n",
      "   [-11   1   2  -8   5]]]\n",
      "\n",
      "\n",
      " [[[ 16  21   7   8   1]\n",
      "   [ 19  16  11  20   0]]\n",
      "\n",
      "  [[ 25  32  12  11   1]\n",
      "   [ 32  23  16  33  -4]]]\n",
      "\n",
      "\n",
      " [[[ 11  14   6   5   1]\n",
      "   [ 14  11   8  15  -2]]\n",
      "\n",
      "  [[ 17  23   5   9   0]\n",
      "   [ 19  16  10  19   3]]]]\n"
     ]
    }
   ],
   "source": [
    "X = np.array(\n",
    "    [[[3, 1, 2],\n",
    "      [4, 2, 2]],\n",
    "     [[-1, 0, 1],\n",
    "      [1, -1, -2]],\n",
    "     \n",
    "     [[3, 2, 2],\n",
    "      [4, 4, 3]],\n",
    "     [[2, 2, 1],\n",
    "      [3, 1, 3]]])\n",
    "Y = np.array(\n",
    "    [[[2, 3, 1, 2, 1],\n",
    "      [2, 2, 2, 0, 0],\n",
    "      [3, 4, 0, 1, -1]],\n",
    "     [[1, 4, 3, 2, 2],\n",
    "      [4, 1, 1, 4, -3],\n",
    "      [4, 1, 0, 3, 0]]])\n",
    "R = np.dot(X, Y)\n",
    "print(\"X.shape: \", X.shape, \"   X.ndim: \", X.ndim)\n",
    "print(\"Y.shape: \", Y.shape, \"   Y.ndim: \", Y.ndim)\n",
    "print(\"R.shape: \",     R.shape, \"R.ndim: \", R.ndim)\n",
    "print(\"\\nThe result array R:\\n\")\n",
    "print(R)"
   ]
  },
  {
   "cell_type": "markdown",
   "metadata": {
    "deletable": true,
    "editable": true
   },
   "source": [
    "按照 dot 对 n 维的定义，\n",
    " - 3 维应该是 X.shape[2] 和 Y.shape[1] 做 sum product；他们在各自维度上长度都是 3；该维度会被吞并成为一个scalar，最后结果为 shape 为 `(X.shape[0], X.shape[1], Y.shape[0], Y.shape[2])` 的array； \n",
    " - **如果是 n 维度的， 那么最后结果就是 `(X.shape[0], X.shape[1],..., X.shape[-2], Y.shape[0],..., Y.shape[-1])`**\n",
    "\n",
    "以 R[0] 为例，它是 R 的 axis = 0 维度的第一个元素， 那么该元素列表应该是由剩余的维度做 sum product得到；\n",
    "\n",
    "\\begin{equation*}\n",
    " \\begin{bmatrix}\n",
    "   3 & 1 & 2\n",
    " \\end{bmatrix}\n",
    " \\begin{bmatrix}\n",
    "  2 \\\\\n",
    "  2 \\\\\n",
    "  3\n",
    " \\end{bmatrix}\n",
    " =\n",
    " 14\n",
    "\\end{equation*}"
   ]
  },
  {
   "cell_type": "code",
   "execution_count": 30,
   "metadata": {
    "collapsed": false,
    "deletable": true,
    "editable": true
   },
   "outputs": [
    {
     "name": "stdout",
     "output_type": "stream",
     "text": [
      "    sum(X[0, 0, :] * Y[0, :, 0]) :  14\n",
      "    sum(X[0, 0, :] * Y[0, :, 1]) :  19\n",
      "    sum(X[0, 0, :] * Y[0, :, 2]) :  5\n",
      "    sum(X[0, 0, :] * Y[0, :, 3]) :  8\n",
      "    sum(X[0, 0, :] * Y[0, :, 4]) :  1\n",
      "    sum(X[0, 0, :] * Y[1, :, 0]) :  15\n",
      "    sum(X[0, 0, :] * Y[1, :, 1]) :  15\n",
      "    sum(X[0, 0, :] * Y[1, :, 2]) :  10\n",
      "    sum(X[0, 0, :] * Y[1, :, 3]) :  16\n",
      "    sum(X[0, 0, :] * Y[1, :, 4]) :  3\n",
      "    sum(X[0, 1, :] * Y[0, :, 0]) :  18\n",
      "    sum(X[0, 1, :] * Y[0, :, 1]) :  24\n",
      "    sum(X[0, 1, :] * Y[0, :, 2]) :  8\n",
      "    sum(X[0, 1, :] * Y[0, :, 3]) :  10\n",
      "    sum(X[0, 1, :] * Y[0, :, 4]) :  2\n",
      "    sum(X[0, 1, :] * Y[1, :, 0]) :  20\n",
      "    sum(X[0, 1, :] * Y[1, :, 1]) :  20\n",
      "    sum(X[0, 1, :] * Y[1, :, 2]) :  14\n",
      "    sum(X[0, 1, :] * Y[1, :, 3]) :  22\n",
      "    sum(X[0, 1, :] * Y[1, :, 4]) :  2\n",
      "[[[14 19  5  8  1]\n",
      "  [15 15 10 16  3]]\n",
      "\n",
      " [[18 24  8 10  2]\n",
      "  [20 20 14 22  2]]]\n"
     ]
    }
   ],
   "source": [
    "# 这里由于第一个维度 固定是第0个元素，因此 i = 0；不进行循环；\n",
    "i = 0\n",
    "for j in range(X.shape[1]):\n",
    "    for k in range(Y.shape[0]):\n",
    "        for m in range(Y.shape[2]):\n",
    "            fmt = \"    sum(X[{}, {}, :] * Y[{}, :, {}]) :  {}\"\n",
    "            arguments = (i, j, k, m, sum(X[i, j, :] * Y[k, :, m]))\n",
    "            print(fmt.format(*arguments))\n",
    "            \n",
    "print R[0]"
   ]
  },
  {
   "cell_type": "code",
   "execution_count": 31,
   "metadata": {
    "collapsed": false,
    "deletable": true,
    "editable": true
   },
   "outputs": [
    {
     "name": "stdout",
     "output_type": "stream",
     "text": [
      "True\n"
     ]
    }
   ],
   "source": [
    "R2 = np.zeros(R.shape, dtype=np.int)\n",
    "for i in range(X.shape[0]):\n",
    "    for j in range(X.shape[1]):\n",
    "        for k in range(Y.shape[0]):\n",
    "            for m in range(Y.shape[2]):\n",
    "                R2[i, j, k, m] = np.dot(X[i, j, :],Y[k, :, m])\n",
    "print( np.array_equal(R, R2) )"
   ]
  },
  {
   "cell_type": "markdown",
   "metadata": {
    "deletable": true,
    "editable": true
   },
   "source": [
    "以上就是三维 dot 的内部工作机制，**其实就是简单的循环累加，弄清楚我们需要做 sum product 的是哪一个维度，因为这个维度会被合并降维成一个scalar，剩下的维度做循环即可。**"
   ]
  },
  {
   "cell_type": "markdown",
   "metadata": {
    "deletable": true,
    "editable": true
   },
   "source": [
    "## Comparison Operators\n",
    "numpy中的 比较运算符返回的并不是 Python 中的 一个单一的 True 或 False, 而是一个array，里面每一个元素都是bool，是element-wise比较；因为 Python 中 True == 1 False == 0; 因此\n",
    " - 求两个array对应位置相等元素的位置索引\n",
    "   - A[np.nonzero(A==B)]\n",
    " - 求两个array对应元素相等的个数，使用 \n",
    "   - len(np.flatnonzero(A==B))\n",
    " - 求相同元素百分比：\n",
    "   - np.mean(A==B)\n",
    " "
   ]
  },
  {
   "cell_type": "code",
   "execution_count": 32,
   "metadata": {
    "collapsed": false,
    "deletable": true,
    "editable": true
   },
   "outputs": [
    {
     "name": "stdout",
     "output_type": "stream",
     "text": [
      "[[ True False  True]\n",
      " [False  True False]\n",
      " [ True  True False]]\n",
      "[11 13 22 31 32]\n",
      "5\n",
      "0.555555555556\n"
     ]
    }
   ],
   "source": [
    "A = np.array([ [11, 12, 13], [21, 22, 23], [31, 32, 33] ])\n",
    "B = np.array([ [11, 102, 13], [201, 22, 203], [31, 32, 303] ])\n",
    "common = A == B\n",
    "print common\n",
    "print A[np.nonzero(A==B)]\n",
    "print len(np.flatnonzero(common))\n",
    "print np.mean(A==B)"
   ]
  },
  {
   "cell_type": "markdown",
   "metadata": {
    "deletable": true,
    "editable": true
   },
   "source": [
    "## Broadcasting\n",
    "广播是numpy很重要的一个功能，这里介绍在numpy array shape 里面提到的与shape 和 axis有关的广播；"
   ]
  },
  {
   "cell_type": "code",
   "execution_count": 33,
   "metadata": {
    "collapsed": false,
    "deletable": true,
    "editable": true
   },
   "outputs": [
    {
     "name": "stdout",
     "output_type": "stream",
     "text": [
      "(3, 3)\n"
     ]
    },
    {
     "data": {
      "text/plain": [
       "array([[1, 2, 3],\n",
       "       [1, 2, 3],\n",
       "       [1, 2, 3]])"
      ]
     },
     "execution_count": 33,
     "metadata": {},
     "output_type": "execute_result"
    }
   ],
   "source": [
    "B = np.array([[1,2,3]] * 3)\n",
    "print B.shape\n",
    "B"
   ]
  },
  {
   "cell_type": "markdown",
   "metadata": {
    "deletable": true,
    "editable": true
   },
   "source": [
    "注意以上并不是广播，这是Python自带的循环重复元素的写法；我们先介绍一个升维的方法，np.newaxis。"
   ]
  },
  {
   "cell_type": "code",
   "execution_count": 34,
   "metadata": {
    "collapsed": false,
    "deletable": true,
    "editable": true
   },
   "outputs": [
    {
     "name": "stdout",
     "output_type": "stream",
     "text": [
      "array([[11, 12, 13],\n",
      "       [21, 22, 23],\n",
      "       [31, 32, 33],\n",
      "       [41, 42, 43]])\n",
      "(4, 3)\n",
      "array([[[11, 12, 13],\n",
      "        [21, 22, 23],\n",
      "        [31, 32, 33],\n",
      "        [41, 42, 43]]])\n",
      "(1, 4, 3)\n",
      "array([[[11, 12, 13]],\n",
      "\n",
      "       [[21, 22, 23]],\n",
      "\n",
      "       [[31, 32, 33]],\n",
      "\n",
      "       [[41, 42, 43]]])\n",
      "(4, 1, 3)\n",
      "array([[[11],\n",
      "        [12],\n",
      "        [13]],\n",
      "\n",
      "       [[21],\n",
      "        [22],\n",
      "        [23]],\n",
      "\n",
      "       [[31],\n",
      "        [32],\n",
      "        [33]],\n",
      "\n",
      "       [[41],\n",
      "        [42],\n",
      "        [43]]])\n",
      "(4, 3, 1)\n",
      "array([[[[11],\n",
      "         [12],\n",
      "         [13]],\n",
      "\n",
      "        [[21],\n",
      "         [22],\n",
      "         [23]],\n",
      "\n",
      "        [[31],\n",
      "         [32],\n",
      "         [33]],\n",
      "\n",
      "        [[41],\n",
      "         [42],\n",
      "         [43]]]])\n",
      "(1, 4, 3, 1)\n"
     ]
    }
   ],
   "source": [
    "A = np.array([ [11, 12, 13], [21, 22, 23], [31, 32, 33], [41, 42, 43] ])\n",
    "print repr(A)\n",
    "print A.shape\n",
    "A1 = A[np.newaxis,:,:]\n",
    "A2 = A[:,np.newaxis,:]\n",
    "A3 = A[:,:,np.newaxis]\n",
    "print repr(A1)\n",
    "print A1.shape\n",
    "print repr(A2)\n",
    "print A2.shape\n",
    "print repr(A3)\n",
    "print A3.shape\n",
    "\n",
    "AA = A[np.newaxis, :, :, np.newaxis]\n",
    "print repr(AA)\n",
    "print AA.shape"
   ]
  },
  {
   "cell_type": "markdown",
   "metadata": {
    "deletable": true,
    "editable": true
   },
   "source": [
    "可以看出，**np.newaxis 就是增加一个维度，并且增加的维度与其插入的位置有关，插入到第几个位置，就成为第几个维度，原始的维度值保持不变；**\n",
    "\n",
    ">np.newaxis是如何改变原始array的呢？\n",
    "\n",
    "**递归列表未完待续**\n",
    " - 目前有一种tricks，就是看插入位置的[]加在哪里。新轴在第2个维度，那么就给原本第1个维度的每一个元素加个[],新轴在第三维度，就在原本第2个维度的每一个元素加个[]"
   ]
  },
  {
   "cell_type": "markdown",
   "metadata": {
    "deletable": true,
    "editable": true
   },
   "source": [
    "### 广播进行的方向"
   ]
  },
  {
   "cell_type": "code",
   "execution_count": 35,
   "metadata": {
    "collapsed": false,
    "deletable": true,
    "editable": true
   },
   "outputs": [
    {
     "name": "stdout",
     "output_type": "stream",
     "text": [
      "(3,)\n",
      "[7 2 3]\n",
      "array([[7],\n",
      "       [2],\n",
      "       [3]])\n"
     ]
    },
    {
     "ename": "ValueError",
     "evalue": "operands could not be broadcast together with shapes (4,3) (3,1) ",
     "output_type": "error",
     "traceback": [
      "\u001b[0;31m---------------------------------------------------------------------------\u001b[0m",
      "\u001b[0;31mValueError\u001b[0m                                Traceback (most recent call last)",
      "\u001b[0;32m<ipython-input-35-d31486c531b6>\u001b[0m in \u001b[0;36m<module>\u001b[0;34m()\u001b[0m\n\u001b[1;32m      6\u001b[0m \u001b[0;32mprint\u001b[0m \u001b[0mrepr\u001b[0m\u001b[0;34m(\u001b[0m\u001b[0mB1\u001b[0m\u001b[0;34m)\u001b[0m\u001b[0;34m\u001b[0m\u001b[0m\n\u001b[1;32m      7\u001b[0m \u001b[0mB1\u001b[0m\u001b[0;34m[\u001b[0m\u001b[0;36m0\u001b[0m\u001b[0;34m]\u001b[0m \u001b[0;34m=\u001b[0m \u001b[0;36m1\u001b[0m\u001b[0;34m\u001b[0m\u001b[0m\n\u001b[0;32m----> 8\u001b[0;31m \u001b[0mA\u001b[0m \u001b[0;34m*\u001b[0m \u001b[0mB\u001b[0m\u001b[0;34m[\u001b[0m\u001b[0;34m:\u001b[0m\u001b[0;34m,\u001b[0m \u001b[0mnp\u001b[0m\u001b[0;34m.\u001b[0m\u001b[0mnewaxis\u001b[0m\u001b[0;34m]\u001b[0m\u001b[0;34m\u001b[0m\u001b[0m\n\u001b[0m",
      "\u001b[0;31mValueError\u001b[0m: operands could not be broadcast together with shapes (4,3) (3,1) "
     ]
    }
   ],
   "source": [
    "B = np.array([1, 2, 3])\n",
    "print B.shape\n",
    "B1 = B[:, np.newaxis]\n",
    "B1[0] = 7\n",
    "print B\n",
    "print repr(B1)\n",
    "B1[0] = 1\n",
    "A * B[:, np.newaxis]"
   ]
  },
  {
   "cell_type": "markdown",
   "metadata": {
    "deletable": true,
    "editable": true
   },
   "source": [
    "![broadcasting_example_1](./numpynotes-1-basics-and-core/broadcasting_example_1.png)"
   ]
  },
  {
   "cell_type": "code",
   "execution_count": null,
   "metadata": {
    "collapsed": false,
    "deletable": true,
    "editable": true
   },
   "outputs": [],
   "source": [
    "A = np.array([10, 20, 30])\n",
    "B = np.array([1, 2, 3])\n",
    "print repr(A[:, np.newaxis])\n",
    "print repr(A[:, np.newaxis] * B)"
   ]
  },
  {
   "cell_type": "markdown",
   "metadata": {
    "deletable": true,
    "editable": true
   },
   "source": [
    "![broadcasting_example_2](./numpynotes-1-basics-and-core/broadcasting_example_2.png)"
   ]
  },
  {
   "cell_type": "markdown",
   "metadata": {
    "deletable": true,
    "editable": true
   },
   "source": [
    "以下是实现以上操作的另外两种实现，显式的使用了 concatenate 和 tile 方法升维；"
   ]
  },
  {
   "cell_type": "code",
   "execution_count": null,
   "metadata": {
    "collapsed": false,
    "deletable": true,
    "editable": true,
    "scrolled": true
   },
   "outputs": [],
   "source": [
    "A = np.array([ [11, 12, 13], [21, 22, 23], [31, 32, 33] ])\n",
    "B = np.array([1, 2, 3])\n",
    "B = B[np.newaxis, :]\n",
    "B = np.concatenate((B, B, B))\n",
    "print(\"Multiplication: \")\n",
    "print(A * B)\n",
    "print(\"... and now addition again: \")\n",
    "print(A + B)\n",
    "\n",
    "A = np.array([ [11, 12, 13], [21, 22, 23], [31, 32, 33] ])\n",
    "B = np.tile(np.array([1, 2, 3]), (3, 1))\n",
    "print(B)\n",
    "print(\"Multiplication: \")\n",
    "print(A * B)\n",
    "print(\"... and now addition again: \")\n",
    "print(A + B)"
   ]
  },
  {
   "cell_type": "markdown",
   "metadata": {
    "deletable": true,
    "editable": true
   },
   "source": [
    "### 三维空间broadcasting"
   ]
  },
  {
   "cell_type": "code",
   "execution_count": 36,
   "metadata": {
    "collapsed": false,
    "deletable": true,
    "editable": true
   },
   "outputs": [
    {
     "name": "stdout",
     "output_type": "stream",
     "text": [
      "(1, 3)\n",
      "(3, 3)\n",
      "(3, 1, 3)\n",
      "[[[1 1 1]]\n",
      "\n",
      " [[2 2 2]]\n",
      "\n",
      " [[3 3 3]]]\n",
      "[[[ 3  4  7]\n",
      "  [ 5  0 -1]\n",
      "  [ 2  1  5]]\n",
      "\n",
      " [[ 2  0 -2]\n",
      "  [16  4  8]\n",
      "  [10  4  2]]\n",
      "\n",
      " [[ 6  3  9]\n",
      "  [ 3 27 12]\n",
      "  [15 -6 12]]]\n"
     ]
    }
   ],
   "source": [
    "A = np.array([ [[3, 4, 7], [5, 0, -1] , [2, 1, 5]],\n",
    "      [[1, 0, -1], [8, 2, 4], [5, 2, 1]],\n",
    "      [[2, 1, 3], [1, 9, 4], [5, -2, 4]]])\n",
    "B = np.array([ [[3, 4, 7], [1, 0, -1], [1, 2, 3]] ])\n",
    "B * A\n",
    "\n",
    "B = np.array([1, 2, 3])\n",
    "B = B[np.newaxis, :]\n",
    "print(B.shape)\n",
    "B = np.concatenate((B, B, B)).transpose()\n",
    "print(B.shape)\n",
    "B = B[:, np.newaxis]\n",
    "print(B.shape)\n",
    "print(B)\n",
    "print(A * B)"
   ]
  },
  {
   "cell_type": "markdown",
   "metadata": {
    "deletable": true,
    "editable": true
   },
   "source": [
    "小结：\n",
    ">Broadcasting provides a means of vectorizing array operations so that looping occurs in C instead of Python. It does this without making needless copies of data and usually leads to efficient algorithm implementations. There are, however, cases where broadcasting is a bad idea because it leads to inefficient use of memory that slows computation.\n",
    "\n",
    "广播是numpy提供的向量化数组的操作，能够使得循环发生在 C 代码级别，而不是在 Python 级别，从而提高执行速度，但这种加速是有限制的，如果数组过于庞大，会进行大量的复制操作，反而会减慢计算速度，从而更加低效；[numpy broadcasting efficiency](http://scipy.github.io/old-wiki/pages/EricsBroadcastingDoc)\n",
    "\n",
    "广播规则：\n",
    " 1. **如果两个 array 的 rank 即 len(shape) 不同，那么给较低的array的 shape 在前面加上(prepend) 1 从而升维，直到低维array的shape和高维array的shape长度一样，即len(x.shape) == len(y.shape)；** 例如 x.shape = (1,2,3) y.shape = (3,) 则 y.shape = (1,1,3)\n",
    " 2. **两个数组某个维度上兼容`compatible`,就是该维度长度要么相等，要么其中之一是1；**\n",
    " 3. **只有所有维度`compatible`数组才能进行合法自动广播；**\n",
    " 4. **广播之后，每一个数组，在每一个维度上就变成相同的了，且等于较大者；**\n",
    " 5. **在某个维度上长度为1的数组会进行广播，就是沿着这个维度复制剩余维度的元素，使得该维度长度变长到两个数组中较大者；**\n",
    " \n",
    ">numpy.transpose(a, axes=None)\n",
    "\n",
    "axes : list of ints, optional By default, reverse the dimensions, otherwise permute the axes according to the values given.\n",
    "\n",
    "第二个参数是坐标变换，即维度变换，如三维空间(x,y,z) 分别表示 (0,1,2) 维度，如果给出 (2,1,0) 则表示 (z,y,x) 即元素的取法变成了 先 z 后 y 最后 x。"
   ]
  },
  {
   "cell_type": "markdown",
   "metadata": {
    "collapsed": true,
    "deletable": true,
    "editable": true
   },
   "source": [
    "# Numpy changing dimensions\n",
    "## flatten\n",
    "多维数组退化成一维\n",
    " - flatten()\n",
    " - ravel()"
   ]
  },
  {
   "cell_type": "code",
   "execution_count": 37,
   "metadata": {
    "collapsed": false,
    "deletable": true,
    "editable": true
   },
   "outputs": [
    {
     "name": "stdout",
     "output_type": "stream",
     "text": [
      "[ 0  1  2  3  4  5  6  7  8  9 10 11 12 13 14 15 16 17 18 19 20 21 22 23]\n",
      "[ 0  1  2  3  4  5  6  7  8  9 10 11 12 13 14 15 16 17 18 19 20 21 22 23]\n",
      "[ 0  8 16  2 10 18  4 12 20  6 14 22  1  9 17  3 11 19  5 13 21  7 15 23]\n",
      "[ 0  1  2  3  4  5  6  7  8  9 10 11 12 13 14 15 16 17 18 19 20 21 22 23]\n"
     ]
    }
   ],
   "source": [
    "A = np.array([[[ 0,  1],\n",
    "               [ 2,  3],\n",
    "               [ 4,  5],\n",
    "               [ 6,  7]],\n",
    "              [[ 8,  9],\n",
    "               [10, 11],\n",
    "               [12, 13],\n",
    "               [14, 15]],\n",
    "              [[16, 17],\n",
    "               [18, 19],\n",
    "               [20, 21],\n",
    "               [22, 23]]])\n",
    "Flattened_X = A.flatten()\n",
    "print(Flattened_X)\n",
    "print(A.flatten(order=\"C\"))\n",
    "print(A.flatten(order=\"F\"))\n",
    "print(A.flatten(order=\"A\"))"
   ]
  },
  {
   "cell_type": "markdown",
   "metadata": {
    "deletable": true,
    "editable": true
   },
   "source": [
    "## reshape\n",
    "整形，总数不变的情况下生成另一个shape的array\n",
    " - reshape(a, newshape, order='C')\n",
    "   - order\t'C', 'F', 'A', 代表展开顺序，C-style 首维最慢，尾维最快，F-style 按列展开，首维最快，尾维最慢\n",
    "   - ‘C’ means to read / write the elements using C-like index order, with the last axis index changing fastest, back to the first axis index changing slowest. \n",
    "   - ‘F’ means to read / write the elements using Fortran-like index order, with the first index changing fastest, and the last index changing slowest.\n",
    "   - read/write就表示，读取原来的数组，按照order方式，然后生成新shape的数组，也按order方式写入；\n"
   ]
  },
  {
   "cell_type": "code",
   "execution_count": 38,
   "metadata": {
    "collapsed": false,
    "deletable": true,
    "editable": true,
    "scrolled": true
   },
   "outputs": [
    {
     "name": "stdout",
     "output_type": "stream",
     "text": [
      "array([[[ 0,  1],\n",
      "        [ 2,  3],\n",
      "        [ 4,  5],\n",
      "        [ 6,  7]],\n",
      "\n",
      "       [[ 8,  9],\n",
      "        [10, 11],\n",
      "        [12, 13],\n",
      "        [14, 15]],\n",
      "\n",
      "       [[16, 17],\n",
      "        [18, 19],\n",
      "        [20, 21],\n",
      "        [22, 23]]])\n",
      "array([[[ 0,  1],\n",
      "        [10, 11],\n",
      "        [20, 21]],\n",
      "\n",
      "       [[ 8,  9],\n",
      "        [18, 19],\n",
      "        [ 6,  7]],\n",
      "\n",
      "       [[16, 17],\n",
      "        [ 4,  5],\n",
      "        [14, 15]],\n",
      "\n",
      "       [[ 2,  3],\n",
      "        [12, 13],\n",
      "        [22, 23]]])\n"
     ]
    }
   ],
   "source": [
    "X = np.array(range(24))\n",
    "Y = X.reshape((3,4,2))\n",
    "print repr(Y)\n",
    "Z = Y.reshape((4,3,2),order='F')\n",
    "print repr(Z)"
   ]
  },
  {
   "cell_type": "markdown",
   "metadata": {
    "deletable": true,
    "editable": true
   },
   "source": [
    "整形的真实过程其实像如下代码一样，最后验证我们的判断是正确的，即**先按照 order 读取原数组为一个一维的数组，然后再将一维数组中的元素按照 order 写入新shape的array中；**"
   ]
  },
  {
   "cell_type": "code",
   "execution_count": 39,
   "metadata": {
    "collapsed": false,
    "deletable": true,
    "editable": true
   },
   "outputs": [
    {
     "name": "stdout",
     "output_type": "stream",
     "text": [
      "[0, 8, 16, 2, 10, 18, 4, 12, 20, 6, 14, 22, 1, 9, 17, 3, 11, 19, 5, 13, 21, 7, 15, 23]\n",
      "[[[ True  True]\n",
      "  [ True  True]\n",
      "  [ True  True]]\n",
      "\n",
      " [[ True  True]\n",
      "  [ True  True]\n",
      "  [ True  True]]\n",
      "\n",
      " [[ True  True]\n",
      "  [ True  True]\n",
      "  [ True  True]]\n",
      "\n",
      " [[ True  True]\n",
      "  [ True  True]\n",
      "  [ True  True]]]\n"
     ]
    }
   ],
   "source": [
    "# F style read\n",
    "temp = []\n",
    "for i in range(Y.shape[2]):\n",
    "    for j in range(Y.shape[1]):\n",
    "        for k in range(Y.shape[0]):\n",
    "            temp.append(Y[k, j, i])\n",
    "print temp\n",
    "\n",
    "# F style write\n",
    "newshape = (4,3,2)\n",
    "result = np.zeros(newshape, dtype=np.int32)\n",
    "for i in range(newshape[2]):\n",
    "    for j in range(newshape[1]):\n",
    "        for k in range(newshape[0]):\n",
    "            result[k, j, i] = temp[i * newshape[1] * newshape[0] + j * newshape[0] + k]\n",
    "print result == Z\n",
    "    "
   ]
  },
  {
   "cell_type": "markdown",
   "metadata": {
    "deletable": true,
    "editable": true
   },
   "source": [
    "## Concatenating Arrays\n",
    "numpy.concatenate((a1, a2, ...), axis=0)\n",
    " - axis : int, optional\n",
    "   The axis along which the arrays will be joined. Default is 0.\n",
    "\n",
    "沿着axis进行连接，使得该维度的元素成为一组；\n",
    "\n",
    "### 对一维数组的连接"
   ]
  },
  {
   "cell_type": "code",
   "execution_count": 40,
   "metadata": {
    "collapsed": false,
    "deletable": true,
    "editable": true
   },
   "outputs": [
    {
     "name": "stdout",
     "output_type": "stream",
     "text": [
      "[  7  77 777] [3 1 2] [  7  77 777   3   1   2]\n"
     ]
    }
   ],
   "source": [
    "A = np.array([7,77,777])\n",
    "B = np.array([3,1,2])\n",
    "C = np.concatenate((A,B))\n",
    "print A,B,C"
   ]
  },
  {
   "cell_type": "markdown",
   "metadata": {
    "deletable": true,
    "editable": true
   },
   "source": [
    "### 对二维数组的连接"
   ]
  },
  {
   "cell_type": "code",
   "execution_count": 41,
   "metadata": {
    "collapsed": false,
    "deletable": true,
    "editable": true
   },
   "outputs": [
    {
     "name": "stdout",
     "output_type": "stream",
     "text": [
      "[[[  0   1]\n",
      "  [  2   3]\n",
      "  [  4   5]\n",
      "  [  6   7]]\n",
      "\n",
      " [[  8   9]\n",
      "  [ 10  11]\n",
      "  [ 12  13]\n",
      "  [ 14  15]]\n",
      "\n",
      " [[ 16  17]\n",
      "  [ 18  19]\n",
      "  [ 20  21]\n",
      "  [ 22  23]]\n",
      "\n",
      " [[100 101]\n",
      "  [102 103]\n",
      "  [104 105]\n",
      "  [106 107]]\n",
      "\n",
      " [[108 109]\n",
      "  [110 111]\n",
      "  [112 113]\n",
      "  [114 115]]\n",
      "\n",
      " [[116 117]\n",
      "  [118 119]\n",
      "  [120 121]\n",
      "  [122 123]]]\n"
     ]
    }
   ],
   "source": [
    "x = np.array(range(24))\n",
    "x = x.reshape((3,4,2))\n",
    "y = np.array(range(100,124))\n",
    "y = y.reshape((3,4,2))\n",
    "z = np.concatenate((x,y))\n",
    "print(z)"
   ]
  },
  {
   "cell_type": "code",
   "execution_count": 42,
   "metadata": {
    "collapsed": false,
    "deletable": true,
    "editable": true
   },
   "outputs": [
    {
     "name": "stdout",
     "output_type": "stream",
     "text": [
      "[[[  0   1]\n",
      "  [  2   3]\n",
      "  [  4   5]\n",
      "  [  6   7]\n",
      "  [100 101]\n",
      "  [102 103]\n",
      "  [104 105]\n",
      "  [106 107]]\n",
      "\n",
      " [[  8   9]\n",
      "  [ 10  11]\n",
      "  [ 12  13]\n",
      "  [ 14  15]\n",
      "  [108 109]\n",
      "  [110 111]\n",
      "  [112 113]\n",
      "  [114 115]]\n",
      "\n",
      " [[ 16  17]\n",
      "  [ 18  19]\n",
      "  [ 20  21]\n",
      "  [ 22  23]\n",
      "  [116 117]\n",
      "  [118 119]\n",
      "  [120 121]\n",
      "  [122 123]]]\n"
     ]
    }
   ],
   "source": [
    "z = np.concatenate((x,y),axis = 1)\n",
    "print(z)"
   ]
  },
  {
   "cell_type": "markdown",
   "metadata": {
    "deletable": true,
    "editable": true
   },
   "source": [
    "**万变不离其宗，与 axis 和 shape 有关的操作，都是递归确定在哪一个维度上进行，然后就是合并，降维，sum product等等;**这里就是合并；第二个维度即第二个括号里面的元素，同级的第二个括号里面的元素重新合并在一起了。"
   ]
  },
  {
   "cell_type": "markdown",
   "metadata": {
    "deletable": true,
    "editable": true
   },
   "source": [
    "## Adding New Dimensions\n"
   ]
  },
  {
   "cell_type": "code",
   "execution_count": 43,
   "metadata": {
    "collapsed": false,
    "deletable": true,
    "editable": true
   },
   "outputs": [
    {
     "name": "stdout",
     "output_type": "stream",
     "text": [
      "[[ 2]\n",
      " [ 5]\n",
      " [18]\n",
      " [14]\n",
      " [ 4]]\n"
     ]
    }
   ],
   "source": [
    "x = np.array([2,5,18,14,4])\n",
    "y = x[:, np.newaxis]\n",
    "print(y)"
   ]
  },
  {
   "cell_type": "markdown",
   "metadata": {
    "deletable": true,
    "editable": true
   },
   "source": [
    "## Vector Stacking"
   ]
  },
  {
   "cell_type": "code",
   "execution_count": 44,
   "metadata": {
    "collapsed": false,
    "deletable": true,
    "editable": true
   },
   "outputs": [
    {
     "name": "stdout",
     "output_type": "stream",
     "text": [
      "[[3 4 5]\n",
      " [1 9 0]]\n",
      "[[3 1]\n",
      " [4 9]\n",
      " [5 0]]\n"
     ]
    },
    {
     "data": {
      "text/plain": [
       "(3,)"
      ]
     },
     "execution_count": 44,
     "metadata": {},
     "output_type": "execute_result"
    }
   ],
   "source": [
    "A = np.array([3, 4, 5])\n",
    "B = np.array([1,9,0])\n",
    "print(np.row_stack((A, B)))\n",
    "print(np.column_stack((A, B)))\n",
    "np.shape(A)\n"
   ]
  },
  {
   "cell_type": "code",
   "execution_count": 45,
   "metadata": {
    "collapsed": false,
    "deletable": true,
    "editable": true
   },
   "outputs": [
    {
     "name": "stdout",
     "output_type": "stream",
     "text": [
      "array([[3, 4, 5, 3, 4, 5, 3, 4, 5],\n",
      "       [1, 9, 0, 1, 9, 0, 1, 9, 0],\n",
      "       [4, 6, 8, 4, 6, 8, 4, 6, 8]])\n",
      "array([[3, 3, 3],\n",
      "       [4, 4, 4],\n",
      "       [5, 5, 5]])\n",
      "array([[[3, 3, 3],\n",
      "        [4, 4, 4],\n",
      "        [5, 5, 5]],\n",
      "\n",
      "       [[1, 1, 1],\n",
      "        [9, 9, 9],\n",
      "        [0, 0, 0]],\n",
      "\n",
      "       [[4, 4, 4],\n",
      "        [6, 6, 6],\n",
      "        [8, 8, 8]]])\n"
     ]
    }
   ],
   "source": [
    "A = np.array([[3, 4, 5],\n",
    "              [1, 9, 0],\n",
    "              [4, 6, 8]])\n",
    "print repr(np.column_stack((A, A, A)))\n",
    "print repr(np.column_stack((A[0], A[0], A[0])))\n",
    "print repr(np.dstack((A, A, A)))"
   ]
  },
  {
   "cell_type": "markdown",
   "metadata": {
    "deletable": true,
    "editable": true
   },
   "source": [
    "## Repeating Patterns, The \"tile\" Method"
   ]
  },
  {
   "cell_type": "code",
   "execution_count": 46,
   "metadata": {
    "collapsed": false,
    "deletable": true,
    "editable": true
   },
   "outputs": [
    {
     "name": "stdout",
     "output_type": "stream",
     "text": [
      "[[1 2 1 2 1 2 1 2]\n",
      " [3 4 3 4 3 4 3 4]\n",
      " [1 2 1 2 1 2 1 2]\n",
      " [3 4 3 4 3 4 3 4]\n",
      " [1 2 1 2 1 2 1 2]\n",
      " [3 4 3 4 3 4 3 4]]\n",
      "[[1 2 1 2]\n",
      " [3 4 3 4]]\n"
     ]
    }
   ],
   "source": [
    "import numpy as np\n",
    "x = np.array([ [1, 2], [3, 4]])\n",
    "print np.tile(x, (3,4))\n",
    "x = np.array([[1, 2], [3, 4]])\n",
    "print(np.tile(x, 2))"
   ]
  }
 ],
 "metadata": {
  "kernelspec": {
   "display_name": "Python 2",
   "language": "python",
   "name": "python2"
  },
  "language_info": {
   "codemirror_mode": {
    "name": "ipython",
    "version": 2
   },
   "file_extension": ".py",
   "mimetype": "text/x-python",
   "name": "python",
   "nbconvert_exporter": "python",
   "pygments_lexer": "ipython2",
   "version": "2.7.12"
  }
 },
 "nbformat": 4,
 "nbformat_minor": 2
}
