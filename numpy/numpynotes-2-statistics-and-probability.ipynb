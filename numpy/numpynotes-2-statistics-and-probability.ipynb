{
 "cells": [
  {
   "cell_type": "markdown",
   "metadata": {},
   "source": [
    "# Numpy Statistics & Probability\n",
    "## Random Numbers with Python\n",
    "Python 中自带有产生随机数的库 random，但是 random 里面有两种随机数产生方法，一种是伪随机的random类，另一种借助操作系统的随机产生安全的随机数SystemRandom类；\n",
    "\n",
    " - random() returns a float between 0 and 1 uniformly at random\n",
    " - randint(a,b) returns a random integer between a and b inclusive\n",
    " - choice(li) samples a random element from li\n",
    " - sample(li) returns a randomly selected subset of li\n",
    " - shuffle(li) randomly permutes the list li\n",
    " - uniform(a, b) returns a float uniformly distributed between a and b\n",
    "\n",
    "### random伪随机"
   ]
  },
  {
   "cell_type": "code",
   "execution_count": 1,
   "metadata": {},
   "outputs": [
    {
     "name": "stdout",
     "output_type": "stream",
     "text": [
      "0.16889393587\n"
     ]
    }
   ],
   "source": [
    "from random import random\n",
    "random_number = random()\n",
    "print random_number"
   ]
  },
  {
   "cell_type": "markdown",
   "metadata": {},
   "source": [
    "### SystemRandom随机"
   ]
  },
  {
   "cell_type": "code",
   "execution_count": 2,
   "metadata": {},
   "outputs": [
    {
     "name": "stdout",
     "output_type": "stream",
     "text": [
      "0.861697883538\n"
     ]
    }
   ],
   "source": [
    "from random import SystemRandom\n",
    "crypto = SystemRandom()\n",
    "print(crypto.random())"
   ]
  },
  {
   "cell_type": "code",
   "execution_count": 3,
   "metadata": {},
   "outputs": [
    {
     "name": "stdout",
     "output_type": "stream",
     "text": [
      "[0.4257777379125046, 0.6882285691208212, 0.999802732023553, 0.26986332205490415, 0.9775733869433579]\n"
     ]
    }
   ],
   "source": [
    "import random\n",
    "def my_random_list(n, secure=True):\n",
    "    random_lists = []\n",
    "    if secure:\n",
    "        random_generator = random.SystemRandom().random\n",
    "    else:\n",
    "        random_generator = random.random\n",
    "    for _ in range(n):\n",
    "        random_lists.append(random_generator())\n",
    "    return random_lists\n",
    "print my_random_list(5)"
   ]
  },
  {
   "cell_type": "code",
   "execution_count": 4,
   "metadata": {},
   "outputs": [
    {
     "name": "stdout",
     "output_type": "stream",
     "text": [
      "1000 loops, best of 3: 200 µs per loop\n"
     ]
    }
   ],
   "source": [
    "%%timeit\n",
    "my_random_list(100)"
   ]
  },
  {
   "cell_type": "code",
   "execution_count": 5,
   "metadata": {},
   "outputs": [
    {
     "name": "stdout",
     "output_type": "stream",
     "text": [
      "100000 loops, best of 3: 8.65 µs per loop\n"
     ]
    }
   ],
   "source": [
    "%%timeit\n",
    "my_random_list(100,False)"
   ]
  },
  {
   "cell_type": "code",
   "execution_count": 6,
   "metadata": {},
   "outputs": [
    {
     "data": {
      "text/plain": [
       "array([ 0.27452368,  0.77187204,  0.24901234,  0.74416124,  0.65771063,\n",
       "        0.12142524,  0.40171976,  0.5018911 ,  0.06161399,  0.11495199])"
      ]
     },
     "execution_count": 6,
     "metadata": {},
     "output_type": "execute_result"
    }
   ],
   "source": [
    "import numpy as np\n",
    "np.random.random(10)"
   ]
  },
  {
   "cell_type": "code",
   "execution_count": 7,
   "metadata": {},
   "outputs": [
    {
     "name": "stdout",
     "output_type": "stream",
     "text": [
      "The slowest run took 33.74 times longer than the fastest. This could mean that an intermediate result is being cached.\n",
      "100000 loops, best of 3: 1.9 µs per loop\n"
     ]
    }
   ],
   "source": [
    "%%timeit\n",
    "np.random.random(100)"
   ]
  },
  {
   "cell_type": "markdown",
   "metadata": {},
   "source": [
    "### 产生符合概率分布和为1的随机数"
   ]
  },
  {
   "cell_type": "code",
   "execution_count": 8,
   "metadata": {},
   "outputs": [
    {
     "name": "stdout",
     "output_type": "stream",
     "text": [
      "[ 0.55817801  0.73724308  0.61660164  0.16040713  0.76239893  0.32715048\n",
      "  0.04693124  0.90102208  0.82290265  0.72054751]\n",
      "[ 0.09873345  0.13040742  0.10906773  0.02837365  0.13485712  0.05786809\n",
      "  0.00830144  0.15937751  0.14555934  0.12745422]\n",
      "1.0\n"
     ]
    }
   ],
   "source": [
    "import numpy as np\n",
    "random_values = np.random.random(10)\n",
    "print random_values\n",
    "probable_random_values = random_values / random_values.sum()\n",
    "print probable_random_values\n",
    "print probable_random_values.sum()"
   ]
  },
  {
   "cell_type": "markdown",
   "metadata": {},
   "source": [
    "### 产生随机密码"
   ]
  },
  {
   "cell_type": "code",
   "execution_count": 9,
   "metadata": {},
   "outputs": [
    {
     "name": "stdout",
     "output_type": "stream",
     "text": [
      "Automatically generated password by Python: QNMHh7SFOcMiDL6\n"
     ]
    }
   ],
   "source": [
    "from random import SystemRandom\n",
    "sr = SystemRandom() # create an instance of the SystemRandom class\n",
    "    \n",
    "def generate_password(length, \n",
    "                      valid_chars=None):\n",
    "    \"\"\" generate_password(length, check_char) -> password\n",
    "        length: the length of the created password\n",
    "        check_char: a Boolean function used to check the validity of a char\n",
    "    \"\"\"\n",
    "    if valid_chars==None:\n",
    "        valid_chars = \"ABCDEFGHIJKLMNOPQRSTUVWXYZ\"\n",
    "        valid_chars += valid_chars.lower() + \"0123456789\"\n",
    "    \n",
    "    password = \"\"\n",
    "    counter = 0\n",
    "    while counter < length:\n",
    "        rnum = sr.randint(0, 128)\n",
    "        char = chr(rnum)\n",
    "        if char in valid_chars:\n",
    "            password += chr(rnum)\n",
    "            counter += 1\n",
    "    return password\n",
    "print(\"Automatically generated password by Python: \" + generate_password(15))"
   ]
  },
  {
   "cell_type": "markdown",
   "metadata": {},
   "source": [
    "## Numpy random 和 Python random 的区别"
   ]
  },
  {
   "cell_type": "code",
   "execution_count": 10,
   "metadata": {},
   "outputs": [
    {
     "name": "stdout",
     "output_type": "stream",
     "text": [
      "[1, 6, 1, 3, 5, 1, 5, 5, 3, 2]\n"
     ]
    }
   ],
   "source": [
    "import random\n",
    "outcome = [ random.randint(1, 6) for _ in range(10) ]\n",
    "print(outcome)"
   ]
  },
  {
   "cell_type": "code",
   "execution_count": 11,
   "metadata": {},
   "outputs": [
    {
     "name": "stdout",
     "output_type": "stream",
     "text": [
      "[1 2 3 4 6 1 5 5 4 2]\n",
      "[[2 1 3 2]\n",
      " [5 5 1 2]\n",
      " [6 6 4 5]\n",
      " [6 3 5 2]\n",
      " [4 6 3 6]]\n"
     ]
    }
   ],
   "source": [
    "import numpy as np\n",
    "outcome = np.random.randint(1, 7, size=10)\n",
    "print(outcome)\n",
    "print(np.random.randint(1, 7, size=(5, 4)))"
   ]
  },
  {
   "cell_type": "markdown",
   "metadata": {},
   "source": [
    "**Python random其实是闭区间，numpy random是半开半闭区间；numpy random 可以产生维度**"
   ]
  },
  {
   "cell_type": "markdown",
   "metadata": {},
   "source": [
    "## Random Choices\n",
    "core Python 中我们还可以用 choice 从一个 list 或 tuple 中随机选择某个元素，Numpy choice 提供更强大灵活的 多维度 随机选择；"
   ]
  },
  {
   "cell_type": "code",
   "execution_count": 12,
   "metadata": {},
   "outputs": [
    {
     "name": "stdout",
     "output_type": "stream",
     "text": [
      "CSS\n"
     ]
    }
   ],
   "source": [
    "from random import choice\n",
    "programming_languages = [\"C++\", \"Java\", \"Python\", \n",
    "                        \"Golang\", \"Javascript\", \"C\",\n",
    "                        \"Ruby\", \"Pearl\", \"Scala\", \n",
    "                        \"Lisp\", \"Html\", \"CSS\"]\n",
    "print (choice(programming_languages))"
   ]
  },
  {
   "cell_type": "code",
   "execution_count": 13,
   "metadata": {},
   "outputs": [
    {
     "name": "stdout",
     "output_type": "stream",
     "text": [
      "Pearl\n",
      "['Lisp' 'Pearl' 'CSS']\n",
      "[['Golang' 'Golang' 'C' 'Scala']\n",
      " ['CSS' 'CSS' 'Javascript' 'C++']\n",
      " ['C++' 'Ruby' 'Javascript' 'Scala']]\n",
      "[['Javascript' 'C++' 'Python' 'Ruby']\n",
      " ['Java' 'CSS' 'Scala' 'C']\n",
      " ['Pearl' 'Golang' 'Html' 'Lisp']]\n"
     ]
    }
   ],
   "source": [
    "from numpy.random import choice\n",
    "print(choice(programming_languages))\n",
    "\n",
    "x1 = choice(programming_languages, size=3)\n",
    "print(x1)\n",
    "x2 = choice(programming_languages, size=(3, 4))\n",
    "print(x2)\n",
    "\n",
    "print(choice(programming_languages, size=(3, 4), replace=False))"
   ]
  },
  {
   "cell_type": "markdown",
   "metadata": {},
   "source": [
    "## Random Samples\n",
    "### numpy.random.random_sample(shape)\n",
    " - 产生[0.0, 1.0)之间的连续均匀分布的随机数; 只有一个形状参数；\n",
    " - 产生[a, b)之间的数，使用公式 (b - a) * random_sample() + a;"
   ]
  },
  {
   "cell_type": "code",
   "execution_count": 14,
   "metadata": {},
   "outputs": [
    {
     "name": "stdout",
     "output_type": "stream",
     "text": [
      "[[ 0.51836106  0.90676182  0.13392795  0.13109821]\n",
      " [ 0.39302554  0.46879734  0.24627144  0.40894816]\n",
      " [ 0.41010848  0.63799337  0.1380191   0.88289495]]\n",
      "[[-3.28042183  2.40699868  0.86679762  4.56155028]\n",
      " [ 3.22059842  2.77597382 -2.66749803  3.15871745]\n",
      " [-2.30100265  3.07235352 -0.15735709 -3.0834553 ]]\n"
     ]
    }
   ],
   "source": [
    "import numpy as np\n",
    "x = np.random.random_sample((3, 4))\n",
    "print(x)\n",
    "a = -3.4\n",
    "b = 5.9\n",
    "A = (b - a) * np.random.random_sample((3, 4)) + a\n",
    "print(A)"
   ]
  },
  {
   "cell_type": "markdown",
   "metadata": {},
   "source": [
    "### Core Python sample\n",
    "sample(population, k)\n",
    " - 产生 k 个范围在 population 的随机数；"
   ]
  },
  {
   "cell_type": "code",
   "execution_count": 15,
   "metadata": {},
   "outputs": [
    {
     "name": "stdout",
     "output_type": "stream",
     "text": [
      "[1, 15, 5, 21, 12, 30]\n"
     ]
    }
   ],
   "source": [
    "import random\n",
    "print(random.sample(range(1, 50), 6))"
   ]
  },
  {
   "cell_type": "markdown",
   "metadata": {
    "collapsed": true
   },
   "source": [
    "# Weighted choice & sample\n",
    "- [Monty_Hall_problem](https://en.wikipedia.org/wiki/Monty_Hall_problem)\n",
    "- [MontyFinal2.pdf](http://educ.jmu.edu/~lucassk/Papers/MontyFinal2.pdf)\n",
    "- [montyfall.pdf](http://www.probability.ca/jeff/writing/montyfall.pdf)\n",
    "\n",
    "## Weighted Random Choices\n",
    "### 找到 x 所在的区间"
   ]
  },
  {
   "cell_type": "code",
   "execution_count": 16,
   "metadata": {},
   "outputs": [
    {
     "name": "stdout",
     "output_type": "stream",
     "text": [
      "-1 0 0 1 2 2 3 4 6 6 -1 -1\n"
     ]
    }
   ],
   "source": [
    "def find_interval(x, partition):\n",
    "    '''\n",
    "    返回x所在区间的左边界索引；\n",
    "    如果 partition[i] < x < partition[i+1]， 则返回 i; 否则返回 -1；\n",
    "    '''\n",
    "    for i in range(0, len(partition)):\n",
    "        if x < partition[i]:\n",
    "            return i - 1\n",
    "    return -1\n",
    "\n",
    "I = [0, 3, 5, 7.8, 9, 12, 13.8, 16]\n",
    "for x in [-1.3, 0, 0.1, 3.2, 5, 6.2, 7.9, 10.8, 13.9, 15, 16, 16.5]:\n",
    "    print find_interval(x, I),"
   ]
  },
  {
   "cell_type": "markdown",
   "metadata": {},
   "source": [
    "### 累计概率和"
   ]
  },
  {
   "cell_type": "code",
   "execution_count": 17,
   "metadata": {},
   "outputs": [
    {
     "name": "stdout",
     "output_type": "stream",
     "text": [
      "[0, 0.20000000000000001, 0.69999999999999996, 1.0]\n"
     ]
    }
   ],
   "source": [
    "import numpy as np\n",
    "weights = [0.2, 0.5, 0.3]\n",
    "cum_weights = [0] + list(np.cumsum(weights))\n",
    "print(cum_weights)"
   ]
  },
  {
   "cell_type": "markdown",
   "metadata": {},
   "source": [
    ">如何才能以某一种固定的概率随机取数呢？例如，我要随机的从 [1,2,3] 取数，但是要求是按照 [0.2, 0.5, 0.3] 的概率取出来，即最终表现应该是取出来的数， 1 占 20%， 2 占 50%， 3 占 30%；\n",
    "\n",
    "**从均匀分布random中产生非均匀分布，就是以非均匀的概率为区间，做随机取数实验，random 产生的随机数会落到相应的区间，而每个区间对应一个相应概率的随机数字**"
   ]
  },
  {
   "cell_type": "code",
   "execution_count": 18,
   "metadata": {
    "collapsed": true
   },
   "outputs": [],
   "source": [
    "import numpy as np\n",
    "import random\n",
    "def weighted_choice(sequence, \n",
    "                    weights,\n",
    "                    secure=True):\n",
    "    \"\"\" \n",
    "    weighted_choice selects a random element of \n",
    "    the sequence according to the list of weights\n",
    "    \"\"\"\n",
    "    \n",
    "    if secure:\n",
    "        crypto = random.SystemRandom()\n",
    "        x = crypto.random()\n",
    "    else:\n",
    "        x = np.random.random()\n",
    "    cum_weights = [0] + list(np.cumsum(weights))\n",
    "    index = find_interval(x, cum_weights)\n",
    "    return sequence[index]"
   ]
  },
  {
   "cell_type": "code",
   "execution_count": 19,
   "metadata": {},
   "outputs": [
    {
     "name": "stdout",
     "output_type": "stream",
     "text": [
      "[0.08426, 0.16529, 0.16685, 0.16723, 0.16817, 0.2482]\n"
     ]
    }
   ],
   "source": [
    "from collections import Counter\n",
    "faces_of_die = [1, 2, 3, 4, 5, 6]\n",
    "weights = [1.0/12, 1.0/6, 1.0/6, 1.0/6, 1.0/6, 3.0/12]\n",
    "outcomes = []\n",
    "n = 100000\n",
    "for _ in range(n):\n",
    "    outcomes.append(weighted_choice(faces_of_die, weights))\n",
    "c = Counter(outcomes)\n",
    "for key in c:\n",
    "    c[key] = c[key] * 1.0 / n\n",
    "    \n",
    "print(sorted(c.values()))"
   ]
  },
  {
   "cell_type": "markdown",
   "metadata": {},
   "source": [
    "## Weighted Sample\n",
    "随机取样的模拟，就是每一次以某种概率取出一个元素，总共取k次;\n",
    "随机取样试验： 8 种不同颜色的球，每一种球是无穷的，但是他们的比例是[1,4,4,2,2,1,3,7],一次取出三个不同颜色的球\n",
    "### 不放回取样"
   ]
  },
  {
   "cell_type": "code",
   "execution_count": 20,
   "metadata": {},
   "outputs": [
    {
     "name": "stdout",
     "output_type": "stream",
     "text": [
      "['blue', 'black', 'yellow']\n",
      "['orange', 'blue', 'green']\n",
      "['orange', 'pink', 'green']\n",
      "['blue', 'green', 'yellow']\n",
      "['pink', 'orange', 'white']\n",
      "['pink', 'green', 'red']\n",
      "['blue', 'orange', 'black']\n",
      "['pink', 'green', 'yellow']\n",
      "['orange', 'blue', 'green']\n",
      "['blue', 'orange', 'pink']\n"
     ]
    }
   ],
   "source": [
    "def weighted_sample(population, weights, k):\n",
    "    \"\"\" \n",
    "    This function draws a random sample of length k \n",
    "    from the sequence 'population' according to the \n",
    "    list of weights\n",
    "    \"\"\"\n",
    "    sample = set()\n",
    "    population = list(population)\n",
    "    weights = list(weights) \n",
    "    while len(sample) < k:\n",
    "        choice = weighted_choice(population, weights)\n",
    "        sample.add(choice)\n",
    "        index = population.index(choice)\n",
    "        weights.pop(index)\n",
    "        population.remove(choice)\n",
    "        weights = [ x / sum(weights) for x in weights]\n",
    "    return list(sample)\n",
    "\n",
    "balls = [\"red\", \"green\", \"blue\", \"yellow\", \"black\", \"white\", \"pink\", \"orange\"]\n",
    "weights = [ 1.0/24, 1.0/6, 1.0/6, 1.0/12, 1.0/12, 1.0/24, 1.0/8, 7.0/24]\n",
    "for i in range(10):\n",
    "    print(weighted_sample(balls, weights, 3))"
   ]
  },
  {
   "cell_type": "markdown",
   "metadata": {},
   "source": [
    "### 有放回的取样\n",
    "n 次独立性试验，只是如果取的样本已经取过，就认为失败，不加入结果集，重新试验。其实和不放回是一样的"
   ]
  },
  {
   "cell_type": "code",
   "execution_count": 21,
   "metadata": {
    "collapsed": true
   },
   "outputs": [],
   "source": [
    "def weighted_sample_alternative(population, weights, k):\n",
    "    \"\"\" \n",
    "    Alternative way to previous implementation.\n",
    "        \n",
    "    This function draws a random sample of length k \n",
    "    from the sequence 'population' according to the \n",
    "    list of weights\n",
    "    \"\"\"\n",
    "    sample = set()\n",
    "    population = list(population)\n",
    "    weights = list(weights)\n",
    "    while len(sample) < k:\n",
    "        choice = weighted_choice(population, weights)\n",
    "        if choice not in sample:\n",
    "            sample.add(choice)\n",
    "    return list(sample)"
   ]
  },
  {
   "cell_type": "code",
   "execution_count": 22,
   "metadata": {},
   "outputs": [
    {
     "name": "stdout",
     "output_type": "stream",
     "text": [
      "0.71165\n",
      "0.71066\n"
     ]
    }
   ],
   "source": [
    "n = 100000\n",
    "orange_counter = 0\n",
    "orange_counter_alternative = 0\n",
    "for i in range(n):\n",
    "    if \"orange\" in weighted_sample(balls, weights, 3):\n",
    "        orange_counter += 1\n",
    "    if \"orange\" in weighted_sample_alternative(balls, weights, 3):\n",
    "        orange_counter_alternative += 1 \n",
    "        \n",
    "print(1.0 * orange_counter / n)\n",
    "print(1.0 * orange_counter_alternative / n)"
   ]
  },
  {
   "cell_type": "markdown",
   "metadata": {},
   "source": [
    "## Cartesian Choice笛卡尔取样\n",
    "从多个集合中按每个集合对应的元素比例取一个元素，最后按顺序返回各个集合中一个随机取出的样本的集合；\n",
    "\n",
    "**均匀笛卡尔取样, 即 每个集合中的元素被取出来的概率均等。**"
   ]
  },
  {
   "cell_type": "code",
   "execution_count": 23,
   "metadata": {},
   "outputs": [
    {
     "data": {
      "text/plain": [
       "['A', 'blue', 'car', 'dreams']"
      ]
     },
     "execution_count": 23,
     "metadata": {},
     "output_type": "execute_result"
    }
   ],
   "source": [
    "import random\n",
    "def cartesian_choice(*iterables):\n",
    "    res = []\n",
    "    for population in iterables:\n",
    "        lst = random.choice(population)\n",
    "        res.append(lst)\n",
    "    return res\n",
    "cartesian_choice([\"The\", \"A\"],\n",
    "                 [\"red\", \"green\", \"blue\", \"yellow\", \"grey\"], \n",
    "                 [\"car\", \"house\", \"fish\", \"light\"],\n",
    "                 [\"smells\", \"dreams\", \"blinks\"])"
   ]
  },
  {
   "cell_type": "markdown",
   "metadata": {},
   "source": [
    "**非均匀笛卡尔取样，即 每个集合中元素被取出来的概率不等。此时要给定每个集合元素的概率比。**"
   ]
  },
  {
   "cell_type": "code",
   "execution_count": 24,
   "metadata": {},
   "outputs": [
    {
     "name": "stdout",
     "output_type": "stream",
     "text": [
      "It may or may not be true:\n",
      "Each red water thinks of happiness.\n",
      "A blue water dreams of happiness.\n",
      "Every green programming language smells of chocolate.\n",
      "The grey elephant thinks of chocolate.\n",
      "The blue programming language thinks of challenges.\n",
      "The blue light smells of chocolate.\n",
      "The green programming language thinks of chocolate.\n",
      "The green programming language smells of happiness.\n",
      "The blue programming language dreams of happiness.\n",
      "No yellow water smells of happiness.\n"
     ]
    }
   ],
   "source": [
    "import random\n",
    "def weighted_cartesian_choice(*iterables):\n",
    "    \"\"\"\n",
    "    A list with weighted random choices from each iterable of iterables \n",
    "    is being created in respective order\n",
    "    \"\"\"\n",
    "    res = []\n",
    "    for population, weight in iterables:\n",
    "        lst = weighted_choice(population, weight)\n",
    "        res.append(lst)\n",
    "    return res\n",
    "determiners = ([\"The\", \"A\", \"Each\", \"Every\", \"No\"], \n",
    "               [0.3, 0.3, 0.1, 0.1, 0.2])\n",
    "colours = ([\"red\", \"green\", \"blue\", \"yellow\", \"grey\"], \n",
    "           [0.1, 0.3, 0.3, 0.2, 0.2])\n",
    "nouns = ([\"water\", \"elephant\", \"fish\", \"light\", \"programming language\"], \n",
    "         [0.3, 0.2, 0.1, 0.1, 0.3])\n",
    "nouns2 = ([\"of happiness\", \"of chocolate\", \"of wisdom\", \"of challenges\", \"of air\"], \n",
    "         [0.5, 0.2, 0.1, 0.1, 0.1])\n",
    "verb_phrases = ([\"smells\", \"dreams\", \"thinks\", \"is made of\"], \n",
    "         [0.4, 0.3, 0.3])\n",
    "print(\"It may or may not be true:\")\n",
    "for i in range(10):\n",
    "    res = weighted_cartesian_choice(determiners,\n",
    "                                    colours,\n",
    "                                    nouns,\n",
    "                                    verb_phrases,\n",
    "                                    nouns2)\n",
    "    print(\" \".join(res) + \".\")"
   ]
  },
  {
   "cell_type": "markdown",
   "metadata": {},
   "source": [
    "## Random Seed\n",
    "random seed 可以用来产生重复的随机序列\n"
   ]
  },
  {
   "cell_type": "code",
   "execution_count": 25,
   "metadata": {},
   "outputs": [
    {
     "name": "stdout",
     "output_type": "stream",
     "text": [
      "Help on method seed in module random:\n",
      "\n",
      "seed(self, a=None) method of random.Random instance\n",
      "    Initialize internal state from hashable object.\n",
      "    \n",
      "    None or no argument seeds from current time or from an operating\n",
      "    system specific randomness source if available.\n",
      "    \n",
      "    If a is not None or an int or long, hash(a) is used instead.\n",
      "\n"
     ]
    }
   ],
   "source": [
    "import random\n",
    "help(random.seed)"
   ]
  },
  {
   "cell_type": "code",
   "execution_count": 26,
   "metadata": {},
   "outputs": [
    {
     "name": "stdout",
     "output_type": "stream",
     "text": [
      "7 1 3 3 8 7 9 1 5 1 \n",
      "Let's create the same random numbers again:\n",
      "7 1 3 3 8 7 9 1 5 1\n"
     ]
    }
   ],
   "source": [
    "import random\n",
    "random.seed(42)\n",
    "for _ in range(10):\n",
    "    print random.randint(1, 10),\n",
    "    \n",
    "print(\"\\nLet's create the same random numbers again:\")\n",
    "random.seed(42)\n",
    "for _ in range(10):\n",
    "    print random.randint(1, 10),"
   ]
  },
  {
   "cell_type": "markdown",
   "metadata": {},
   "source": [
    "## Random Number Gaussian and Normalvariate Distribution服从高斯和正态分布的随机数\n",
    "\n",
    " - gauss\n",
    " - normalvariate"
   ]
  },
  {
   "cell_type": "code",
   "execution_count": 27,
   "metadata": {},
   "outputs": [
    {
     "name": "stdout",
     "output_type": "stream",
     "text": [
      "[186.96893210720162, 214.90676059797428, 199.69909520396007, 183.31521532331496, 157.85035192965537, 149.56012897536849, 187.39026585633607, 219.33242481612143, 181.24970591710152, 176.81030118687647]\n"
     ]
    }
   ],
   "source": [
    "from random import gauss\n",
    "n = 1000\n",
    "values = []\n",
    "frequencies = {}\n",
    "while len(values) < n:\n",
    "    value = gauss(180, 30)\n",
    "    if 130 < value < 230:\n",
    "        frequencies[int(value)] = frequencies.get(int(value), 0) + 1\n",
    "        values.append(value)\n",
    "        \n",
    "print(values[:10])"
   ]
  },
  {
   "cell_type": "code",
   "execution_count": 28,
   "metadata": {},
   "outputs": [
    {
     "data": {
      "text/plain": [
       "[<matplotlib.lines.Line2D at 0x7faae4228a10>]"
      ]
     },
     "execution_count": 28,
     "metadata": {},
     "output_type": "execute_result"
    },
    {
     "data": {
      "image/png": "[encoded data removed]",
      "text/plain": [
       "<matplotlib.figure.Figure at 0x7faae85c8d10>"
      ]
     },
     "metadata": {},
     "output_type": "display_data"
    }
   ],
   "source": [
    "%matplotlib inline\n",
    "import matplotlib.pyplot as plt\n",
    "freq = list(frequencies.items())\n",
    "freq.sort()\n",
    "plt.plot(*list(zip(*freq)))"
   ]
  },
  {
   "cell_type": "code",
   "execution_count": 29,
   "metadata": {},
   "outputs": [
    {
     "data": {
      "text/plain": [
       "[<matplotlib.lines.Line2D at 0x7faae42c3cd0>]"
      ]
     },
     "execution_count": 29,
     "metadata": {},
     "output_type": "execute_result"
    },
    {
     "data": {
      "image/png": "[encoded data removed]",
      "text/plain": [
       "<matplotlib.figure.Figure at 0x7faae42c3b50>"
      ]
     },
     "metadata": {},
     "output_type": "display_data"
    }
   ],
   "source": [
    "from random import normalvariate\n",
    "n = 1000\n",
    "values = []\n",
    "frequencies = {}\n",
    "while len(values) < n:\n",
    "    value = normalvariate(180, 30)\n",
    "    if 130 < value < 230:\n",
    "        frequencies[int(value)] = frequencies.get(int(value), 0) + 1\n",
    "        values.append(value)\n",
    "freq = list(frequencies.items())\n",
    "freq.sort()\n",
    "plt.plot(*list(zip(*freq)))"
   ]
  },
  {
   "cell_type": "markdown",
   "metadata": {},
   "source": [
    "## 服从二项分布的随机数(zero/one distribution)"
   ]
  },
  {
   "cell_type": "code",
   "execution_count": 30,
   "metadata": {
    "collapsed": true
   },
   "outputs": [],
   "source": [
    "import random\n",
    "def random_ones_and_zeros(p):\n",
    "    \"\"\" p: probability 0 <= p <= 1\n",
    "        returns a 1 with the probability p\n",
    "    \"\"\"\n",
    "    val = random.random()\n",
    "    return 1 if val < p else 0\n"
   ]
  },
  {
   "cell_type": "code",
   "execution_count": 31,
   "metadata": {},
   "outputs": [
    {
     "data": {
      "text/plain": [
       "0.725"
      ]
     },
     "execution_count": 31,
     "metadata": {},
     "output_type": "execute_result"
    }
   ],
   "source": [
    "n = 1000\n",
    "1.0 * sum(random_ones_and_zeros(0.7) for _ in range(n)) / n"
   ]
  },
  {
   "cell_type": "markdown",
   "metadata": {},
   "source": [
    "使用 generator 的优化版本"
   ]
  },
  {
   "cell_type": "code",
   "execution_count": 32,
   "metadata": {},
   "outputs": [
    {
     "data": {
      "text/plain": [
       "0.800583"
      ]
     },
     "execution_count": 32,
     "metadata": {},
     "output_type": "execute_result"
    }
   ],
   "source": [
    "import random\n",
    "def random_ones_and_zeros(p):\n",
    "    while True:\n",
    "        val =  random.random()\n",
    "        yield 1 if val < p else 0\n",
    "\n",
    "def firstn(generator, n):\n",
    "    for i in range(n):\n",
    "        yield next(generator)\n",
    "        \n",
    "n = 1000000\n",
    "1.0 * sum(x for x in firstn(random_ones_and_zeros(0.8), n)) / n\n",
    "    "
   ]
  },
  {
   "cell_type": "markdown",
   "metadata": {},
   "source": [
    "## Numpy Weighted Random Choice  & Sample\n",
    " - [weighted-random-generation-in-python](http://eli.thegreenplace.net/2010/01/22/weighted-random-generation-in-python/)\n",
    " - [weights.pdf](http://faculty.wcas.northwestern.edu/~ane686/research/weights.pdf)\n",
    " - [Equal Probability of Selection](http://www.ph.ucla.edu/epi/rapidsurveys/RScourse/chap4rapid_2004.pdf)\n",
    "-----------\n",
    "- choice(a, size=None, replace=True, p=None): Generates a random sample from a given 1-D array\n",
    "  - a : 1-D array-like or int\n",
    "    - ndarray\n",
    "    - int, the random sample 通过 np.arange(n) 产生\n",
    "  - size : int or tuple of ints, optional\n",
    "    - 输出的 shape. 默认为空，返回一个值\n",
    "  - replace : boolean, optional\n",
    "    - Whether the sample is with or without replacement,有放回还是不放回取样\n",
    "  - p : 1-D array-like, optional\n",
    "    - The probabilities associated with each entry in a.\n",
    "-----------"
   ]
  },
  {
   "cell_type": "code",
   "execution_count": 33,
   "metadata": {},
   "outputs": [
    {
     "name": "stdout",
     "output_type": "stream",
     "text": [
      "Counter({'programmer': 318, 'engineer': 313, 'scientist': 200, 'priest': 120, 'philosopher': 49})\n",
      "Counter({'programmer': 0.318, 'engineer': 0.313, 'scientist': 0.2, 'priest': 0.12, 'philosopher': 0.049})\n"
     ]
    }
   ],
   "source": [
    "from numpy.random import choice\n",
    "professions = [\"scientist\", \n",
    "               \"philosopher\", \n",
    "               \"engineer\", \n",
    "               \"priest\", \n",
    "               \"programmer\"]\n",
    "probabilities = [0.2, 0.05, 0.3, 0.15, 0.3]\n",
    "choice(professions, p=probabilities)\n",
    "\n",
    "from collections import Counter\n",
    "c = Counter()\n",
    "for _ in range(1000):\n",
    "    profession = choice(professions, p=probabilities)\n",
    "    c[profession] += 1\n",
    "    \n",
    "print(c)\n",
    "s = sum(c.values())\n",
    "for el in c:\n",
    "    c[el] /= s * 1.0\n",
    "print(c)"
   ]
  },
  {
   "cell_type": "markdown",
   "metadata": {},
   "source": [
    "# Data Synthesize\n",
    "使用前面的概率模型和函数来合成测试数据集，**如果没有数据，测试数据可以认为由数据库中的记录集合生成的，合成一条记录时，每个字段可以从每一个字段取值集合中随机抽取出来，如果没有固定规则的话**。在进行数据合成操作的时候，zip函数经常使用，我们来看看zip的作用！\n",
    "\n",
    "### ZIP 函数"
   ]
  },
  {
   "cell_type": "code",
   "execution_count": 34,
   "metadata": {},
   "outputs": [
    {
     "name": "stdout",
     "output_type": "stream",
     "text": [
      "[(('John', 80),), (('Eve', 70),), (('Jane', 2),)]\n",
      "(80, 70, 2)\n",
      "[('John', 'Eve', 'Jane'), (80, 70, 2)]\n"
     ]
    },
    {
     "data": {
      "text/plain": [
       "[('John', 'Paul', 8), ('Eve', 'Frank', 20), ('Jane', 'Laura', 6)]"
      ]
     },
     "execution_count": 34,
     "metadata": {},
     "output_type": "execute_result"
    }
   ],
   "source": [
    "database = [(\"John\", 80), (\"Eve\", 70), (\"Jane\", 2)]\n",
    "l = zip(database) # 注意这里相当于给 zip 传递的参数只有一个， 即 database 这个列表\n",
    "print l\n",
    "# 等价于 zip((\"John\", 80), (\"Eve\", 70), (\"Jane\", 2)), 加 * 代表可变参数列表的意思，*database 相当于传递多个参数，每个参数是一个二元tuple\n",
    "\n",
    "names, weights = zip(*database)\n",
    "print weights\n",
    "print zip((\"John\", 80), (\"Eve\", 70), (\"Jane\", 2))\n",
    "\n",
    "l1 = [\"John\", \"Eve\", \"Jane\"]\n",
    "l2 = [\"Paul\", \"Frank\", \"Laura\"]\n",
    "l3 = [8, 20, 6]\n",
    "zip(l1,l2,l3)\n"
   ]
  },
  {
   "cell_type": "markdown",
   "metadata": {},
   "source": [
    "其实**zip(\\*iterable)的作用就是将参数列表中每一个 list 中对应第 i 个位置的元素连接（zip）成一个 tuple， 有 n 个 list， tuple 就是 n 元组，返回一个含有 最短长度(最短list的长度)的 tuple 为元素的列表；**\n",
    "\n",
    " - zip(seq1 [, seq2 [...]]) -> [(seq1[0], seq2[0] ...), (...)]\n",
    "   - Return a list of tuples, where each tuple contains the i-th element from each of the argument sequences.  The returned list is truncated in length to the length of the shortest argument sequence.\n",
    "\n",
    "\n",
    "![zip](./numpynotes-2-statistics-and-probability/zip.png)"
   ]
  },
  {
   "cell_type": "markdown",
   "metadata": {},
   "source": [
    "### 数据合成例子"
   ]
  },
  {
   "cell_type": "code",
   "execution_count": 1,
   "metadata": {},
   "outputs": [
    {
     "ename": "NameError",
     "evalue": "global name 'weighted_cartesian_choice' is not defined",
     "output_type": "error",
     "traceback": [
      "\u001b[0;31m---------------------------------------------------------------------------\u001b[0m",
      "\u001b[0;31mNameError\u001b[0m                                 Traceback (most recent call last)",
      "\u001b[0;32m<ipython-input-1-e05a0d5332a5>\u001b[0m in \u001b[0;36m<module>\u001b[0;34m()\u001b[0m\n\u001b[1;32m     65\u001b[0m \u001b[0memployee\u001b[0m \u001b[0;34m=\u001b[0m \u001b[0mrecruit_employee\u001b[0m\u001b[0;34m(\u001b[0m\u001b[0;34m)\u001b[0m\u001b[0;34m\u001b[0m\u001b[0m\n\u001b[1;32m     66\u001b[0m \u001b[0;32mfor\u001b[0m \u001b[0m_\u001b[0m \u001b[0;32min\u001b[0m \u001b[0mrange\u001b[0m\u001b[0;34m(\u001b[0m\u001b[0;36m8\u001b[0m\u001b[0;34m)\u001b[0m\u001b[0;34m:\u001b[0m\u001b[0;34m\u001b[0m\u001b[0m\n\u001b[0;32m---> 67\u001b[0;31m     \u001b[0;32mprint\u001b[0m\u001b[0;34m(\u001b[0m\u001b[0mnext\u001b[0m\u001b[0;34m(\u001b[0m\u001b[0memployee\u001b[0m\u001b[0;34m)\u001b[0m\u001b[0;34m)\u001b[0m\u001b[0;34m\u001b[0m\u001b[0m\n\u001b[0m",
      "\u001b[0;32m<ipython-input-1-e05a0d5332a5>\u001b[0m in \u001b[0;36msynthesize\u001b[0;34m()\u001b[0m\n\u001b[1;32m     46\u001b[0m     \u001b[0;32mdef\u001b[0m \u001b[0msynthesize\u001b[0m\u001b[0;34m(\u001b[0m\u001b[0;34m)\u001b[0m\u001b[0;34m:\u001b[0m\u001b[0;34m\u001b[0m\u001b[0m\n\u001b[1;32m     47\u001b[0m         \u001b[0;32mwhile\u001b[0m \u001b[0mTrue\u001b[0m\u001b[0;34m:\u001b[0m\u001b[0;34m\u001b[0m\u001b[0m\n\u001b[0;32m---> 48\u001b[0;31m             \u001b[0mres\u001b[0m \u001b[0;34m=\u001b[0m \u001b[0mchoice\u001b[0m\u001b[0;34m(\u001b[0m\u001b[0mdata\u001b[0m\u001b[0;34m,\u001b[0m \u001b[0mweights\u001b[0m\u001b[0;34m)\u001b[0m\u001b[0;34m\u001b[0m\u001b[0m\n\u001b[0m\u001b[1;32m     49\u001b[0m             \u001b[0;32mif\u001b[0m \u001b[0;32mnot\u001b[0m \u001b[0mrepeats\u001b[0m\u001b[0;34m:\u001b[0m\u001b[0;34m\u001b[0m\u001b[0m\n\u001b[1;32m     50\u001b[0m                 \u001b[0msres\u001b[0m \u001b[0;34m=\u001b[0m \u001b[0mstr\u001b[0m\u001b[0;34m(\u001b[0m\u001b[0mres\u001b[0m\u001b[0;34m)\u001b[0m\u001b[0;34m\u001b[0m\u001b[0m\n",
      "\u001b[0;32m<ipython-input-1-e05a0d5332a5>\u001b[0m in \u001b[0;36mchoice\u001b[0;34m(data, weights)\u001b[0m\n\u001b[1;32m     41\u001b[0m     \u001b[0;32mdef\u001b[0m \u001b[0mchoice\u001b[0m\u001b[0;34m(\u001b[0m\u001b[0mdata\u001b[0m\u001b[0;34m,\u001b[0m \u001b[0mweights\u001b[0m\u001b[0;34m)\u001b[0m\u001b[0;34m:\u001b[0m\u001b[0;34m\u001b[0m\u001b[0m\n\u001b[1;32m     42\u001b[0m         \u001b[0;32mif\u001b[0m \u001b[0mweights\u001b[0m\u001b[0;34m:\u001b[0m\u001b[0;34m\u001b[0m\u001b[0m\n\u001b[0;32m---> 43\u001b[0;31m             \u001b[0;32mreturn\u001b[0m \u001b[0mweighted_cartesian_choice\u001b[0m\u001b[0;34m(\u001b[0m\u001b[0;34m*\u001b[0m\u001b[0mzip\u001b[0m\u001b[0;34m(\u001b[0m\u001b[0mdata\u001b[0m\u001b[0;34m,\u001b[0m \u001b[0mweights\u001b[0m\u001b[0;34m)\u001b[0m\u001b[0;34m)\u001b[0m\u001b[0;34m\u001b[0m\u001b[0m\n\u001b[0m\u001b[1;32m     44\u001b[0m         \u001b[0;32melse\u001b[0m\u001b[0;34m:\u001b[0m\u001b[0;34m\u001b[0m\u001b[0m\n\u001b[1;32m     45\u001b[0m             \u001b[0;32mreturn\u001b[0m \u001b[0mcartesian_choice\u001b[0m\u001b[0;34m(\u001b[0m\u001b[0;34m*\u001b[0m\u001b[0mdata\u001b[0m\u001b[0;34m)\u001b[0m\u001b[0;34m\u001b[0m\u001b[0m\n",
      "\u001b[0;31mNameError\u001b[0m: global name 'weighted_cartesian_choice' is not defined"
     ]
    }
   ],
   "source": [
    "weighted_firstnames = [ (\"John\", 80), (\"Eve\", 70), (\"Jane\", 2), \n",
    "                        (\"Paul\", 8), (\"Frank\", 20), (\"Laura\", 6), \n",
    "                        (\"Robert\", 17), (\"Zoe\", 3), (\"Roger\", 8), \n",
    "                        (\"Simone\", 9), (\"Bernard\", 8), (\"Sarah\", 7),\n",
    "                        (\"Yvonne\", 11), (\"Bill\", 12), (\"Bernd\", 10)]\n",
    "weighted_surnames = [('Singer', 2), ('Miles', 2), ('Moore', 5), \n",
    "                     ('Looper', 1), ('Rampman', 1), ('Chopman', 1), \n",
    "                     ('Smiley', 1), ('Bychan', 1), ('Smith', 150), \n",
    "                     ('Baker', 144), ('Miller', 87), ('Cook', 5),\n",
    "                     ('Joyce', 1), ('Bush', 5), ('Shorter', 6), \n",
    "                     ('Klein', 1)]\n",
    "firstnames, weights = zip(*weighted_firstnames)\n",
    "wsum = sum(weights)\n",
    "weights_firstnames = [ 1.0 * x / wsum for x in weights]\n",
    "surnames, weights = zip(*weighted_surnames)\n",
    "wsum = sum(weights)\n",
    "weights_surnames = [ 1.0 * x / wsum for x in weights]\n",
    "weights = (weights_firstnames, weights_surnames)\n",
    "#print (firstnames, surnames)\n",
    "#print weights\n",
    "\n",
    "def synthesizer( data, weights=None, format_func=None, repeats=True):\n",
    "    \"\"\"\n",
    "    \"data\" is a tuple or list of lists or tuples containing the \n",
    "    data.\n",
    "    \n",
    "    \"weights\" is a list or tuple of lists or tuples with the \n",
    "    corresponding weights of the data lists or tuples.\n",
    "    \n",
    "    \"format_func\" is a reference to a function which defines\n",
    "    how a random result of the creator function will be formated. \n",
    "    If None,the generator \"synthesize\" will yield the list \"res\".\n",
    "    \n",
    "    If \"repeats\" is set to True, the output values yielded by \n",
    "    \"synthesize\" will not be unique.\n",
    "    \"\"\"\n",
    "    \n",
    "    if not repeats:\n",
    "        memory = set()\n",
    "        \n",
    "    def choice(data, weights):\n",
    "        if weights:\n",
    "            return weighted_cartesian_choice(*zip(data, weights))\n",
    "        else:\n",
    "            return cartesian_choice(*data)\n",
    "    def synthesize():\n",
    "        while True:\n",
    "            res = choice(data, weights)\n",
    "            if not repeats:\n",
    "                sres = str(res)\n",
    "                while sres in memory:\n",
    "                    res = choice(data, weights)\n",
    "                    sres = str(res)\n",
    "                memory.add(sres)\n",
    "            if format_func:\n",
    "                yield format_func(res)\n",
    "            else:\n",
    "                yield res\n",
    "    return synthesize\n",
    "        \n",
    "recruit_employee = synthesizer( (firstnames, surnames), \n",
    "                                weights = weights,\n",
    "                                format_func=lambda x: \" \".join(x),\n",
    "                                repeats=False)\n",
    "employee = recruit_employee()\n",
    "for _ in range(8):\n",
    "    print(next(employee))"
   ]
  },
  {
   "cell_type": "code",
   "execution_count": null,
   "metadata": {
    "collapsed": true
   },
   "outputs": [],
   "source": []
  }
 ],
 "metadata": {
  "kernelspec": {
   "display_name": "Python 3",
   "language": "python",
   "name": "python3"
  },
  "language_info": {
   "codemirror_mode": {
    "name": "ipython",
    "version": 3
   },
   "file_extension": ".py",
   "mimetype": "text/x-python",
   "name": "python",
   "nbconvert_exporter": "python",
   "pygments_lexer": "ipython3",
   "version": "3.6.2"
  }
 },
 "nbformat": 4,
 "nbformat_minor": 2
}
